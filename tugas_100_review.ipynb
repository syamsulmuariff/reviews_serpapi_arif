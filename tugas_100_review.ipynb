{
  "nbformat": 4,
  "nbformat_minor": 0,
  "metadata": {
    "colab": {
      "provenance": [],
      "collapsed_sections": [],
      "authorship_tag": "ABX9TyNan5zrzU/u5rHEB9veXD6t",
      "include_colab_link": true
    },
    "kernelspec": {
      "name": "python3",
      "display_name": "Python 3"
    },
    "language_info": {
      "name": "python"
    }
  },
  "cells": [
    {
      "cell_type": "markdown",
      "metadata": {
        "id": "view-in-github",
        "colab_type": "text"
      },
      "source": [
        "<a href=\"https://colab.research.google.com/github/syamsulmuariff/reviews_serpapi_arif/blob/main/tugas_100_review.ipynb\" target=\"_parent\"><img src=\"https://colab.research.google.com/assets/colab-badge.svg\" alt=\"Open In Colab\"/></a>"
      ]
    },
    {
      "cell_type": "code",
      "execution_count": 3,
      "metadata": {
        "colab": {
          "base_uri": "https://localhost:8080/"
        },
        "id": "c6JKPzZy9kGk",
        "outputId": "1e6ed9ce-cdcd-4bbe-9a49-a1020d2a07e5"
      },
      "outputs": [
        {
          "output_type": "stream",
          "name": "stdout",
          "text": [
            "Looking in indexes: https://pypi.org/simple, https://us-python.pkg.dev/colab-wheels/public/simple/\n",
            "Requirement already satisfied: google-search-results in /usr/local/lib/python3.7/dist-packages (2.4.1)\n",
            "Requirement already satisfied: requests in /usr/local/lib/python3.7/dist-packages (from google-search-results) (2.23.0)\n",
            "Requirement already satisfied: certifi>=2017.4.17 in /usr/local/lib/python3.7/dist-packages (from requests->google-search-results) (2022.9.24)\n",
            "Requirement already satisfied: urllib3!=1.25.0,!=1.25.1,<1.26,>=1.21.1 in /usr/local/lib/python3.7/dist-packages (from requests->google-search-results) (1.24.3)\n",
            "Requirement already satisfied: chardet<4,>=3.0.2 in /usr/local/lib/python3.7/dist-packages (from requests->google-search-results) (3.0.4)\n",
            "Requirement already satisfied: idna<3,>=2.5 in /usr/local/lib/python3.7/dist-packages (from requests->google-search-results) (2.10)\n"
          ]
        }
      ],
      "source": [
        "pip install google-search-results"
      ]
    },
    {
      "cell_type": "code",
      "source": [
        "from serpapi import GoogleSearch\n",
        "\n",
        "params = {\n",
        "  \"api_key\": \"b77985061bea13234fff243aec3d87ae16559070f08d57000bdc60c437459935\",\n",
        "  \"device\": \"desktop\",\n",
        "  \"engine\": \"google_maps\",\n",
        "  \"type\": \"search\",\n",
        "  \"google_domain\": \"google.com\",\n",
        "  \"q\": \"restaurant\",\n",
        "  \"hl\": \"id\",\n",
        "  \"ll\": \"@-6.748673,111.037923,14z\"\n",
        "}\n",
        "\n",
        "search = GoogleSearch(params)\n",
        "results = search.get_dict()\n",
        "local_results = results[\"local_results\"]"
      ],
      "metadata": {
        "colab": {
          "base_uri": "https://localhost:8080/"
        },
        "id": "THIQCRqN_4o9",
        "outputId": "eba52346-b666-4f7c-a691-992e5db75984"
      },
      "execution_count": 51,
      "outputs": [
        {
          "output_type": "stream",
          "name": "stdout",
          "text": [
            "https://serpapi.com/search\n"
          ]
        }
      ]
    },
    {
      "cell_type": "code",
      "source": [
        "local_results"
      ],
      "metadata": {
        "colab": {
          "base_uri": "https://localhost:8080/"
        },
        "id": "Q8Menhw1BXOO",
        "outputId": "1a908845-a825-4aa6-ab40-a345a9527e7f"
      },
      "execution_count": 50,
      "outputs": [
        {
          "output_type": "execute_result",
          "data": {
            "text/plain": [
              "[{'position': 1,\n",
              "  'title': '\"Fast Food Restaurant\"',\n",
              "  'place_id': 'ChIJ9wqAr6rTcC4RWnrZGH_Aikk',\n",
              "  'data_id': '0x2e70d3aaaf800af7:0x498ac07f18d97a5a',\n",
              "  'data_cid': '5299259563665095258',\n",
              "  'reviews_link': 'https://serpapi.com/search.json?data_id=0x2e70d3aaaf800af7%3A0x498ac07f18d97a5a&engine=google_maps_reviews&hl=id',\n",
              "  'photos_link': 'https://serpapi.com/search.json?data_id=0x2e70d3aaaf800af7%3A0x498ac07f18d97a5a&engine=google_maps_photos&hl=id',\n",
              "  'gps_coordinates': {'latitude': -6.7443399, 'longitude': 111.0454425},\n",
              "  'place_id_search': 'https://serpapi.com/search.json?data=%214m5%213m4%211s0x2e70d3aaaf800af7%3A0x498ac07f18d97a5a%218m2%213d-6.7443399%214d111.0454425&engine=google_maps&google_domain=google.com&hl=id&type=place',\n",
              "  'unclaimed_listing': True,\n",
              "  'type': 'Restoran',\n",
              "  'address': '724W+758, Jl. Kembang Joyo, Ngembleb, Kutoharjo, Kec. Pati, Kabupaten Pati, Jawa Tengah 59118, Indonesia',\n",
              "  'service_options': {'makan_di_tempat': True, 'bawa_pulang': True},\n",
              "  'thumbnail': 'https://streetviewpixels-pa.googleapis.com/v1/thumbnail?panoid=56aTLxIpGb7PRDhgiPpj-Q&cb_client=search.gws-prod.gps&w=80&h=92&yaw=225.49535&pitch=0&thumbfov=100'},\n",
              " {'position': 2,\n",
              "  'title': 'Fast Food Restaurant',\n",
              "  'place_id': 'ChIJw13uOF7ScC4RmsRX-pqfV7k',\n",
              "  'data_id': '0x2e70d25e38ee5dc3:0xb9579f9afa57c49a',\n",
              "  'data_cid': '13355318707964331162',\n",
              "  'reviews_link': 'https://serpapi.com/search.json?data_id=0x2e70d25e38ee5dc3%3A0xb9579f9afa57c49a&engine=google_maps_reviews&hl=id',\n",
              "  'photos_link': 'https://serpapi.com/search.json?data_id=0x2e70d25e38ee5dc3%3A0xb9579f9afa57c49a&engine=google_maps_photos&hl=id',\n",
              "  'gps_coordinates': {'latitude': -6.764174, 'longitude': 111.04209039999999},\n",
              "  'place_id_search': 'https://serpapi.com/search.json?data=%214m5%213m4%211s0x2e70d25e38ee5dc3%3A0xb9579f9afa57c49a%218m2%213d-6.764174%214d111.04209039999999&engine=google_maps&google_domain=google.com&hl=id&type=place',\n",
              "  'unclaimed_listing': True,\n",
              "  'type': 'Restoran',\n",
              "  'address': 'Tempel, Panjunan, Kec. Pati, Kabupaten Pati, Jawa Tengah, Indonesia',\n",
              "  'service_options': {'makan_di_tempat': True, 'bawa_pulang': True},\n",
              "  'thumbnail': 'https://streetviewpixels-pa.googleapis.com/v1/thumbnail?panoid=q17MWl2bUpwLItAJn327PQ&cb_client=search.gws-prod.gps&w=80&h=92&yaw=98.31555&pitch=0&thumbfov=100'},\n",
              " {'position': 3,\n",
              "  'title': 'HARMONIS restaurant',\n",
              "  'place_id': 'ChIJoS-6DqrTcC4R-Nlp99Sq3CE',\n",
              "  'data_id': '0x2e70d3aa0eba2fa1:0x21dcaad4f769d9f8',\n",
              "  'data_cid': '2440012929788664312',\n",
              "  'reviews_link': 'https://serpapi.com/search.json?data_id=0x2e70d3aa0eba2fa1%3A0x21dcaad4f769d9f8&engine=google_maps_reviews&hl=id',\n",
              "  'photos_link': 'https://serpapi.com/search.json?data_id=0x2e70d3aa0eba2fa1%3A0x21dcaad4f769d9f8&engine=google_maps_photos&hl=id',\n",
              "  'gps_coordinates': {'latitude': -6.7408044, 'longitude': 111.04550239999999},\n",
              "  'place_id_search': 'https://serpapi.com/search.json?data=%214m5%213m4%211s0x2e70d3aa0eba2fa1%3A0x21dcaad4f769d9f8%218m2%213d-6.7408044%214d111.04550239999999&engine=google_maps&google_domain=google.com&hl=id&type=place',\n",
              "  'rating': 4.5,\n",
              "  'reviews': 4,\n",
              "  'unclaimed_listing': True,\n",
              "  'type': 'Restoran',\n",
              "  'address': '725W+M6C, Ngipik, Kutoharjo, Kec. Pati, Kabupaten Pati, Jawa Tengah 59118, Indonesia',\n",
              "  'open_state': 'Tutup ⋅ Buka Sen pukul 06.00',\n",
              "  'hours': 'Tutup ⋅ Buka Sen pukul 06.00',\n",
              "  'operating_hours': {'minggu': '06.00–17.00',\n",
              "   'senin': '06.00–17.00',\n",
              "   'selasa': '06.00–17.00',\n",
              "   'rabu': '06.00–17.00',\n",
              "   'kamis': '06.00–17.00',\n",
              "   'jumat': 'Tutup',\n",
              "   'sabtu': '06.00–17.00'},\n",
              "  'phone': '+62 295 384825',\n",
              "  'service_options': {'makan_di_tempat': True, 'bawa_pulang': True},\n",
              "  'thumbnail': 'https://streetviewpixels-pa.googleapis.com/v1/thumbnail?panoid=QGwhTa2WqNtBRHu_VerD3A&cb_client=search.gws-prod.gps&w=80&h=92&yaw=329.53177&pitch=0&thumbfov=100'},\n",
              " {'position': 4,\n",
              "  'title': 'Warung Makan Kamandowo',\n",
              "  'place_id': 'ChIJ_20DYFDScC4RfhURA8ubNLI',\n",
              "  'data_id': '0x2e70d25060036dff:0xb2349bcb0311157e',\n",
              "  'data_cid': '12841059733772244350',\n",
              "  'reviews_link': 'https://serpapi.com/search.json?data_id=0x2e70d25060036dff%3A0xb2349bcb0311157e&engine=google_maps_reviews&hl=id',\n",
              "  'photos_link': 'https://serpapi.com/search.json?data_id=0x2e70d25060036dff%3A0xb2349bcb0311157e&engine=google_maps_photos&hl=id',\n",
              "  'gps_coordinates': {'latitude': -6.7542827999999995,\n",
              "   'longitude': 111.0366835},\n",
              "  'place_id_search': 'https://serpapi.com/search.json?data=%214m5%213m4%211s0x2e70d25060036dff%3A0xb2349bcb0311157e%218m2%213d-6.7542827999999995%214d111.0366835&engine=google_maps&google_domain=google.com&hl=id&type=place',\n",
              "  'rating': 4.2,\n",
              "  'reviews': 141,\n",
              "  'price': '$$',\n",
              "  'unclaimed_listing': True,\n",
              "  'type': 'Restoran Jawa',\n",
              "  'address': 'Jl. Kamandowo No.15, Pati Kidul, Kec. Pati, Kabupaten Pati, Jawa Tengah 59114, Indonesia',\n",
              "  'open_state': 'Tutup ⋅ Buka Sen pukul 07.30',\n",
              "  'hours': 'Tutup ⋅ Buka Sen pukul 07.30',\n",
              "  'operating_hours': {'minggu': 'Tutup',\n",
              "   'senin': '07.30–17.00',\n",
              "   'selasa': '07.30–17.00',\n",
              "   'rabu': '07.30–17.00',\n",
              "   'kamis': '07.30–17.00',\n",
              "   'jumat': '07.30–17.00',\n",
              "   'sabtu': '07.30–17.00'},\n",
              "  'phone': '+62 813-2511-3107',\n",
              "  'service_options': {'makan_di_tempat': True, 'bawa_pulang': True},\n",
              "  'thumbnail': 'https://lh5.googleusercontent.com/p/AF1QipPEF7i9Hef6mIjjoHKm5qF6ilwgQNeuw9b7ct-P=w163-h92-k-no'},\n",
              " {'position': 5,\n",
              "  'title': 'BOS DIMSUM PATI',\n",
              "  'place_id': 'ChIJO1orrYHTcC4RVnmdTh9G15o',\n",
              "  'data_id': '0x2e70d381ad2b5a3b:0x9ad7461f4e9d7956',\n",
              "  'data_cid': '11157463702110566742',\n",
              "  'reviews_link': 'https://serpapi.com/search.json?data_id=0x2e70d381ad2b5a3b%3A0x9ad7461f4e9d7956&engine=google_maps_reviews&hl=id',\n",
              "  'photos_link': 'https://serpapi.com/search.json?data_id=0x2e70d381ad2b5a3b%3A0x9ad7461f4e9d7956&engine=google_maps_photos&hl=id',\n",
              "  'gps_coordinates': {'latitude': -6.743092799999999,\n",
              "   'longitude': 111.0417514},\n",
              "  'place_id_search': 'https://serpapi.com/search.json?data=%214m5%213m4%211s0x2e70d381ad2b5a3b%3A0x9ad7461f4e9d7956%218m2%213d-6.743092799999999%214d111.0417514&engine=google_maps&google_domain=google.com&hl=id&type=place',\n",
              "  'rating': 4.6,\n",
              "  'reviews': 12,\n",
              "  'type': 'Restoran Dim Sum',\n",
              "  'address': 'Jl. Dr. Susanto Jl. Randu Kuning No.85, Randukuning, Pati Lor, Kec. Pati, Kabupaten Pati, Jawa Tengah 59111, Indonesia',\n",
              "  'open_state': 'Segera tutup ⋅ 20.00 ⋅ Buka Sen pukul 11.00',\n",
              "  'hours': 'Segera tutup ⋅ 20.00 ⋅ Buka Sen pukul 11.00',\n",
              "  'operating_hours': {'minggu': '11.00–20.00',\n",
              "   'senin': '11.00–20.00',\n",
              "   'selasa': '11.00–20.00',\n",
              "   'rabu': '11.00–20.00',\n",
              "   'kamis': '11.00–20.00',\n",
              "   'jumat': '11.00–20.00',\n",
              "   'sabtu': '11.00–20.00'},\n",
              "  'phone': '+62 812-2758-4299',\n",
              "  'service_options': {'makan_di_tempat': True,\n",
              "   'bawa_pulang': True,\n",
              "   'pesan_antar': True},\n",
              "  'thumbnail': 'https://lh5.googleusercontent.com/p/AF1QipMVu9JTru_eY1h5yVp2F71rliRcE2NUc0UwT04=w80-h106-k-no'},\n",
              " {'position': 6,\n",
              "  'title': 'Salza Restaurant & Convention Hall',\n",
              "  'place_id': 'ChIJ25rdKFfScC4RlMFlpVohQkc',\n",
              "  'data_id': '0x2e70d25728dd9adb:0x4742215aa565c194',\n",
              "  'data_cid': '5134703198361469332',\n",
              "  'reviews_link': 'https://serpapi.com/search.json?data_id=0x2e70d25728dd9adb%3A0x4742215aa565c194&engine=google_maps_reviews&hl=id',\n",
              "  'photos_link': 'https://serpapi.com/search.json?data_id=0x2e70d25728dd9adb%3A0x4742215aa565c194&engine=google_maps_photos&hl=id',\n",
              "  'gps_coordinates': {'latitude': -6.7530145, 'longitude': 111.04085149999999},\n",
              "  'place_id_search': 'https://serpapi.com/search.json?data=%214m5%213m4%211s0x2e70d25728dd9adb%3A0x4742215aa565c194%218m2%213d-6.7530145%214d111.04085149999999&engine=google_maps&google_domain=google.com&hl=id&type=place',\n",
              "  'rating': 4,\n",
              "  'reviews': 85,\n",
              "  'price': '$$',\n",
              "  'type': 'Restoran Seafood',\n",
              "  'address': 'Jl. Tombronegoro No.1, Kaborongan, Pati Lor, Kec. Pati, Kabupaten Pati, Jawa Tengah 59115, Indonesia',\n",
              "  'open_state': 'Buka ⋅ Tutup pukul 00.00',\n",
              "  'hours': 'Buka ⋅ Tutup pukul 00.00',\n",
              "  'operating_hours': {'minggu': '08.00–00.00',\n",
              "   'senin': '08.00–00.00',\n",
              "   'selasa': '08.00–00.00',\n",
              "   'rabu': '08.00–00.00',\n",
              "   'kamis': '08.00–00.00',\n",
              "   'jumat': '08.00–00.00',\n",
              "   'sabtu': '08.00–00.00'},\n",
              "  'phone': '+62 295 384247',\n",
              "  'service_options': {'makan_di_tempat': True, 'bawa_pulang': True},\n",
              "  'thumbnail': 'https://lh5.googleusercontent.com/p/AF1QipOwTWNO1WtIi-tXltFohYsDCgZ575WIjnHo_G4U=w163-h92-k-no'},\n",
              " {'position': 7,\n",
              "  'title': 'Fast Food Restaurant',\n",
              "  'place_id': 'ChIJyft1N_nScC4R2sV7iX5iFJY',\n",
              "  'data_id': '0x2e70d2f93775fbc9:0x9614627e897bc5da',\n",
              "  'data_cid': '10814376900835395034',\n",
              "  'reviews_link': 'https://serpapi.com/search.json?data_id=0x2e70d2f93775fbc9%3A0x9614627e897bc5da&engine=google_maps_reviews&hl=id',\n",
              "  'photos_link': 'https://serpapi.com/search.json?data_id=0x2e70d2f93775fbc9%3A0x9614627e897bc5da&engine=google_maps_photos&hl=id',\n",
              "  'gps_coordinates': {'latitude': -6.7503826, 'longitude': 111.0503236},\n",
              "  'place_id_search': 'https://serpapi.com/search.json?data=%214m5%213m4%211s0x2e70d2f93775fbc9%3A0x9614627e897bc5da%218m2%213d-6.7503826%214d111.0503236&engine=google_maps&google_domain=google.com&hl=id&type=place',\n",
              "  'unclaimed_listing': True,\n",
              "  'type': 'Restoran',\n",
              "  'address': 'Klegen, Kalidoro, Kec. Pati, Kabupaten Pati, Jawa Tengah, Indonesia',\n",
              "  'service_options': {'makan_di_tempat': True, 'bawa_pulang': True},\n",
              "  'thumbnail': 'https://streetviewpixels-pa.googleapis.com/v1/thumbnail?panoid=FxP9VE_8PvUbAuiq5NncPw&cb_client=search.gws-prod.gps&w=80&h=92&yaw=213.21463&pitch=0&thumbfov=100'},\n",
              " {'position': 8,\n",
              "  'title': 'Nasi Goreng Mas Win',\n",
              "  'place_id': 'ChIJI3FGULbTcC4RmZT0tZ5VbwA',\n",
              "  'data_id': '0x2e70d3b650467123:0x6f559eb5f49499',\n",
              "  'data_cid': '31337862560781465',\n",
              "  'reviews_link': 'https://serpapi.com/search.json?data_id=0x2e70d3b650467123%3A0x6f559eb5f49499&engine=google_maps_reviews&hl=id',\n",
              "  'photos_link': 'https://serpapi.com/search.json?data_id=0x2e70d3b650467123%3A0x6f559eb5f49499&engine=google_maps_photos&hl=id',\n",
              "  'gps_coordinates': {'latitude': -6.7388737, 'longitude': 111.0245041},\n",
              "  'place_id_search': 'https://serpapi.com/search.json?data=%214m5%213m4%211s0x2e70d3b650467123%3A0x6f559eb5f49499%218m2%213d-6.7388737%214d111.0245041&engine=google_maps&google_domain=google.com&hl=id&type=place',\n",
              "  'rating': 4.7,\n",
              "  'reviews': 28,\n",
              "  'price': '$',\n",
              "  'type': 'Restoran Halal',\n",
              "  'address': 'Rendole Indah, Muktiharjo, Kec. Margorejo, Kabupaten Pati, Jawa Tengah 59111, Indonesia',\n",
              "  'open_state': 'Buka ⋅ Tutup pukul 00.00',\n",
              "  'hours': 'Buka ⋅ Tutup pukul 00.00',\n",
              "  'operating_hours': {'minggu': '17.00–00.00',\n",
              "   'senin': '17.00–00.00',\n",
              "   'selasa': '17.00–00.00',\n",
              "   'rabu': '17.00–00.00',\n",
              "   'kamis': '17.00–00.00',\n",
              "   'jumat': '17.00–00.00',\n",
              "   'sabtu': '17.00–00.00'},\n",
              "  'phone': '+62 823-6803-8866',\n",
              "  'website': 'https://m.facebook.com/Nasi-Goreng-Raja-Pawon-Solo-Depan-Stadion-Joyo-Kusumo-251572394997176/',\n",
              "  'service_options': {'makan_di_tempat': True, 'bawa_pulang': True},\n",
              "  'thumbnail': 'https://lh5.googleusercontent.com/p/AF1QipM3HlY8PPd7W-oCI49zF6CpTgt7R_M-l5vmUcsT=w163-h92-k-no'},\n",
              " {'position': 9,\n",
              "  'title': 'The Dona&Doni Resto, Pool & Spa',\n",
              "  'place_id': 'ChIJP3K98bPTcC4RSTJLox-cb0Q',\n",
              "  'data_id': '0x2e70d3b3f1bd723f:0x446f9c1fa34b3249',\n",
              "  'data_cid': '4931331776691515977',\n",
              "  'reviews_link': 'https://serpapi.com/search.json?data_id=0x2e70d3b3f1bd723f%3A0x446f9c1fa34b3249&engine=google_maps_reviews&hl=id',\n",
              "  'photos_link': 'https://serpapi.com/search.json?data_id=0x2e70d3b3f1bd723f%3A0x446f9c1fa34b3249&engine=google_maps_photos&hl=id',\n",
              "  'gps_coordinates': {'latitude': -6.7416371999999996,\n",
              "   'longitude': 111.02874879999999},\n",
              "  'place_id_search': 'https://serpapi.com/search.json?data=%214m5%213m4%211s0x2e70d3b3f1bd723f%3A0x446f9c1fa34b3249%218m2%213d-6.7416371999999996%214d111.02874879999999&engine=google_maps&google_domain=google.com&hl=id&type=place',\n",
              "  'rating': 4.2,\n",
              "  'reviews': 710,\n",
              "  'price': '$$',\n",
              "  'type': 'Restoran',\n",
              "  'address': 'Jl, Kol. Sugiono Gg. Anugerah Kav. I No.100, Ngagul, Winong, Kec. Pati, Kabupaten Pati, Jawa Tengah 59112, Indonesia',\n",
              "  'open_state': 'Segera tutup ⋅ 20.00 ⋅ Buka Sen pukul 11.00',\n",
              "  'hours': 'Segera tutup ⋅ 20.00 ⋅ Buka Sen pukul 11.00',\n",
              "  'operating_hours': {'minggu': '11.00–20.00',\n",
              "   'senin': '11.00–20.00',\n",
              "   'selasa': '11.00–20.00',\n",
              "   'rabu': '11.00–20.00',\n",
              "   'kamis': '11.00–20.00',\n",
              "   'jumat': '11.00–20.00',\n",
              "   'sabtu': '11.00–20.00'},\n",
              "  'phone': '+62 295 385112',\n",
              "  'service_options': {'makan_di_tempat': True,\n",
              "   'bawa_pulang': True,\n",
              "   'antar_tanpa_bertemu': True},\n",
              "  'thumbnail': 'https://lh5.googleusercontent.com/p/AF1QipOQHjO4JTCpJWQWJYMN9fSCWO1aiZjrUvgNBDxE=w138-h92-k-no'},\n",
              " {'position': 10,\n",
              "  'title': 'Fast Food Restaurant',\n",
              "  'place_id': 'ChIJ1XZc_HrScC4RiJvvdsNjDy8',\n",
              "  'data_id': '0x2e70d27afc5c76d5:0x2f0f63c376ef9b88',\n",
              "  'data_cid': '3391038735598459784',\n",
              "  'reviews_link': 'https://serpapi.com/search.json?data_id=0x2e70d27afc5c76d5%3A0x2f0f63c376ef9b88&engine=google_maps_reviews&hl=id',\n",
              "  'photos_link': 'https://serpapi.com/search.json?data_id=0x2e70d27afc5c76d5%3A0x2f0f63c376ef9b88&engine=google_maps_photos&hl=id',\n",
              "  'gps_coordinates': {'latitude': -6.7777604, 'longitude': 111.0369771},\n",
              "  'place_id_search': 'https://serpapi.com/search.json?data=%214m5%213m4%211s0x2e70d27afc5c76d5%3A0x2f0f63c376ef9b88%218m2%213d-6.7777604%214d111.0369771&engine=google_maps&google_domain=google.com&hl=id&type=place',\n",
              "  'unclaimed_listing': True,\n",
              "  'type': 'Restoran',\n",
              "  'address': 'Jetak, Langenharjo, Kec. Margorejo, Kabupaten Pati, Jawa Tengah, Indonesia',\n",
              "  'service_options': {'makan_di_tempat': True, 'bawa_pulang': True},\n",
              "  'thumbnail': 'https://streetviewpixels-pa.googleapis.com/v1/thumbnail?panoid=evUk6mC3L1UadwkkYPaceQ&cb_client=search.gws-prod.gps&w=80&h=92&yaw=290.68475&pitch=0&thumbfov=100'},\n",
              " {'position': 11,\n",
              "  'title': 'Fast Food Restaurant',\n",
              "  'place_id': 'ChIJFU1fwsvTcC4RVjb07xvFdv8',\n",
              "  'data_id': '0x2e70d3cbc25f4d15:0xff76c51beff43656',\n",
              "  'data_cid': '18408117250704029270',\n",
              "  'reviews_link': 'https://serpapi.com/search.json?data_id=0x2e70d3cbc25f4d15%3A0xff76c51beff43656&engine=google_maps_reviews&hl=id',\n",
              "  'photos_link': 'https://serpapi.com/search.json?data_id=0x2e70d3cbc25f4d15%3A0xff76c51beff43656&engine=google_maps_photos&hl=id',\n",
              "  'gps_coordinates': {'latitude': -6.741976299999999,\n",
              "   'longitude': 111.0178411},\n",
              "  'place_id_search': 'https://serpapi.com/search.json?data=%214m5%213m4%211s0x2e70d3cbc25f4d15%3A0xff76c51beff43656%218m2%213d-6.741976299999999%214d111.0178411&engine=google_maps&google_domain=google.com&hl=id&type=place',\n",
              "  'unclaimed_listing': True,\n",
              "  'type': 'Restoran',\n",
              "  'address': 'Rendole Indah, Muktiharjo, Kec. Margorejo, Kabupaten Pati, Jawa Tengah, Indonesia',\n",
              "  'service_options': {'makan_di_tempat': True, 'bawa_pulang': True},\n",
              "  'thumbnail': 'https://streetviewpixels-pa.googleapis.com/v1/thumbnail?panoid=r9LM-00AQmQpVV0teNrjgA&cb_client=search.gws-prod.gps&w=80&h=92&yaw=187.92372&pitch=0&thumbfov=100'},\n",
              " {'position': 12,\n",
              "  'title': 'Semesta Pati',\n",
              "  'place_id': 'ChIJNdKGiarTcC4RpzDspK6Iczw',\n",
              "  'data_id': '0x2e70d3aa8986d235:0x3c7388aea4ec30a7',\n",
              "  'data_cid': '4355975548270031015',\n",
              "  'reviews_link': 'https://serpapi.com/search.json?data_id=0x2e70d3aa8986d235%3A0x3c7388aea4ec30a7&engine=google_maps_reviews&hl=id',\n",
              "  'photos_link': 'https://serpapi.com/search.json?data_id=0x2e70d3aa8986d235%3A0x3c7388aea4ec30a7&engine=google_maps_photos&hl=id',\n",
              "  'gps_coordinates': {'latitude': -6.7543381, 'longitude': 111.03189259999999},\n",
              "  'place_id_search': 'https://serpapi.com/search.json?data=%214m5%213m4%211s0x2e70d3aa8986d235%3A0x3c7388aea4ec30a7%218m2%213d-6.7543381%214d111.03189259999999&engine=google_maps&google_domain=google.com&hl=id&type=place',\n",
              "  'rating': 4.5,\n",
              "  'reviews': 65,\n",
              "  'type': 'Restoran',\n",
              "  'address': 'Jalan Supriyadi no 49 Juanalan, Pati Kidul, Pati, Pati Regency, Central Java 59114, Indonesia',\n",
              "  'open_state': 'Buka ⋅ Tutup pukul 22.00',\n",
              "  'hours': 'Buka ⋅ Tutup pukul 22.00',\n",
              "  'operating_hours': {'minggu': '10.00–22.00',\n",
              "   'senin': '10.00–22.00',\n",
              "   'selasa': '10.00–22.00',\n",
              "   'rabu': '10.00–22.00',\n",
              "   'kamis': '10.00–22.00',\n",
              "   'jumat': '10.00–22.00',\n",
              "   'sabtu': '10.00–22.00'},\n",
              "  'phone': '+62 811-2506-771',\n",
              "  'service_options': {'makan_di_tempat': True,\n",
              "   'bawa_pulang': True,\n",
              "   'antar_tanpa_bertemu': True},\n",
              "  'thumbnail': 'https://lh5.googleusercontent.com/p/AF1QipMHtjh0mbnvDwDAD8RavHOGSsd8df0Bnt-n9KUy=w137-h92-k-no'},\n",
              " {'position': 13,\n",
              "  'title': 'OMAH CABE PATI',\n",
              "  'place_id': 'ChIJJ35rV1HScC4RAz-jBPYY7lM',\n",
              "  'data_id': '0x2e70d251576b7e27:0x53ee18f604a33f03',\n",
              "  'data_cid': '6047798794523983619',\n",
              "  'reviews_link': 'https://serpapi.com/search.json?data_id=0x2e70d251576b7e27%3A0x53ee18f604a33f03&engine=google_maps_reviews&hl=id',\n",
              "  'photos_link': 'https://serpapi.com/search.json?data_id=0x2e70d251576b7e27%3A0x53ee18f604a33f03&engine=google_maps_photos&hl=id',\n",
              "  'gps_coordinates': {'latitude': -6.7504520999999995,\n",
              "   'longitude': 111.0395355},\n",
              "  'place_id_search': 'https://serpapi.com/search.json?data=%214m5%213m4%211s0x2e70d251576b7e27%3A0x53ee18f604a33f03%218m2%213d-6.7504520999999995%214d111.0395355&engine=google_maps&google_domain=google.com&hl=id&type=place',\n",
              "  'rating': 4.3,\n",
              "  'reviews': 3029,\n",
              "  'price': '$$',\n",
              "  'type': 'Restoran Jawa',\n",
              "  'address': 'Jl. R. A. Kartini, Kaborongan, Pati Lor, Kec. Pati, Kabupaten Pati, Jawa Tengah 59111, Indonesia',\n",
              "  'open_state': 'Buka ⋅ Tutup pukul 22.00',\n",
              "  'hours': 'Buka ⋅ Tutup pukul 22.00',\n",
              "  'operating_hours': {'minggu': '08.00–22.00',\n",
              "   'senin': '08.00–22.00',\n",
              "   'selasa': '08.00–22.00',\n",
              "   'rabu': '08.00–22.00',\n",
              "   'kamis': '08.00–22.00',\n",
              "   'jumat': '08.00–22.00',\n",
              "   'sabtu': '08.00–22.00'},\n",
              "  'phone': '+62 295 386594',\n",
              "  'service_options': {'makan_di_tempat': True,\n",
              "   'bawa_pulang': True,\n",
              "   'antar_tanpa_bertemu': True},\n",
              "  'thumbnail': 'https://lh5.googleusercontent.com/p/AF1QipP4EBVbV8S_ndOGc9GK97LeqGlymGpMu0520aGz=w163-h92-k-no'},\n",
              " {'position': 14,\n",
              "  'title': 'Resto Surya',\n",
              "  'place_id': 'ChIJpW2wGUzScC4RH_qKQ4bkoaM',\n",
              "  'data_id': '0x2e70d24c19b06da5:0xa3a1e486438afa1f',\n",
              "  'data_cid': '11790956564742601247',\n",
              "  'reviews_link': 'https://serpapi.com/search.json?data_id=0x2e70d24c19b06da5%3A0xa3a1e486438afa1f&engine=google_maps_reviews&hl=id',\n",
              "  'photos_link': 'https://serpapi.com/search.json?data_id=0x2e70d24c19b06da5%3A0xa3a1e486438afa1f&engine=google_maps_photos&hl=id',\n",
              "  'gps_coordinates': {'latitude': -6.7526413, 'longitude': 111.03729489999999},\n",
              "  'place_id_search': 'https://serpapi.com/search.json?data=%214m5%213m4%211s0x2e70d24c19b06da5%3A0xa3a1e486438afa1f%218m2%213d-6.7526413%214d111.03729489999999&engine=google_maps&google_domain=google.com&hl=id&type=place',\n",
              "  'rating': 4.3,\n",
              "  'reviews': 1074,\n",
              "  'price': '$$',\n",
              "  'type': 'Restoran',\n",
              "  'address': 'Jl. Jenderal Sudirman No.142, Pati Kidul, Kec. Pati, Kabupaten Pati, Jawa Tengah 59114, Indonesia',\n",
              "  'open_state': 'Buka ⋅ Tutup pukul 21.30',\n",
              "  'hours': 'Buka ⋅ Tutup pukul 21.30',\n",
              "  'operating_hours': {'minggu': '09.00–21.30',\n",
              "   'senin': '09.00–21.30',\n",
              "   'selasa': '09.00–21.30',\n",
              "   'rabu': '09.00–21.30',\n",
              "   'kamis': '09.00–21.30',\n",
              "   'jumat': '09.00–21.30',\n",
              "   'sabtu': '09.00–21.30'},\n",
              "  'phone': '+62 295 381477',\n",
              "  'service_options': {'makan_di_tempat': True,\n",
              "   'ambil_di_tepi_jalan': True,\n",
              "   'antar_tanpa_bertemu': True},\n",
              "  'thumbnail': 'https://lh5.googleusercontent.com/p/AF1QipNNCpjrtDXHSOfWvCqneXTy-1UFLjnFZTKdoX_A=w122-h92-k-no'},\n",
              " {'position': 15,\n",
              "  'title': 'Omah Kuno 1868 Diponegoro',\n",
              "  'place_id': 'ChIJY538k1PScC4RwsXFx2eaYDU',\n",
              "  'data_id': '0x2e70d25393fc9d63:0x35609a67c7c5c5c2',\n",
              "  'data_cid': '3846243852298339778',\n",
              "  'reviews_link': 'https://serpapi.com/search.json?data_id=0x2e70d25393fc9d63%3A0x35609a67c7c5c5c2&engine=google_maps_reviews&hl=id',\n",
              "  'photos_link': 'https://serpapi.com/search.json?data_id=0x2e70d25393fc9d63%3A0x35609a67c7c5c5c2&engine=google_maps_photos&hl=id',\n",
              "  'gps_coordinates': {'latitude': -6.748710699999999,\n",
              "   'longitude': 111.03899419999999},\n",
              "  'place_id_search': 'https://serpapi.com/search.json?data=%214m5%213m4%211s0x2e70d25393fc9d63%3A0x35609a67c7c5c5c2%218m2%213d-6.748710699999999%214d111.03899419999999&engine=google_maps&google_domain=google.com&hl=id&type=place',\n",
              "  'rating': 4.2,\n",
              "  'reviews': 1135,\n",
              "  'type': 'Restoran Seafood',\n",
              "  'address': 'Jl. Diponegoro No.115, Kaborongan, Pati Lor, Kec. Pati, Kabupaten Pati, Jawa Tengah 59119, Indonesia',\n",
              "  'open_state': 'Buka sekarang',\n",
              "  'phone': '+62 295 4101868',\n",
              "  'service_options': {'makan_di_tempat': True,\n",
              "   'ambil_di_tepi_jalan': True,\n",
              "   'antar_tanpa_bertemu': True},\n",
              "  'thumbnail': 'https://lh5.googleusercontent.com/p/AF1QipPDtMQIqtlaC5BIrFBiqB0Ot4_LnOmvB8PdCq2K=w122-h92-k-no'},\n",
              " {'position': 16,\n",
              "  'title': \"Geprek'an\",\n",
              "  'place_id': 'ChIJjWPP__PTcC4RjDnzzTFtznY',\n",
              "  'data_id': '0x2e70d3f3ffcf638d:0x76ce6d31cdf3398c',\n",
              "  'data_cid': '8560900002353985932',\n",
              "  'reviews_link': 'https://serpapi.com/search.json?data_id=0x2e70d3f3ffcf638d%3A0x76ce6d31cdf3398c&engine=google_maps_reviews&hl=id',\n",
              "  'photos_link': 'https://serpapi.com/search.json?data_id=0x2e70d3f3ffcf638d%3A0x76ce6d31cdf3398c&engine=google_maps_photos&hl=id',\n",
              "  'gps_coordinates': {'latitude': -6.7455114, 'longitude': 111.040774},\n",
              "  'place_id_search': 'https://serpapi.com/search.json?data=%214m5%213m4%211s0x2e70d3f3ffcf638d%3A0x76ce6d31cdf3398c%218m2%213d-6.7455114%214d111.040774&engine=google_maps&google_domain=google.com&hl=id&type=place',\n",
              "  'rating': 4.5,\n",
              "  'reviews': 401,\n",
              "  'price': '$',\n",
              "  'unclaimed_listing': True,\n",
              "  'type': 'Restoran Masakan Ayam',\n",
              "  'address': 'Jl. Dr. Susanto Gg. III No.Kelurahan, Randukuning, Pati Lor, Kec. Pati, Kabupaten Pati, Jawa Tengah 59111, Indonesia',\n",
              "  'open_state': 'Segera tutup ⋅ 20.30 ⋅ Buka Sen pukul 08.30',\n",
              "  'hours': 'Segera tutup ⋅ 20.30 ⋅ Buka Sen pukul 08.30',\n",
              "  'operating_hours': {'minggu': '08.30–20.30',\n",
              "   'senin': '08.30–20.30',\n",
              "   'selasa': '08.30–20.30',\n",
              "   'rabu': '08.30–20.30',\n",
              "   'kamis': '08.30–20.30',\n",
              "   'jumat': '08.30–20.30',\n",
              "   'sabtu': '08.30–20.30'},\n",
              "  'phone': '+62 813-2263-2537',\n",
              "  'website': 'http://keegande.blogspot.com/',\n",
              "  'service_options': {'makan_di_tempat': True,\n",
              "   'bawa_pulang': True,\n",
              "   'antar_tanpa_bertemu': True},\n",
              "  'thumbnail': 'https://lh5.googleusercontent.com/p/AF1QipMKrZqnlc81RnGQHBmnG9-RNNj4IfEOSP26w-jA=w204-h92-k-no'},\n",
              " {'position': 17,\n",
              "  'title': 'AYAM GEPREK JUARA 158 PATI',\n",
              "  'place_id': 'ChIJ_SKnczDTcC4RDtT5V1P9fOc',\n",
              "  'data_id': '0x2e70d33073a722fd:0xe77cfd5357f9d40e',\n",
              "  'data_cid': '16680485654273577998',\n",
              "  'reviews_link': 'https://serpapi.com/search.json?data_id=0x2e70d33073a722fd%3A0xe77cfd5357f9d40e&engine=google_maps_reviews&hl=id',\n",
              "  'photos_link': 'https://serpapi.com/search.json?data_id=0x2e70d33073a722fd%3A0xe77cfd5357f9d40e&engine=google_maps_photos&hl=id',\n",
              "  'gps_coordinates': {'latitude': -6.743983999999999,\n",
              "   'longitude': 111.0386206},\n",
              "  'place_id_search': 'https://serpapi.com/search.json?data=%214m5%213m4%211s0x2e70d33073a722fd%3A0xe77cfd5357f9d40e%218m2%213d-6.743983999999999%214d111.0386206&engine=google_maps&google_domain=google.com&hl=id&type=place',\n",
              "  'rating': 4.4,\n",
              "  'reviews': 150,\n",
              "  'price': '$',\n",
              "  'type': 'Restoran Masakan Ayam',\n",
              "  'address': 'Jl. Penjawi Jl. Randu Kuning No.49, Randukuning, Pati Lor, Kec. Pati, Kabupaten Pati, Jawa Tengah 59111, Indonesia',\n",
              "  'open_state': 'Buka 24 jam',\n",
              "  'hours': 'Buka 24 jam',\n",
              "  'operating_hours': {'minggu': 'Buka 24 jam',\n",
              "   'senin': 'Buka 24 jam',\n",
              "   'selasa': 'Buka 24 jam',\n",
              "   'rabu': 'Buka 24 jam',\n",
              "   'kamis': 'Buka 24 jam',\n",
              "   'jumat': 'Buka 24 jam',\n",
              "   'sabtu': 'Buka 24 jam'},\n",
              "  'phone': '+62 858-0364-3671',\n",
              "  'website': 'https://grab.onelink.me/2695613898?pid=inappsharing&c=6-CZAHCEXYTJUDTE&af_dp=grab%3A%2F%2Fopen%3FscreenType%3DGRABFOOD%26sourceID%3DA4pcqCZkS4%26merchantIDs%3D6-CZAHCEXYTJUDTE',\n",
              "  'service_options': {'makan_di_tempat': True,\n",
              "   'ambil_di_tepi_jalan': True,\n",
              "   'antar_tanpa_bertemu': True},\n",
              "  'thumbnail': 'https://lh5.googleusercontent.com/p/AF1QipNi_2K5NuYYbEkxtmvmWl5sWp7mQzkwVVn9P_D9=w123-h92-k-no'},\n",
              " {'position': 18,\n",
              "  'title': 'Resto Omah Sapi',\n",
              "  'place_id': 'ChIJcYKgv6zTcC4RThLUnJ3ehAw',\n",
              "  'data_id': '0x2e70d3acbfa08271:0xc84de9d9cd4124e',\n",
              "  'data_cid': '902090593903317582',\n",
              "  'reviews_link': 'https://serpapi.com/search.json?data_id=0x2e70d3acbfa08271%3A0xc84de9d9cd4124e&engine=google_maps_reviews&hl=id',\n",
              "  'photos_link': 'https://serpapi.com/search.json?data_id=0x2e70d3acbfa08271%3A0xc84de9d9cd4124e&engine=google_maps_photos&hl=id',\n",
              "  'gps_coordinates': {'latitude': -6.7474751, 'longitude': 111.038133},\n",
              "  'place_id_search': 'https://serpapi.com/search.json?data=%214m5%213m4%211s0x2e70d3acbfa08271%3A0xc84de9d9cd4124e%218m2%213d-6.7474751%214d111.038133&engine=google_maps&google_domain=google.com&hl=id&type=place',\n",
              "  'rating': 4.2,\n",
              "  'reviews': 396,\n",
              "  'price': '$$',\n",
              "  'unclaimed_listing': True,\n",
              "  'type': 'Restoran Bakso',\n",
              "  'address': 'Jl. Penjawi No.9, Kaborongan, Pati Lor, Kec. Pati, Kabupaten Pati, Jawa Tengah 59111, Indonesia',\n",
              "  'open_state': 'Buka ⋅ Tutup pukul 21.00',\n",
              "  'hours': 'Buka ⋅ Tutup pukul 21.00',\n",
              "  'operating_hours': {'minggu': '09.00–21.00',\n",
              "   'senin': '10.00–21.00',\n",
              "   'selasa': '10.00–21.00',\n",
              "   'rabu': '10.00–21.00',\n",
              "   'kamis': '10.00–21.00',\n",
              "   'jumat': '10.00–21.00',\n",
              "   'sabtu': '10.00–21.00'},\n",
              "  'phone': '+62 813-3001-7682',\n",
              "  'service_options': {'makan_di_tempat': True,\n",
              "   'bawa_pulang': True,\n",
              "   'pesan_antar': True},\n",
              "  'thumbnail': 'https://lh5.googleusercontent.com/p/AF1QipNevibEUmQH3I2kUuk_Pw-n-JC53-9YXgcb57le=w122-h92-k-no'},\n",
              " {'position': 19,\n",
              "  'title': 'Spicato',\n",
              "  'place_id': 'ChIJ6cXjCYvTcC4Rc-eYomwsgOs',\n",
              "  'data_id': '0x2e70d38b09e3c5e9:0xeb802c6ca298e773',\n",
              "  'data_cid': '16969612241028048755',\n",
              "  'reviews_link': 'https://serpapi.com/search.json?data_id=0x2e70d38b09e3c5e9%3A0xeb802c6ca298e773&engine=google_maps_reviews&hl=id',\n",
              "  'photos_link': 'https://serpapi.com/search.json?data_id=0x2e70d38b09e3c5e9%3A0xeb802c6ca298e773&engine=google_maps_photos&hl=id',\n",
              "  'gps_coordinates': {'latitude': -6.7580966, 'longitude': 111.03005689999999},\n",
              "  'place_id_search': 'https://serpapi.com/search.json?data=%214m5%213m4%211s0x2e70d38b09e3c5e9%3A0xeb802c6ca298e773%218m2%213d-6.7580966%214d111.03005689999999&engine=google_maps&google_domain=google.com&hl=id&type=place',\n",
              "  'rating': 4.9,\n",
              "  'reviews': 14,\n",
              "  'type': 'Restoran ayam penyet',\n",
              "  'address': 'Jl. Ronggo Warsito, Plangitan, Pati, Pati Regency, Central Java 51987, Indonesia',\n",
              "  'open_state': 'Buka ⋅ Tutup pukul 22.00',\n",
              "  'hours': 'Buka ⋅ Tutup pukul 22.00',\n",
              "  'operating_hours': {'minggu': '10.00–22.00',\n",
              "   'senin': '10.00–22.00',\n",
              "   'selasa': '10.00–22.00',\n",
              "   'rabu': '10.00–22.00',\n",
              "   'kamis': '10.00–22.00',\n",
              "   'jumat': '10.00–22.00',\n",
              "   'sabtu': '10.00–22.00'},\n",
              "  'phone': '+62 813-9198-3398',\n",
              "  'service_options': {'makan_di_tempat': True,\n",
              "   'bawa_pulang': True,\n",
              "   'pesan_antar': True},\n",
              "  'thumbnail': 'https://lh5.googleusercontent.com/p/AF1QipOtogikKLOd_6zxvxDXpVwWTfc5WiN_6ltf0BwU=w92-h92-k-no'},\n",
              " {'position': 20,\n",
              "  'title': 'Riantika Warehouse',\n",
              "  'place_id': 'ChIJ4zReTT3TcC4R68GJtjfbSXY',\n",
              "  'data_id': '0x2e70d33d4d5e34e3:0x7649db37b689c1eb',\n",
              "  'data_cid': '8523584802107539947',\n",
              "  'reviews_link': 'https://serpapi.com/search.json?data_id=0x2e70d33d4d5e34e3%3A0x7649db37b689c1eb&engine=google_maps_reviews&hl=id',\n",
              "  'photos_link': 'https://serpapi.com/search.json?data_id=0x2e70d33d4d5e34e3%3A0x7649db37b689c1eb&engine=google_maps_photos&hl=id',\n",
              "  'gps_coordinates': {'latitude': -6.7678001, 'longitude': 111.03925059999999},\n",
              "  'place_id_search': 'https://serpapi.com/search.json?data=%214m5%213m4%211s0x2e70d33d4d5e34e3%3A0x7649db37b689c1eb%218m2%213d-6.7678001%214d111.03925059999999&engine=google_maps&google_domain=google.com&hl=id&type=place',\n",
              "  'rating': 4.6,\n",
              "  'reviews': 191,\n",
              "  'price': '$',\n",
              "  'type': 'Restoran',\n",
              "  'address': 'Jl. Raya Pati-Kayen No.442, Tempel, Panjunan, Kec. Pati, Kabupaten Pati, Jawa Tengah 59116, Indonesia',\n",
              "  'open_state': 'Buka ⋅ Tutup pukul 23.00',\n",
              "  'hours': 'Buka ⋅ Tutup pukul 23.00',\n",
              "  'operating_hours': {'minggu': '09.00–23.00',\n",
              "   'senin': '09.00–23.00',\n",
              "   'selasa': '09.00–23.00',\n",
              "   'rabu': '09.00–23.00',\n",
              "   'kamis': '09.00–23.00',\n",
              "   'jumat': '09.00–23.00',\n",
              "   'sabtu': '09.00–23.00'},\n",
              "  'phone': '+62 823-2471-7277',\n",
              "  'website': 'https://online.fliphtml5.com/bumqq/mkni/',\n",
              "  'service_options': {'makan_di_tempat': True,\n",
              "   'bawa_pulang': True,\n",
              "   'antar_tanpa_bertemu': True},\n",
              "  'thumbnail': 'https://lh5.googleusercontent.com/p/AF1QipOfNUjn4AbAcqLAxTL1uirdjc2IWCpHK5riZhbV=w123-h92-k-no'}]"
            ]
          },
          "metadata": {},
          "execution_count": 50
        }
      ]
    },
    {
      "cell_type": "code",
      "source": [
        "from serpapi import GoogleSearch\n",
        "\n",
        "params = {\n",
        "  \"api_key\": \"b77985061bea13234fff243aec3d87ae16559070f08d57000bdc60c437459935\",\n",
        "  \"engine\": \"google_maps_reviews\",\n",
        "  \"data_id\": \"0x2e70d25728dd9adb:0x4742215aa565c194\",\n",
        "  \"hl\": \"id\"\n",
        "}\n",
        "\n",
        "search = GoogleSearch(params)\n",
        "results = search.get_dict()\n",
        "reviews = results[\"reviews\"]"
      ],
      "metadata": {
        "colab": {
          "base_uri": "https://localhost:8080/"
        },
        "id": "4SrqyFl89xSE",
        "outputId": "c529c534-1a0a-46ef-c585-c8c4fe8019e5"
      },
      "execution_count": 16,
      "outputs": [
        {
          "output_type": "stream",
          "name": "stdout",
          "text": [
            "https://serpapi.com/search\n"
          ]
        }
      ]
    },
    {
      "cell_type": "code",
      "source": [
        "title =results[\"place_info\"][\"title\"]\n",
        "print(title)\n",
        "for i in range(10):\n",
        "  rating = results[\"reviews\"][i][\"rating\"]\n",
        "  print(rating)\n",
        "  reviews = results[\"reviews\"][i][\"snippet\"]\n",
        "  print(reviews)\n"
      ],
      "metadata": {
        "colab": {
          "base_uri": "https://localhost:8080/"
        },
        "id": "VABRGBGq-ckX",
        "outputId": "c632ab2e-f82a-4931-e4d5-daa81511565e"
      },
      "execution_count": 17,
      "outputs": [
        {
          "output_type": "stream",
          "name": "stdout",
          "text": [
            "Salza Restaurant & Convention Hall\n",
            "4.0\n",
            "Nice resto, terjangkau tempatnya di dalam kota.\n",
            "4.0\n",
            "Tempat luas, sayang ada di lantai 2. Meskipun tersedia eskalator.\n",
            "3.0\n",
            "Lumayan.ada TV guede....... banget bisa nonton sepak bola.\n",
            "1.0\n",
            "Pelayanannya sangat lama hampir 2jam saya menunggu menu di hidangkanLokasi bagi yg pertama x ke resto susah menemukan lokasinyaPelayannya agak sinis\n",
            "5.0\n",
            "Pelayanan Bintang Lima Harga Kaki Lima. Pas di Pusat Kota, Menu lengkap, Harga hemat dan menyediakan Masakan Lokal Soto Kemiri Kas Pati. Cocok buat nongkrong sama teman maupun keluarga\n",
            "5.0\n",
            "Temoqt kuas,banyak yg jualanSayang lantainya kurang bersih aja\n",
            "4.0\n",
            "Salza Restaurant & Convention Hall yang terletak di Jalan Tombronegoro nomor 1, Kecamatan Kaborongan, Kabupaten Pati, Provinsi Jawa Tengah ini merupakan restoran favorit masyarakat Pati. Letaknya pun strategis karena berada di sekitar Alun-alun Pati.\n",
            "5.0\n",
            "Tempat yang bagus dan strategis di kota pati\n",
            "3.0\n",
            "Cukup pas menu dan harganya untuk kota Pati yang sedang tumbuh.\n",
            "3.0\n",
            "Dlu tmpat ny enak sih..tp sekarang sdh tutup ya atau pindah ?? Masakan nya lumayan cocok di lidah..\n"
          ]
        }
      ]
    },
    {
      "cell_type": "code",
      "source": [
        "from serpapi import GoogleSearch\n",
        "\n",
        "params = {\n",
        "  \"api_key\": \"b77985061bea13234fff243aec3d87ae16559070f08d57000bdc60c437459935\",\n",
        "  \"engine\": \"google_maps_reviews\",\n",
        "  \"data_id\": \"0x2e70d3b3f1bd723f:0x446f9c1fa34b3249\",\n",
        "  \"hl\": \"id\"\n",
        "}\n",
        "\n",
        "search = GoogleSearch(params)\n",
        "results = search.get_dict()\n",
        "reviews = results[\"reviews\"]"
      ],
      "metadata": {
        "colab": {
          "base_uri": "https://localhost:8080/"
        },
        "id": "egemwQlg_0RS",
        "outputId": "f4c7ce74-8749-42a7-9c59-c437c64f5e3c"
      },
      "execution_count": 18,
      "outputs": [
        {
          "output_type": "stream",
          "name": "stdout",
          "text": [
            "https://serpapi.com/search\n"
          ]
        }
      ]
    },
    {
      "cell_type": "code",
      "source": [
        "title =results[\"place_info\"][\"title\"]\n",
        "print(title)\n",
        "for i in range(10):\n",
        "  rating = results[\"reviews\"][i][\"rating\"]\n",
        "  print(rating)\n",
        "  reviews = results[\"reviews\"][i][\"snippet\"]\n",
        "  print(reviews)"
      ],
      "metadata": {
        "colab": {
          "base_uri": "https://localhost:8080/"
        },
        "id": "rXjA3ISxDlBJ",
        "outputId": "893b049c-6c55-4510-e7e0-aef81ff187e6"
      },
      "execution_count": 19,
      "outputs": [
        {
          "output_type": "stream",
          "name": "stdout",
          "text": [
            "The Dona&Doni Resto, Pool & Spa\n",
            "4.0\n",
            "Kesini untuj renang. Untuk kolam anak tempatnya sepi, airnya dingin, adem,fibesnya jd kaya kolam pribadi.Untuk food n drink ya lumayan. Ayam cabe garamnya enak\n",
            "1.0\n",
            "Kolam renang jorok, filter tdk pnh nyala, smpe air ijooo, area duduk2 jg kdg bau selokan sgt tdk nyaman. Kamar mnd jg jorok👎gak ada yg jaga d sekitar kolam jd org umum seenaknya masuk tnpa pakai baju berenang👎👎👎👎NOT RECOMENDED!\n",
            "5.0\n",
            "Tempat nyaman untuk makan bersama keluarga, pasangan atau teman. Tersedia indoor dan outdoor, tempat sangat instagramable, ditata dengan indah. Pelayanan ramah dan masaknya cepat. Ada kolam renang juga.\n",
            "5.0\n",
            "tempat tenang karena bukan di tengah kota, viewnya oke banget, ada swimming pool, ada ruang makan indoor & outdoor, pilihan menu banyak dengan rasa yang berkualitas\n",
            "5.0\n",
            "Pengalaman pertama kali kesini lumayan bagus. Mbaknya ramah. Acara buka bersama lancar, tempat juga oke lah. Makanannya cukup enak, harga standard.👍\n",
            "5.0\n",
            "Saya merekomendasikan untuk kolam renangnya ;-) Bersih, biaya renang sepadan. Mohon perhatikan peraturan bagi yang akan berenang ☺ Pesanan makanan dan minuman relatif cepat dengan harga sepadan 😘 Suasana garden sangat terasa, makan dan minum dapat di dalam maupun luar ruangan 😍\n",
            "4.0\n",
            "The dona doni resto, pool & spa merupakan resto unik yang memiliki gedung indoor dan outdoor, taman cukup luas dengan konsep family garden resto, dengan sedikit nuansa bali, selain itu ada 2 kolam renang yang di tata apik. Cocok di gunakan untuk acara baik formal, non formal dan wedding,, menunya enak dan variatif.\n",
            "5.0\n",
            "Tempat yang bagus Bisa diseqa full resto untuk acara nikahan dsb Makanan nya enak Ada kolam renang nya Banyak spot foto yang bagus dan menarik\n",
            "5.0\n",
            "Salah satu resto dengan konsep yang unik di kota Pati. Lokasinya yang tersembunyi di dalam kota pati seperti surga yang tersembunyi... soalnya tempatnya nyaman banget buat makan-makan bareng temen-temen, rapat, arisan, ataupun kumpul-kumpul yang lainnya.. ada kolam renangnya juga, makanannya juga enak..\n",
            "5.0\n",
            "Tempatnya nyaman strategis & suasana nya tenang.\n"
          ]
        }
      ]
    },
    {
      "cell_type": "code",
      "source": [
        "from serpapi import GoogleSearch\n",
        "\n",
        "params = {\n",
        "  \"api_key\": \"b77985061bea13234fff243aec3d87ae16559070f08d57000bdc60c437459935\",\n",
        "  \"engine\": \"google_maps_reviews\",\n",
        "  \"data_id\": \"0x2e70d3aa8986d235:0x3c7388aea4ec30a7\",\n",
        "  \"hl\": \"id\"\n",
        "}\n",
        "\n",
        "search = GoogleSearch(params)\n",
        "results = search.get_dict()\n",
        "reviews = results[\"reviews\"]"
      ],
      "metadata": {
        "colab": {
          "base_uri": "https://localhost:8080/"
        },
        "id": "vyX2xzRKD-bI",
        "outputId": "024c91c4-d2c2-4556-88c6-a6266f876ebf"
      },
      "execution_count": 20,
      "outputs": [
        {
          "output_type": "stream",
          "name": "stdout",
          "text": [
            "https://serpapi.com/search\n"
          ]
        }
      ]
    },
    {
      "cell_type": "code",
      "source": [
        "title =results[\"place_info\"][\"title\"]\n",
        "print(title)\n",
        "for i in range(10):\n",
        "  rating = results[\"reviews\"][i][\"rating\"]\n",
        "  print(rating)\n",
        "  reviews = results[\"reviews\"][i][\"snippet\"]\n",
        "  print(reviews)"
      ],
      "metadata": {
        "colab": {
          "base_uri": "https://localhost:8080/"
        },
        "id": "xCHTcYSbEhOO",
        "outputId": "6699c6ac-31bc-44f8-fd77-f3f1aa4d6d96"
      },
      "execution_count": 21,
      "outputs": [
        {
          "output_type": "stream",
          "name": "stdout",
          "text": [
            "Semesta Pati\n",
            "5.0\n",
            "Lokasi di tengah kota, menunya tradisional dan yang paling sering dibeli sate taichannya terenak di Pati, mungkin tempat parkirnya saja agak susah kalau disitu but its ok ✨\n",
            "5.0\n",
            "Nyaman banget. Aku suka pesan coklat rempah. Makanannya pun enak banget terutama yang asem-asem\n",
            "5.0\n",
            "Parkir mobil OK, buat rombongan OK, rasa makanan OK, harga OK. Estetika bisa ditingkatkan lagi\n",
            "5.0\n",
            "Semesta sekarang jadi tempat sarapan. Buka pagi sampai siang (atau sore). Tempatnya adem, makan kenyang cukup 10-15 ribu.\n",
            "5.0\n",
            "Tempat nyaman, menu masakan rumahannya enak sekali. Bahkan anak2 juga suka.\n",
            "2.0\n",
            "Udah resevasi untuk bukber berdua diruangan dalam, eh pas udah sampe dapetnya diluar. Deket motor pula 🙊\n",
            "5.0\n",
            "Harga murah, suasananya enak , masakannya enak banget\n",
            "5.0\n",
            "Pelayanannya cepat dan ramah, menunya Mantap Jiwa...recomended banget...\n",
            "5.0\n",
            "Lumayan oke\n",
            "5.0\n",
            "Tempat nyaman untuk habiskan waktu, makan sambil chill. Banyak pilihan wedang nya, makanan asem asem nya adiktif, enak banget.\n"
          ]
        }
      ]
    },
    {
      "cell_type": "code",
      "source": [
        "from serpapi import GoogleSearch\n",
        "\n",
        "params = {\n",
        "  \"api_key\": \"b77985061bea13234fff243aec3d87ae16559070f08d57000bdc60c437459935\",\n",
        "  \"engine\": \"google_maps_reviews\",\n",
        "  \"data_id\": \"0x2e70d251576b7e27:0x53ee18f604a33f03\",\n",
        "  \"hl\": \"id\"\n",
        "}\n",
        "\n",
        "search = GoogleSearch(params)\n",
        "results = search.get_dict()\n",
        "reviews = results[\"reviews\"]"
      ],
      "metadata": {
        "colab": {
          "base_uri": "https://localhost:8080/"
        },
        "id": "iTUOvDErF2sH",
        "outputId": "6ee80bb7-7005-4d15-f40e-28595af9faf4"
      },
      "execution_count": 22,
      "outputs": [
        {
          "output_type": "stream",
          "name": "stdout",
          "text": [
            "https://serpapi.com/search\n"
          ]
        }
      ]
    },
    {
      "cell_type": "code",
      "source": [
        "title =results[\"place_info\"][\"title\"]\n",
        "print(title)\n",
        "for i in range(10):\n",
        "  rating = results[\"reviews\"][i][\"rating\"]\n",
        "  print(rating)\n",
        "  reviews = results[\"reviews\"][i][\"snippet\"]\n",
        "  print(reviews)"
      ],
      "metadata": {
        "colab": {
          "base_uri": "https://localhost:8080/"
        },
        "id": "onlL9xrFGqPc",
        "outputId": "9ed26e48-6046-4e09-bec4-a37e1ae147a8"
      },
      "execution_count": 23,
      "outputs": [
        {
          "output_type": "stream",
          "name": "stdout",
          "text": [
            "OMAH CABE PATI\n",
            "4.0\n",
            "Diajak temen buat coba, untuk tempat ok bgt, luas bisa buat rame-rame, instagramable lah y, ada taman bermain buat anak-anak, kolam ikan, request tempat duduk bisa lesehan ataupun kursi ok, tempat bersih dan luas. Tiap meja tersedia piring + sendok garpu. Makanannya lumayan ok lah ya... Buat kalian yang perhitungan dan mau lebih hemat bisa kali ya bawa air putih sendiri atau nasi putih sendiri. Yang nyari makanan pencuci mulut, ga recomend ya di sini karena semua makanannya lebih dominan ke makanan berat semua. Dari harga worth it lah sama suasana dan pelayanan yg kita dapatkan. Dan ini menurutku worth to try aja y, ga yg sampe recomended gitu. Untuk nasi putihnya nih, alangkah baiknya yang di bakul itu khusus untuk brp porsi gitu/paket rame2, jadi kalau ada yang order 1 porsi ga perlu ribet di taro bakul dan kita ribet2 lagi mindah ke piring. Itu aja sih... Btw bisa kali ya di tambah menu sambel / saos jadi yg mau nambah atau yg pesen ga paket lalapan bisa pke saos/sambel tersebut gitu. Terima kasih & mohon maaf sebelumnya\n",
            "4.0\n",
            "Rumah makan dengan suasana yg tenang. Tempatnya luas, bisa di indoor atau yg lebih seru dioutdoor seperti di hutan mini. Pelayanan ramah, cepat, dan harganya ternyata ramah dikantong. Pingin berkunjung lagi lain kali\n",
            "4.0\n",
            "Omah Cabe menyajikan berbagai menu khas Indonesia. Mulai dari ayam, bebek, bandeng, seafood lainnya, serta sayurannya juga cukup lengkap. Tempatnya cukup luas dan suasana di malam hari cukup nyaman. Sepertinya nyaman jika dijadikan venue acara besar.\n",
            "2.0\n",
            "Kesana pas hujan pengenya si berteduh sambil makan tp apah -_~, atap nya bocor jd makan pun sambil jongkok.. trs pesanan CA kangkungnya pun berasa basi , trs matahnya pun kasinan . Pesan ayam pun gk kbeneran .. uhh . pengen makan tp malah kehilangan nafsu makan ketika menu datang 😥😥\n",
            "5.0\n",
            "Suasana nyaman untuk makan dan bersantai...masakan enak ...harga bersahabat\n",
            "4.0\n",
            "Setidaknya saya pernah di sini. Sudah sering kali sie tp baru upload, parkir luas, rasa enak, harga terjangkau, pilihan menu banyak, tempat luas, rame krn pas bukber, tengah2 kota, sajinya cpt wlpn kondisi rame. Abcdefghijklmnopqrstuvwxyz\n",
            "4.0\n",
            "pertama kali ke sini pas lagi singgah di pati, area parkir cukup luas untuk mobil maupun motor untuk tempat makan kita bisa pilih di kursi2 di dalam resto atau gazebo2 di halaman belakang kebetulan dateng pas jam makan siang jadi penuh banget mesti waiting list untuk bisa nyari tempat di gazebo padahal di resto bagian depan gak gitu rame hihihi gazebo seperti kebanyakan terbuat dari kayu dengan ornamen lampu bambu dengan meja dan bantal2 untuk lesehan menu makanan lumayan banyak,harga dan rasa standart aja sih,pesen bebek bakar kulit bagian luarnya panas tapi daging dalemnya dingin mungkin baru dikluarin dr kulkas trus dibakar hihihihi,pelayanan juga rada lama mungkin karena lagi rush hour dan pengunjung buanyaaakk\n",
            "5.0\n",
            "tempatnya nyaman dan luas. cocok untuk bersantap bersama keluarga, atau acara acara lainnya seperti buka bersama\n",
            "5.0\n",
            "Ajaklah teman atau keluarga mampir ke rumah makan cabe, disini makanannya lengkap, penyajiannya cepat, dan yg gak kalah dr yang lain adalah rasanya yang super duper mantap 😋 yuuuk tunggu apa lagi\n",
            "4.0\n",
            "Makanannya enak enak, tempatnya cocok untuk kumpul keluarga. Rekomended banget🤩👌\n"
          ]
        }
      ]
    },
    {
      "cell_type": "code",
      "source": [
        "from serpapi import GoogleSearch\n",
        "\n",
        "params = {\n",
        "  \"api_key\": \"b77985061bea13234fff243aec3d87ae16559070f08d57000bdc60c437459935\",\n",
        "  \"engine\": \"google_maps_reviews\",\n",
        "  \"data_id\": \"0x2e70d24c19b06da5:0xa3a1e486438afa1f\",\n",
        "  \"hl\": \"id\"\n",
        "}\n",
        "\n",
        "search = GoogleSearch(params)\n",
        "results = search.get_dict()\n",
        "reviews = results[\"reviews\"]"
      ],
      "metadata": {
        "colab": {
          "base_uri": "https://localhost:8080/"
        },
        "id": "jKfmliBSJ8KT",
        "outputId": "94ca4aeb-fb3e-4e1a-f4a5-168123fa2103"
      },
      "execution_count": 24,
      "outputs": [
        {
          "output_type": "stream",
          "name": "stdout",
          "text": [
            "https://serpapi.com/search\n"
          ]
        }
      ]
    },
    {
      "cell_type": "code",
      "source": [
        "title =results[\"place_info\"][\"title\"]\n",
        "print(title)\n",
        "for i in range(10):\n",
        "  rating = results[\"reviews\"][i][\"rating\"]\n",
        "  print(rating)\n",
        "  reviews = results[\"reviews\"][i][\"snippet\"]\n",
        "  print(reviews)"
      ],
      "metadata": {
        "colab": {
          "base_uri": "https://localhost:8080/"
        },
        "id": "YM7ILf3LKOse",
        "outputId": "cea8da48-3e17-459b-a312-358097ce90ac"
      },
      "execution_count": 25,
      "outputs": [
        {
          "output_type": "stream",
          "name": "stdout",
          "text": [
            "Resto Surya\n",
            "5.0\n",
            "Rumah Makan Surya. Bersebelahan dengan supermarket Surya Baru. Dari luar mungkin kecil, tapi setelah masuk pasti luas. Tempat nya nyaman. Penerapan prokes lumayan baik. Pelayanannya cukup ramah. Makanannya tidak ada yang tidak enak kalau menurut saya. Puja koki Surya.\n",
            "5.0\n",
            "Restoran yang sudah sangat lama berdiri di kota pati. Yang membuat resto ini istimeea adalah rasa dari masakannnya tidak pernah berubah semenjak dulu. Walaupun agak pricey tapi sangat layak apabila ada keluarga yang datang dari jauh dan diajak makan disitu karena porsinya besar.\n",
            "3.0\n",
            "Berkunjung ke kota Pati, karena masih kenyang pesen bakso pangsit kuah, over all enak. Tapi... Mangkok yang disajikan ke saya cuil/gompal... Tentu terasa TDK nyaman... Hendak minta ganti mangkok tapi sungkan... Es tehnya jumbo... Tapi bagi saya kurang manis... Kunjungan pertama ini sy kasih bintang 3... Parkir space nya sdikit baik mobil dan motor... Kebetulan musim hujan... Yang bawa motor... Motornya kehujanan... Terima kasih... RESTO SURYA termasuk rekomendasi tempat makan yang nyaman dan bersih... Dari menu makanan nya menyehatkan dan lezat.\n",
            "2.0\n",
            "Mie bangka spesial tp rasanya tdk lbh enak dari indomie rebus, pelayanan krg memuaskan, menunggu lama, jutek dan makanan disaji tdk enak, tdk ada saos kecap malah ngumpul di pojokan ngerumpi, AC tdk boleh dinyalahkan krn sy dtg sndri padahal udara panas bgt,\n",
            "5.0\n",
            "Legendaris banget di kota Pati. Dari sejak aku kecil resto ini dah ada. Dari bentuk nya yg duku maaih reato rumahan sampai sekarang yang sudah bentuk cafe. Luar biasa progress nya. Letaknya sebelahan dengan surya yg supermarket. Kalo kesini slalu belanja dlu d surya supermarket trs makan d surya resto. Product nya yg ga pernah lekang oleh waktubitu krupuk bakso. D pati ada 2 brand, 1 lg merk gentong. Kalo ke Pati musti beli ya krupuk baso. Nah kalo mau makan d surya resto yg skrg tampilannya sudah kayak cafe ini. Menu fav ku yaitu mie kopyok, dan juga es nya enak2 lho... ada es surya atau es shanghai dll. Tinggal d pilih. Makanannya juga beragam bgt lho. Dr yg baso2 dan mie, ada yang seafood, chinese food, sampai tradiaional kayak nasi rames dan penyetan udang sama jangan bening (sayur bayam bening). Mantappp banget guys... tiap hari makan dsini juga ga akan bosan karena pilihan menunya buanyaakkk... sayang sekali aku ga ngefoto kemarin karena ruamai sekali, harus tunggu juga buat dapat kursi. Karena kemrin kita barwngan sama jam buka puasa. Silakan d coba ya kalo lagi ke Pati.... 👍👍👍👍👍👍\n",
            "4.0\n",
            "tempatnya dari luar terlihat kecil, tapi dalemnya kece abis,modern minimalis ada lantai 2 nya juga, menu lumayan bervariasi, kamar mandi bersih & wangi, tempat cuci tangan luas cuma pas makan kwetiaw sedikit overcook\n",
            "5.0\n",
            "Paling suka kalau kesini itu makan bakmi goreng seafood,,, rasanya enduuullll dengan porsi jumbonya dan es teh yang jumbo pula 🤩\n",
            "2.0\n",
            "Maaf kurang suka dgn pelayananya,,rencana mau makan bersama kluarga 15 org bareng 1 meja minta tempat diatas yg luas gk boleh alasanya dibawah masih kosong,sedangkan dibawah meja gk boleh digabung,,huhh y udah akhirnya cari rmh makan lain😔\n",
            "1.0\n",
            "Kita makan ber 5. 1meja cuma bisa 2 orang, mau tambah meja untuk dijadikan 1 pegawainya blg tidak boleh. Pegawainya bilang tidak boleh sama manajemennya.. Pelayanannya sangat mengecewakan. Rasa makanan memang enak tapi kalau pelayanan buruk, saya rasa banyak orang yang tidak akan kembali. Semoga kedepannya manajemennya diubah, tidak mengecewakan pelanggan. Terimakasih.\n",
            "1.0\n",
            "Baru kemarin ke sini. Tempat bagus. Makanan agak kurang si rasanya. Tp gpp lah its ok. Yg plg bikin males 1,2 bad banget pelayanannya. Apalagi mbaknya kasih wkwk judes. Kalo dimintain tolong buat foto agak susah.\n"
          ]
        }
      ]
    },
    {
      "cell_type": "code",
      "source": [
        "from serpapi import GoogleSearch\n",
        "\n",
        "params = {\n",
        "  \"api_key\": \"b77985061bea13234fff243aec3d87ae16559070f08d57000bdc60c437459935\",\n",
        "  \"engine\": \"google_maps_reviews\",\n",
        "  \"data_id\": \"0x2e70d35cb674207b:0x2a55620e468fb175\",\n",
        "  \"hl\": \"id\"\n",
        "}\n",
        "\n",
        "search = GoogleSearch(params)\n",
        "results = search.get_dict()\n",
        "reviews = results[\"reviews\"]"
      ],
      "metadata": {
        "colab": {
          "base_uri": "https://localhost:8080/"
        },
        "id": "V3C0w9MpKXKG",
        "outputId": "6c30d083-e658-4e46-f6cf-79bb24fd4078"
      },
      "execution_count": 26,
      "outputs": [
        {
          "output_type": "stream",
          "name": "stdout",
          "text": [
            "https://serpapi.com/search\n"
          ]
        }
      ]
    },
    {
      "cell_type": "code",
      "source": [
        "title =results[\"place_info\"][\"title\"]\n",
        "print(title)\n",
        "for i in range(10):\n",
        "  rating = results[\"reviews\"][i][\"rating\"]\n",
        "  print(rating)\n",
        "  reviews = results[\"reviews\"][i][\"snippet\"]\n",
        "  print(reviews)"
      ],
      "metadata": {
        "colab": {
          "base_uri": "https://localhost:8080/"
        },
        "id": "CxlCkyw8KyCM",
        "outputId": "6c72f3af-f873-4572-c199-4e199af2ada7"
      },
      "execution_count": 27,
      "outputs": [
        {
          "output_type": "stream",
          "name": "stdout",
          "text": [
            "Kampoeng Pati\n",
            "4.0\n",
            "Tempat makan dengan pemandangan yang cukup bagus selain itu ada juga kolam renang buat dewasa dan anak-anak, jadi bisa kulineran sambil berenang, menu masakan yang disajikan banyak pilihan, parkir luas dan ada toilet. Menu yang ada beef steak original, gurami asam manus, chicken crispy, iga bakar lada hitam, Gurami, nila, lele, aneka menu nasi goreng, aneka mie, rica-rica, petis, cumi, udang, bandeng dan masih banyak menu enak lainnya.\n",
            "4.0\n",
            "Tempat nya nyaman dan tenang serta luas,tempat dilengkapi kolam renang n tempat karaokean,harga lumayan tidak ramah dikantong plus ada PPN 10% ,parkir motor 2rb,g tau klo mobil...sayang pelayanannya kurang memuaskan kurang ramah dibagian kasir,saya tau kakak²nya pasti lelah cz rame banget secara masih suasana lebaran,senyum kan ibadah kak...senyum dan ramahlah kepada kami para pelanggan,ok?menu nya sangat lengkap,tp untuk rasa dilidah saya mohon maaf kurang cocok cz semua serba terlalu manis untuk minuman²,untuk makanan bakso rada asin,beef steak manis,kentang goreng belum mateng,semangka yg mnrt saya g fresh,semoga kedepan nya diperbaiki lagi pelayanan serta masakannya,mohon maaf lahir batin kritik ini bertujuan untuk membangun menjadi lebih baik lagi.terimakasih\n",
            "5.0\n",
            "Sering kesini bersama keluarga. Menu di sini cukup lengkap, ada steak nya juga. Tempat yang nyaman dan banyak pilihan, mau duduk di kursi atau lesehan, tempat yang juga bagus untuk berfoto ria bareng teman atau keluarga. Terdapat kolam renang yang cukup luas. Parkiran cukup luas.\n",
            "5.0\n",
            "Tempat nyaman banget ada view kolam renang, menu yg sya pesan ga ada yg ngecewain enak banget...terus pertahanin rasa kualitas fan pelayanannya yaah ...recomend banget yg mw nyari resto buat kluarga\n",
            "5.0\n",
            "Tempat makan yang berkonsep lesehan yang luas dan nyaman, tempat bersih, juga tersedia kolam renang yang cocok untuk anak, tiket masuk hanya 10 ribu. Anak2 seneng sekali.\n",
            "5.0\n",
            "Masakan nya lumayan,cuma pas lagi maem,ehh tau2 lampu mati beberapa detik,gak sekali dua kali..\n",
            "3.0\n",
            "Resto dan kolam renang.. tempatnya tidak terlalu luas dan kesini pas hari minggu jadi rame banget pengunjungnya.. kolam renangnya kecil paling dalem cuma satu meter dan ada yang untuk anak anak dan balita.. tempat bilasnya cuma ada 3 kamar mandi.. dan gazebo yang sekitar kolam susah banget dapetinnya.. kalau datang untuk makan aja sebenarnya banyak tempatnya.. tapi kalau mau renang pasti nyarinya yang sekitar kolam dan itu harus gantian.. masakannya seafood pasti enak.. harga masuk akal\n",
            "5.0\n",
            "Pertama kali kesini karena perjalanan dinas kerja. Saya coba menu iga bakar pedas manis nya enak. Harganya ga terlalu mahal, tempat nyaman, ada area rekreasi buat keluarga. Rekomen nih 👍🏻\n",
            "3.0\n",
            "Cocok untuk makan bersama keluarga maupun rekan kerja, menu Nila Bakar + es Teh\n",
            "5.0\n",
            "Bagus, ada kolam renang. Kalau kesini sih mending sore atau malam.\n"
          ]
        }
      ]
    },
    {
      "cell_type": "code",
      "source": [
        "from serpapi import GoogleSearch\n",
        "\n",
        "params = {\n",
        "  \"api_key\": \"b77985061bea13234fff243aec3d87ae16559070f08d57000bdc60c437459935\",\n",
        "  \"engine\": \"google_maps_reviews\",\n",
        "  \"data_id\": \"0x2e70d379b1868e3d:0x281f78c7b5268f3a\",\n",
        "  \"hl\": \"id\"\n",
        "}\n",
        "\n",
        "search = GoogleSearch(params)\n",
        "results = search.get_dict()\n",
        "reviews = results[\"reviews\"]"
      ],
      "metadata": {
        "colab": {
          "base_uri": "https://localhost:8080/"
        },
        "id": "YuZXtZixK2b5",
        "outputId": "dcddd078-b2ab-42df-fb35-ce35be9dcb37"
      },
      "execution_count": 28,
      "outputs": [
        {
          "output_type": "stream",
          "name": "stdout",
          "text": [
            "https://serpapi.com/search\n"
          ]
        }
      ]
    },
    {
      "cell_type": "code",
      "source": [
        "title =results[\"place_info\"][\"title\"]\n",
        "print(title)\n",
        "for i in range(10):\n",
        "  rating = results[\"reviews\"][i][\"rating\"]\n",
        "  print(rating)\n",
        "  reviews = results[\"reviews\"][i][\"snippet\"]\n",
        "  print(reviews)"
      ],
      "metadata": {
        "colab": {
          "base_uri": "https://localhost:8080/"
        },
        "id": "EWG4jSUNLLDM",
        "outputId": "4fb9cc3d-f923-4d6b-be81-f99ca4b3e133"
      },
      "execution_count": 29,
      "outputs": [
        {
          "output_type": "stream",
          "name": "stdout",
          "text": [
            "Kai Ramen Pati\n",
            "4.0\n",
            "Kai Ramen Pati adalah salah satu kedai ramen di Pati yaitu cabang setelah Kai Ramen Kudus. Saya telah mencoba Kai Ramen Kudus kemudian saya ingin coba Kai Ramen Pati. Awalnya rasa tidak berekspetasi lebih setelah tahu Kai Ramen Kudus. Menurut saya kekentalan kuah ramen di kedai ini kurang sedangkan rasa kuah sudah pas. Di sisi lain mie/lamien yang dipakai adalah sesuai ekspetasi saya. Seperti mie ramen di Nagoya dan kedai ramen pada umumnya. Namun, mie masih kurang matang dikit. Kai Ramen menawarkan berbagai macam menu pilihan dengan harga yang masih terjangkau (dari IDR 2500 s/d 20000). Menu makanan seperti berbagai jenis Ramen dari original sampai bertoping, Bento, Katsu, Takoyaki dsb. Menu minuman seperti tea, ocha tea, coffee, squash, lokalate dsb. Lokasi Kai Ramen ini sangat mudah di jangkau berada di Winong Kota yaitu timur Lapangan Joyo Kusuma Pati, seberang Teras Kopi. Kai Ramen sering mengadakan promo dan ada harga khusus ramen special untuk pelajar. Check di ig: kairamengroup\n",
            "5.0\n",
            "Untuk rasa sih rempahnya krasa banget, kebetulan ini saya pesen rame katsu yang varian kuah curry. Kemudian tempat makannya yang duduk kurang nyaman sih soalnya mejanya kecil dan kurang cocok buat rame rame. Mungkin kalo rame rame cocoknya yang di lesehan.\n",
            "5.0\n",
            "Ramen 🍜 dengan harga yang affordable, dan porsi yang mengenyangkan. Bisa ditambah berbagai macam topping sesuai selera. 👍Selain ramen ada takoyaki, okonomiyaki, dan menu bento. 🍱Dan disini juga sering ada promonya\n",
            "5.0\n",
            "Tempatnya nyaman banget, adem pelayanannya ramah. Oh ya ada promo Refill ramen sepuasnya di bulan Januari 2022, btw menu paling recommended Bento Box nya enak banget soalnya.\n",
            "4.0\n",
            "Rasanya mantab, pelayanan cepat, ramah, harga bersahabat, hanya parkiran yg kurang, karena mepet jalan raya\n",
            "5.0\n",
            "Makanannya enak.. Tempatnya bersih.. Pelayanannya ramah.. Di pertahankan biar makin rame 😄\n",
            "4.0\n",
            "Salah satu resto jepang di pati yang patut dikunjungi,, resto ini menyediakan aneka ramen yang enak, istimewa dan bersahabat di kantong. Selain ramen ada juga bento dan hidangan kecil seperti takoyaki, katsu,.dan beberapa menu lainnya, Silahkan mencoba dan rasakan sensasi nuansa jepang di sini 👍\n",
            "5.0\n",
            "Sering lewat, dan nyesel kenapa lagi nyoba sekarang, padahal harganya ramah ma enak 😭Tempatnya bikin demen mager lagi\n",
            "3.0\n",
            "Utk ramennya enak, seperti rasa ramen pada umumnya, trus pesan bento jg lumayan enak, utk sushi agak kurang empuk dikit,rasa kurang nendang dikit, yg paling bikin bete adalah waktu tunggu yg sangat lama, mgkn karyawan resto nya kurang atau bagaimana g tau cuma lumayan bikin jenuh, disuguhi makanan diatas lumayan oke bete lumer, tp eh tp pas dtg pesenan milktea nya haduuuh bete lagi deh, hambar bin anyep kayak cuma air es gt...sesuai nama restonya kali ya,yg jadi unggulan ramennya,,hehe\n",
            "5.0\n",
            "Parkir gratis klo motor bisa di halaman resto klo mobil di pinggir jalan A. Yani. Tempat di sekat2 jadi agak sempit milih waktu yg agak sepi biar ga sumpek. Rasa oke harga murmer ada promo2 juga. Klo untuk anak bisa pesan porsi anak2 tapi tidak tercantum di menu bilang aja minta porsi anak2. So far the best ramen in Pati.\n"
          ]
        }
      ]
    },
    {
      "cell_type": "code",
      "source": [
        "from serpapi import GoogleSearch\n",
        "\n",
        "params = {\n",
        "  \"api_key\": \"b77985061bea13234fff243aec3d87ae16559070f08d57000bdc60c437459935\",\n",
        "  \"engine\": \"google_maps_reviews\",\n",
        "  \"data_id\": \"0x2e70d24db2cfb18b:0x92f3f6d5e131c3d2\",\n",
        "  \"hl\": \"id\"\n",
        "}\n",
        "\n",
        "search = GoogleSearch(params)\n",
        "results = search.get_dict()\n",
        "reviews = results[\"reviews\"]"
      ],
      "metadata": {
        "colab": {
          "base_uri": "https://localhost:8080/"
        },
        "id": "-jR3hjVpLUXu",
        "outputId": "9ea919c0-7930-4d6d-f4b4-9b654887f346"
      },
      "execution_count": 30,
      "outputs": [
        {
          "output_type": "stream",
          "name": "stdout",
          "text": [
            "https://serpapi.com/search\n"
          ]
        }
      ]
    },
    {
      "cell_type": "code",
      "source": [
        "title =results[\"place_info\"][\"title\"]\n",
        "print(title)\n",
        "for i in range(10):\n",
        "  rating = results[\"reviews\"][i][\"rating\"]\n",
        "  print(rating)\n",
        "  reviews = results[\"reviews\"][i][\"snippet\"]\n",
        "  print(reviews)"
      ],
      "metadata": {
        "colab": {
          "base_uri": "https://localhost:8080/"
        },
        "id": "1V_yRYGoLle4",
        "outputId": "6742572a-cbbe-46de-e98b-76898898bf77"
      },
      "execution_count": 31,
      "outputs": [
        {
          "output_type": "stream",
          "name": "stdout",
          "text": [
            "Mbok Endut Pati\n",
            "4.0\n",
            "Tempatnya luas.cocok untuk acr kumpul2.menunya buanyak..kita bisa pilih menu single atau rombongan😂😂porsinya jumbo..jadi waspada kalo gagal diet😂enaak sii..\n",
            "3.0\n",
            "Pertama kesini saat Reuni Teman SD, untuk rasa masakannya standard. Tempatnya rame karena ini waktu Bulan Puasa jadi banyak orang yang merayakan Bukber\n",
            "4.0\n",
            "mampir ke sini buat makan siang pas lagi singgah di pati,area parkir luasss banget bisa untuk mobil dan motor di depan resto kita di sambut dengan patung ibu2 gemuk berkonde berbaju ijo mungkin ini adalah ikon ny mbok endut hihihi bangunan resto 2 lantai bisa duduk2 di kursi atau lesehan di lantai,mayan bersih kebetulan kita pilih di lantai 2,untuk lantai 2 mostly duduk lesehan, rooftop jg ada dengan bangku2 kayu mayan lengkap ada mushola;kamar mandi dan tempat cuci tangan untuk menu kebanyakan masakan indonesia y dengan harga cukup standAr dari 15k-30k an kita pesan sop ayam campur dan sop galantin untuk minum kita pesan es teh dan seporsi salad untuk sop2 an mayan seger sihh bisa lah dinikmati hehe yang oke malah es teh nya gelas nya gedeee banget hihihi tapi untuk salad buah nya rada kecewa sih harga sekitar 20k tapi isian penuh dengan tomat wkwkwkwk pelayanan mayan cepet gak terlalu lama nunggu so far oke sihh kapan2 kalo ke pati bisa lah mampir lagi\n",
            "5.0\n",
            "Yuk mampir... Angkringan menu sederhana khas makanan nasi bakar, jahe dan kopi lelet khas lasem. Tempat nyaman bersih free wifi. Santai buat ngpi gaes... Gasss yuk...\n",
            "5.0\n",
            "Tempat makannya nyaman, makanannya banyak macamnya harga juga terjangkau. Tempat parkir luas dan pasti pelayanan gak mengecewakan\n",
            "3.0\n",
            "info di maps buka sampai jam 24.00tp sy dtg jam 20.30 stlh psn mkn ada info ini jam last orderwaiter kurang care pada pelanggan\n",
            "5.0\n",
            "Pelayan kurang memuaskan Tapi overall okelah Ternyata beda daerah beda penyajian Ada beberapa menu harganya murah tapi ada juga yang mahal\n",
            "5.0\n",
            "RecomendedMasakan enak, tempat juga lumayan ramah anakHarga makanan rata2 20-30 an\n",
            "5.0\n",
            "Makanan enak,parkir luas,harga sesuai makanan yg porsi besar\n",
            "5.0\n",
            "Tempatnya mantab, makanannya juga enak\n"
          ]
        }
      ]
    },
    {
      "cell_type": "code",
      "source": [
        "from serpapi import GoogleSearch\n",
        "\n",
        "params = {\n",
        "  \"api_key\": \"b77985061bea13234fff243aec3d87ae16559070f08d57000bdc60c437459935\",\n",
        "  \"engine\": \"google_maps_reviews\",\n",
        "  \"data_id\": \"0x2e70d3f3ffcf638d:0x76ce6d31cdf3398c\",\n",
        "  \"hl\": \"id\"\n",
        "}\n",
        "\n",
        "search = GoogleSearch(params)\n",
        "results = search.get_dict()\n",
        "reviews = results[\"reviews\"]"
      ],
      "metadata": {
        "colab": {
          "base_uri": "https://localhost:8080/"
        },
        "id": "oionMHWTLsWp",
        "outputId": "ceec776e-fce0-4a65-ea8c-1cc9683435f9"
      },
      "execution_count": 32,
      "outputs": [
        {
          "output_type": "stream",
          "name": "stdout",
          "text": [
            "https://serpapi.com/search\n"
          ]
        }
      ]
    },
    {
      "cell_type": "code",
      "source": [
        "title =results[\"place_info\"][\"title\"]\n",
        "print(title)\n",
        "for i in range(10):\n",
        "  rating = results[\"reviews\"][i][\"rating\"]\n",
        "  print(rating)\n",
        "  reviews = results[\"reviews\"][i][\"snippet\"]\n",
        "  print(reviews)"
      ],
      "metadata": {
        "colab": {
          "base_uri": "https://localhost:8080/"
        },
        "id": "ZEP6ozioL6vN",
        "outputId": "fc2cb41f-6b9f-482f-be47-421741e94898"
      },
      "execution_count": 33,
      "outputs": [
        {
          "output_type": "stream",
          "name": "stdout",
          "text": [
            "Geprek'an\n",
            "5.0\n",
            "Enaakk but aku lupa lagi sakit lambung ..jadi makannya sambil was was ..hihiw ..tp uenakk recommend 🙏\n",
            "1.0\n",
            "Minta tolong untuk pelayannya yang cewek, kecil, pakai kacamata diajarkan attitude ketika melayani. Melayani kok mbesengut\n",
            "5.0\n",
            "Penyelamat waktu masih ngekos. Langganan dari waktu hanya menerima pesanan delivery. Menurut saya ini geprekan paling enak di Pati. Pelayanan cepat dan ramah. Tempat cozy.\n",
            "5.0\n",
            "duhh mengesankan sekalii, apalagi waktu dateng sama cowo ehh mantan juga sama cewe wkwk\n",
            "4.0\n",
            "Lumayan mahal untuk kantong pelajar\n",
            "5.0\n",
            "Baru pertama kesini. Biasanya pesen lwt grab... tak pikir bedanya ada 5rb lebh dr hrga asli sama grab ternyata ngk sampe 5rb.. ngk tahu napa.. dibanding geprek lain lbh suka ini\n",
            "5.0\n",
            "- Satu tahun belakangan, hidangan ayam geprek mulai dikenal oleh masyarakat Indonesia. Ayam geprek pertama kali dibuat di Yogyakarta pada 2003. Pemilik warung makan di Jalan Wulung Lor, Papringan, yakni Ruminah yang pertama kali membuat ayam geprek. Pada 2017, selebriti Ruben Onsu merintis bisnis ayam geprek di Jakarta. Sejak saat itu warung ayam geprek bertebaran di Tanah Air. Uniknya sebelum ada ayam geprek, masyarakat Indonesia mengenal kuliner yang hampir serupa yaitu ayam penyet. Meski keduanya adalah hidangan ayam goreng dan sama sama diberi sambal, ayam geprek dan penyet adalah dua hidangan yang berbeda. \"Sebelumnya saya jualan lotek, soto, dan lain. Namanya juga penjual makanan, saya iseng jualan ayam kentucky (goreng tepung) juga,\" kata Ruminah saat ditemui KompasTravel di warung ayam gepreknya yang pertama di Papringan,\n",
            "5.0\n",
            "Promo nih,nasi+ayam+es teh jumbo 14.000 spesial valentine. Ditambah saus bbq makin yahuud❤\n",
            "5.0\n",
            "Murah meriah, pedesnya mantapppppppp..\n",
            "5.0\n",
            "Geprek disini punya cita rasa sambal yang khas, buat yang ngak kuat pedas ada tambahan saus lainnya. Rekomen banget pokoknya tempatnya adem dan eatetik. Hanya saja tempat parkir yang kurang luas.\n"
          ]
        }
      ]
    },
    {
      "cell_type": "code",
      "source": [
        "from serpapi import GoogleSearch\n",
        "\n",
        "params = {\n",
        "  \"api_key\": \"b77985061bea13234fff243aec3d87ae16559070f08d57000bdc60c437459935\",\n",
        "  \"engine\": \"google_maps_reviews\",\n",
        "  \"data_id\": \"0x2e70d3acbfa08271:0xc84de9d9cd4124e\",\n",
        "  \"hl\": \"id\"\n",
        "}\n",
        "\n",
        "search = GoogleSearch(params)\n",
        "results = search.get_dict()\n",
        "reviews = results[\"reviews\"]"
      ],
      "metadata": {
        "colab": {
          "base_uri": "https://localhost:8080/"
        },
        "id": "riqJkRomMGT7",
        "outputId": "dba3296a-4b1a-4694-f581-c744a8f0aedb"
      },
      "execution_count": 34,
      "outputs": [
        {
          "output_type": "stream",
          "name": "stdout",
          "text": [
            "https://serpapi.com/search\n"
          ]
        }
      ]
    },
    {
      "cell_type": "code",
      "source": [
        "title =results[\"place_info\"][\"title\"]\n",
        "print(title)\n",
        "for i in range(10):\n",
        "  rating = results[\"reviews\"][i][\"rating\"]\n",
        "  print(rating)\n",
        "  reviews = results[\"reviews\"][i][\"snippet\"]\n",
        "  print(reviews)"
      ],
      "metadata": {
        "colab": {
          "base_uri": "https://localhost:8080/"
        },
        "id": "4kFCL1E5MiBf",
        "outputId": "f44e33f2-f131-4e65-d756-9170e67eb28e"
      },
      "execution_count": 35,
      "outputs": [
        {
          "output_type": "stream",
          "name": "stdout",
          "text": [
            "Resto Omah Sapi\n",
            "4.0\n",
            "Tempatnya enak di lt 2Cita rasa lumayan enakUntuk gambar mohon disesuaikan sesuai hidanganPorsi jangan terlalu kecil\n",
            "5.0\n",
            "Tempatnya adem. Banyak pilihan menunya. Ada toilet dan mushola. Nyaman juga untuk anak². Goodlah\n",
            "5.0\n",
            "Sop iga sapi nya enak fresh banyak, tapi harinke 2 dapat lebih dikit wkwkwkkw karena saya bawa orang banyak mungkin dibagi2, tolong di jaga kualitas dan porsinya.\n",
            "4.0\n",
            "Resto keluarga dgn harga kaki lima, menu lengkap, meski nama Omah Sapi. Menyediakan berbagai menu olahan sapi. Ayam, steak, chinese food, dll.\n",
            "5.0\n",
            "Tempatnya bersih, makanannya enak penyajiannya jg cepat gk menunggu terlalu lama\n",
            "3.0\n",
            "Tempat nyaman pelayanan ramah , makanan standart rasa\n",
            "5.0\n",
            "Rumah makan ini menyediakan makanan yang enak dengan harga terjangkau, sangat cocok untuk makan bersama rekan maupun keluarga\n",
            "4.0\n",
            "Iga bakarnya rekomen 👍👍\n",
            "4.0\n",
            "Lokasi resto ini ada di jln penjawi. Saya kesana satu jam sebelum resto tutup. Langsung pesan sup buntut dan soto balungan. Harga sesuai, porsi untuk soto dikit. Buntut lumayan banyak daging dan tulangnya. Rasa enak, seger, bumbunya meresap. Lupa foto resto. Karena sudah malam\n",
            "1.0\n",
            "Lelet super lelet.psan makan d grab food nyampe nya hampir 2 jam gak mghargai org psan online bgt. Klo rame ya ttep dong mana yg dlu mna yg bru dtg.\n"
          ]
        }
      ]
    },
    {
      "cell_type": "code",
      "source": [
        "#====CASE FOLDING=====#\n",
        "\n",
        "# 1. Mengubah text menjadi lowercase \n",
        "kalimat = \"5.0 Tempatnya adem. Banyak pilihan menunya. Ada toilet dan mushola. Nyaman juga untuk anak². Goodlah\"\n",
        "lower_case = kalimat.lower()\n",
        "print(lower_case)"
      ],
      "metadata": {
        "colab": {
          "base_uri": "https://localhost:8080/"
        },
        "id": "T8w0-SztuNM3",
        "outputId": "22444af1-a22e-44fe-a462-fdec00fd19f0"
      },
      "execution_count": 38,
      "outputs": [
        {
          "output_type": "stream",
          "name": "stdout",
          "text": [
            "5.0 tempatnya adem. banyak pilihan menunya. ada toilet dan mushola. nyaman juga untuk anak². goodlah\n"
          ]
        }
      ]
    },
    {
      "cell_type": "code",
      "source": [
        "# 2. Menghapus angka\n",
        "import re #impor modul regular expressio\n",
        "kalimat = \"5.0 Tempatnya adem. Banyak pilihan menunya. Ada toilet dan mushola. Nyaman juga untuk anak². Goodlah\"\n",
        "hasil = re.sub(r\"\\d+\",\"\", kalimat)\n",
        "print (hasil)"
      ],
      "metadata": {
        "colab": {
          "base_uri": "https://localhost:8080/"
        },
        "id": "jPhWsWjLvSiV",
        "outputId": "496b1f39-9b87-432c-c633-847a22435832"
      },
      "execution_count": 39,
      "outputs": [
        {
          "output_type": "stream",
          "name": "stdout",
          "text": [
            ". Tempatnya adem. Banyak pilihan menunya. Ada toilet dan mushola. Nyaman juga untuk anak². Goodlah\n"
          ]
        }
      ]
    },
    {
      "cell_type": "code",
      "source": [
        "# 3. Menghapus tanda baca\n",
        "import string\n",
        "kalimat = \"5.0 Tempatnya adem. Banyak pilihan menunya. Ada toilet dan mushola. Nyaman juga untuk anak². Goodlah\"\n",
        "hasil = kalimat.translate(str.maketrans(\"\",\"\",string.punctuation))\n",
        "print (hasil)"
      ],
      "metadata": {
        "colab": {
          "base_uri": "https://localhost:8080/"
        },
        "id": "wvhEHqnBv7jv",
        "outputId": "3ba9d761-1297-4a84-a3df-09a52d2a06fd"
      },
      "execution_count": 40,
      "outputs": [
        {
          "output_type": "stream",
          "name": "stdout",
          "text": [
            "50 Tempatnya adem Banyak pilihan menunya Ada toilet dan mushola Nyaman juga untuk anak² Goodlah\n"
          ]
        }
      ]
    },
    {
      "cell_type": "code",
      "source": [
        "# ==== TOKENIZING ==== #\n",
        "\n",
        "import nltk\n",
        "nltk.download('book')\n",
        "#or\n",
        "nltk.download('tests')\n",
        "#or\n",
        "nltk.download('all-corpora')# not recommended as it download huge amount of data."
      ],
      "metadata": {
        "colab": {
          "base_uri": "https://localhost:8080/"
        },
        "id": "ZJXEiDfkwH-R",
        "outputId": "0719d642-b3fb-4f0f-ecf4-91aeaec8170b"
      },
      "execution_count": 41,
      "outputs": [
        {
          "output_type": "stream",
          "name": "stderr",
          "text": [
            "[nltk_data] Downloading collection 'book'\n",
            "[nltk_data]    | \n",
            "[nltk_data]    | Downloading package abc to /root/nltk_data...\n",
            "[nltk_data]    |   Unzipping corpora/abc.zip.\n",
            "[nltk_data]    | Downloading package brown to /root/nltk_data...\n",
            "[nltk_data]    |   Unzipping corpora/brown.zip.\n",
            "[nltk_data]    | Downloading package chat80 to /root/nltk_data...\n",
            "[nltk_data]    |   Unzipping corpora/chat80.zip.\n",
            "[nltk_data]    | Downloading package cmudict to /root/nltk_data...\n",
            "[nltk_data]    |   Unzipping corpora/cmudict.zip.\n",
            "[nltk_data]    | Downloading package conll2000 to /root/nltk_data...\n",
            "[nltk_data]    |   Unzipping corpora/conll2000.zip.\n",
            "[nltk_data]    | Downloading package conll2002 to /root/nltk_data...\n",
            "[nltk_data]    |   Unzipping corpora/conll2002.zip.\n",
            "[nltk_data]    | Downloading package dependency_treebank to\n",
            "[nltk_data]    |     /root/nltk_data...\n",
            "[nltk_data]    |   Unzipping corpora/dependency_treebank.zip.\n",
            "[nltk_data]    | Downloading package genesis to /root/nltk_data...\n",
            "[nltk_data]    |   Unzipping corpora/genesis.zip.\n",
            "[nltk_data]    | Downloading package gutenberg to /root/nltk_data...\n",
            "[nltk_data]    |   Unzipping corpora/gutenberg.zip.\n",
            "[nltk_data]    | Downloading package ieer to /root/nltk_data...\n",
            "[nltk_data]    |   Unzipping corpora/ieer.zip.\n",
            "[nltk_data]    | Downloading package inaugural to /root/nltk_data...\n",
            "[nltk_data]    |   Unzipping corpora/inaugural.zip.\n",
            "[nltk_data]    | Downloading package movie_reviews to\n",
            "[nltk_data]    |     /root/nltk_data...\n",
            "[nltk_data]    |   Unzipping corpora/movie_reviews.zip.\n",
            "[nltk_data]    | Downloading package nps_chat to /root/nltk_data...\n",
            "[nltk_data]    |   Unzipping corpora/nps_chat.zip.\n",
            "[nltk_data]    | Downloading package names to /root/nltk_data...\n",
            "[nltk_data]    |   Unzipping corpora/names.zip.\n",
            "[nltk_data]    | Downloading package ppattach to /root/nltk_data...\n",
            "[nltk_data]    |   Unzipping corpora/ppattach.zip.\n",
            "[nltk_data]    | Downloading package reuters to /root/nltk_data...\n",
            "[nltk_data]    | Downloading package senseval to /root/nltk_data...\n",
            "[nltk_data]    |   Unzipping corpora/senseval.zip.\n",
            "[nltk_data]    | Downloading package state_union to /root/nltk_data...\n",
            "[nltk_data]    |   Unzipping corpora/state_union.zip.\n",
            "[nltk_data]    | Downloading package stopwords to /root/nltk_data...\n",
            "[nltk_data]    |   Unzipping corpora/stopwords.zip.\n",
            "[nltk_data]    | Downloading package swadesh to /root/nltk_data...\n",
            "[nltk_data]    |   Unzipping corpora/swadesh.zip.\n",
            "[nltk_data]    | Downloading package timit to /root/nltk_data...\n",
            "[nltk_data]    |   Unzipping corpora/timit.zip.\n",
            "[nltk_data]    | Downloading package treebank to /root/nltk_data...\n",
            "[nltk_data]    |   Unzipping corpora/treebank.zip.\n",
            "[nltk_data]    | Downloading package toolbox to /root/nltk_data...\n",
            "[nltk_data]    |   Unzipping corpora/toolbox.zip.\n",
            "[nltk_data]    | Downloading package udhr to /root/nltk_data...\n",
            "[nltk_data]    |   Unzipping corpora/udhr.zip.\n",
            "[nltk_data]    | Downloading package udhr2 to /root/nltk_data...\n",
            "[nltk_data]    |   Unzipping corpora/udhr2.zip.\n",
            "[nltk_data]    | Downloading package unicode_samples to\n",
            "[nltk_data]    |     /root/nltk_data...\n",
            "[nltk_data]    |   Unzipping corpora/unicode_samples.zip.\n",
            "[nltk_data]    | Downloading package webtext to /root/nltk_data...\n",
            "[nltk_data]    |   Unzipping corpora/webtext.zip.\n",
            "[nltk_data]    | Downloading package wordnet to /root/nltk_data...\n",
            "[nltk_data]    | Downloading package wordnet_ic to /root/nltk_data...\n",
            "[nltk_data]    |   Unzipping corpora/wordnet_ic.zip.\n",
            "[nltk_data]    | Downloading package words to /root/nltk_data...\n",
            "[nltk_data]    |   Unzipping corpora/words.zip.\n",
            "[nltk_data]    | Downloading package maxent_treebank_pos_tagger to\n",
            "[nltk_data]    |     /root/nltk_data...\n",
            "[nltk_data]    |   Unzipping taggers/maxent_treebank_pos_tagger.zip.\n",
            "[nltk_data]    | Downloading package maxent_ne_chunker to\n",
            "[nltk_data]    |     /root/nltk_data...\n",
            "[nltk_data]    |   Unzipping chunkers/maxent_ne_chunker.zip.\n",
            "[nltk_data]    | Downloading package universal_tagset to\n",
            "[nltk_data]    |     /root/nltk_data...\n",
            "[nltk_data]    |   Unzipping taggers/universal_tagset.zip.\n",
            "[nltk_data]    | Downloading package punkt to /root/nltk_data...\n",
            "[nltk_data]    |   Unzipping tokenizers/punkt.zip.\n",
            "[nltk_data]    | Downloading package book_grammars to\n",
            "[nltk_data]    |     /root/nltk_data...\n",
            "[nltk_data]    |   Unzipping grammars/book_grammars.zip.\n",
            "[nltk_data]    | Downloading package city_database to\n",
            "[nltk_data]    |     /root/nltk_data...\n",
            "[nltk_data]    |   Unzipping corpora/city_database.zip.\n",
            "[nltk_data]    | Downloading package tagsets to /root/nltk_data...\n",
            "[nltk_data]    |   Unzipping help/tagsets.zip.\n",
            "[nltk_data]    | Downloading package panlex_swadesh to\n",
            "[nltk_data]    |     /root/nltk_data...\n",
            "[nltk_data]    | Downloading package averaged_perceptron_tagger to\n",
            "[nltk_data]    |     /root/nltk_data...\n",
            "[nltk_data]    |   Unzipping taggers/averaged_perceptron_tagger.zip.\n",
            "[nltk_data]    | \n",
            "[nltk_data]  Done downloading collection book\n",
            "[nltk_data] Downloading collection 'tests'\n",
            "[nltk_data]    | \n",
            "[nltk_data]    | Downloading package averaged_perceptron_tagger to\n",
            "[nltk_data]    |     /root/nltk_data...\n",
            "[nltk_data]    |   Package averaged_perceptron_tagger is already up-\n",
            "[nltk_data]    |       to-date!\n",
            "[nltk_data]    | Downloading package porter_test to /root/nltk_data...\n",
            "[nltk_data]    |   Unzipping stemmers/porter_test.zip.\n",
            "[nltk_data]    | Downloading package twitter_samples to\n",
            "[nltk_data]    |     /root/nltk_data...\n",
            "[nltk_data]    |   Unzipping corpora/twitter_samples.zip.\n",
            "[nltk_data]    | Downloading package wmt15_eval to /root/nltk_data...\n",
            "[nltk_data]    |   Unzipping models/wmt15_eval.zip.\n",
            "[nltk_data]    | Downloading package subjectivity to\n",
            "[nltk_data]    |     /root/nltk_data...\n",
            "[nltk_data]    |   Unzipping corpora/subjectivity.zip.\n",
            "[nltk_data]    | Downloading package framenet_v17 to\n",
            "[nltk_data]    |     /root/nltk_data...\n",
            "[nltk_data]    |   Unzipping corpora/framenet_v17.zip.\n",
            "[nltk_data]    | Downloading package product_reviews_1 to\n",
            "[nltk_data]    |     /root/nltk_data...\n",
            "[nltk_data]    |   Unzipping corpora/product_reviews_1.zip.\n",
            "[nltk_data]    | Downloading package product_reviews_2 to\n",
            "[nltk_data]    |     /root/nltk_data...\n",
            "[nltk_data]    |   Unzipping corpora/product_reviews_2.zip.\n",
            "[nltk_data]    | Downloading package vader_lexicon to\n",
            "[nltk_data]    |     /root/nltk_data...\n",
            "[nltk_data]    | Downloading package crubadan to /root/nltk_data...\n",
            "[nltk_data]    |   Unzipping corpora/crubadan.zip.\n",
            "[nltk_data]    | Downloading package mte_teip5 to /root/nltk_data...\n",
            "[nltk_data]    |   Unzipping corpora/mte_teip5.zip.\n",
            "[nltk_data]    | Downloading package sentence_polarity to\n",
            "[nltk_data]    |     /root/nltk_data...\n",
            "[nltk_data]    |   Unzipping corpora/sentence_polarity.zip.\n",
            "[nltk_data]    | Downloading package universal_treebanks_v20 to\n",
            "[nltk_data]    |     /root/nltk_data...\n",
            "[nltk_data]    | Downloading package panlex_swadesh to\n",
            "[nltk_data]    |     /root/nltk_data...\n",
            "[nltk_data]    |   Package panlex_swadesh is already up-to-date!\n",
            "[nltk_data]    | Downloading package nonbreaking_prefixes to\n",
            "[nltk_data]    |     /root/nltk_data...\n",
            "[nltk_data]    |   Unzipping corpora/nonbreaking_prefixes.zip.\n",
            "[nltk_data]    | Downloading package perluniprops to\n",
            "[nltk_data]    |     /root/nltk_data...\n",
            "[nltk_data]    |   Unzipping misc/perluniprops.zip.\n",
            "[nltk_data]    | Downloading package pros_cons to /root/nltk_data...\n",
            "[nltk_data]    |   Unzipping corpora/pros_cons.zip.\n",
            "[nltk_data]    | Downloading package opinion_lexicon to\n",
            "[nltk_data]    |     /root/nltk_data...\n",
            "[nltk_data]    |   Unzipping corpora/opinion_lexicon.zip.\n",
            "[nltk_data]    | Downloading package comparative_sentences to\n",
            "[nltk_data]    |     /root/nltk_data...\n",
            "[nltk_data]    |   Unzipping corpora/comparative_sentences.zip.\n",
            "[nltk_data]    | \n",
            "[nltk_data]  Done downloading collection tests\n",
            "[nltk_data] Downloading collection 'all-corpora'\n",
            "[nltk_data]    | \n",
            "[nltk_data]    | Downloading package abc to /root/nltk_data...\n",
            "[nltk_data]    |   Package abc is already up-to-date!\n",
            "[nltk_data]    | Downloading package alpino to /root/nltk_data...\n",
            "[nltk_data]    |   Unzipping corpora/alpino.zip.\n",
            "[nltk_data]    | Downloading package biocreative_ppi to\n",
            "[nltk_data]    |     /root/nltk_data...\n",
            "[nltk_data]    |   Unzipping corpora/biocreative_ppi.zip.\n",
            "[nltk_data]    | Downloading package brown to /root/nltk_data...\n",
            "[nltk_data]    |   Package brown is already up-to-date!\n",
            "[nltk_data]    | Downloading package brown_tei to /root/nltk_data...\n",
            "[nltk_data]    |   Unzipping corpora/brown_tei.zip.\n",
            "[nltk_data]    | Downloading package cess_cat to /root/nltk_data...\n",
            "[nltk_data]    |   Unzipping corpora/cess_cat.zip.\n",
            "[nltk_data]    | Downloading package cess_esp to /root/nltk_data...\n",
            "[nltk_data]    |   Unzipping corpora/cess_esp.zip.\n",
            "[nltk_data]    | Downloading package chat80 to /root/nltk_data...\n",
            "[nltk_data]    |   Package chat80 is already up-to-date!\n",
            "[nltk_data]    | Downloading package city_database to\n",
            "[nltk_data]    |     /root/nltk_data...\n",
            "[nltk_data]    |   Package city_database is already up-to-date!\n",
            "[nltk_data]    | Downloading package cmudict to /root/nltk_data...\n",
            "[nltk_data]    |   Package cmudict is already up-to-date!\n",
            "[nltk_data]    | Downloading package comparative_sentences to\n",
            "[nltk_data]    |     /root/nltk_data...\n",
            "[nltk_data]    |   Package comparative_sentences is already up-to-\n",
            "[nltk_data]    |       date!\n",
            "[nltk_data]    | Downloading package comtrans to /root/nltk_data...\n",
            "[nltk_data]    | Downloading package conll2000 to /root/nltk_data...\n",
            "[nltk_data]    |   Package conll2000 is already up-to-date!\n",
            "[nltk_data]    | Downloading package conll2002 to /root/nltk_data...\n",
            "[nltk_data]    |   Package conll2002 is already up-to-date!\n",
            "[nltk_data]    | Downloading package conll2007 to /root/nltk_data...\n",
            "[nltk_data]    | Downloading package crubadan to /root/nltk_data...\n",
            "[nltk_data]    |   Package crubadan is already up-to-date!\n",
            "[nltk_data]    | Downloading package dependency_treebank to\n",
            "[nltk_data]    |     /root/nltk_data...\n",
            "[nltk_data]    |   Package dependency_treebank is already up-to-date!\n",
            "[nltk_data]    | Downloading package dolch to /root/nltk_data...\n",
            "[nltk_data]    |   Unzipping corpora/dolch.zip.\n",
            "[nltk_data]    | Downloading package europarl_raw to\n",
            "[nltk_data]    |     /root/nltk_data...\n",
            "[nltk_data]    |   Unzipping corpora/europarl_raw.zip.\n",
            "[nltk_data]    | Downloading package extended_omw to\n",
            "[nltk_data]    |     /root/nltk_data...\n",
            "[nltk_data]    | Downloading package floresta to /root/nltk_data...\n",
            "[nltk_data]    |   Unzipping corpora/floresta.zip.\n",
            "[nltk_data]    | Downloading package framenet_v15 to\n",
            "[nltk_data]    |     /root/nltk_data...\n",
            "[nltk_data]    |   Unzipping corpora/framenet_v15.zip.\n",
            "[nltk_data]    | Downloading package framenet_v17 to\n",
            "[nltk_data]    |     /root/nltk_data...\n",
            "[nltk_data]    |   Package framenet_v17 is already up-to-date!\n",
            "[nltk_data]    | Downloading package gazetteers to /root/nltk_data...\n",
            "[nltk_data]    |   Unzipping corpora/gazetteers.zip.\n",
            "[nltk_data]    | Downloading package genesis to /root/nltk_data...\n",
            "[nltk_data]    |   Package genesis is already up-to-date!\n",
            "[nltk_data]    | Downloading package gutenberg to /root/nltk_data...\n",
            "[nltk_data]    |   Package gutenberg is already up-to-date!\n",
            "[nltk_data]    | Downloading package ieer to /root/nltk_data...\n",
            "[nltk_data]    |   Package ieer is already up-to-date!\n",
            "[nltk_data]    | Downloading package inaugural to /root/nltk_data...\n",
            "[nltk_data]    |   Package inaugural is already up-to-date!\n",
            "[nltk_data]    | Downloading package indian to /root/nltk_data...\n",
            "[nltk_data]    |   Unzipping corpora/indian.zip.\n",
            "[nltk_data]    | Downloading package jeita to /root/nltk_data...\n",
            "[nltk_data]    | Downloading package kimmo to /root/nltk_data...\n",
            "[nltk_data]    |   Unzipping corpora/kimmo.zip.\n",
            "[nltk_data]    | Downloading package knbc to /root/nltk_data...\n",
            "[nltk_data]    | Downloading package lin_thesaurus to\n",
            "[nltk_data]    |     /root/nltk_data...\n",
            "[nltk_data]    |   Unzipping corpora/lin_thesaurus.zip.\n",
            "[nltk_data]    | Downloading package mac_morpho to /root/nltk_data...\n",
            "[nltk_data]    |   Unzipping corpora/mac_morpho.zip.\n",
            "[nltk_data]    | Downloading package machado to /root/nltk_data...\n",
            "[nltk_data]    | Downloading package masc_tagged to /root/nltk_data...\n",
            "[nltk_data]    | Downloading package movie_reviews to\n",
            "[nltk_data]    |     /root/nltk_data...\n",
            "[nltk_data]    |   Package movie_reviews is already up-to-date!\n",
            "[nltk_data]    | Downloading package mte_teip5 to /root/nltk_data...\n",
            "[nltk_data]    |   Package mte_teip5 is already up-to-date!\n",
            "[nltk_data]    | Downloading package names to /root/nltk_data...\n",
            "[nltk_data]    |   Package names is already up-to-date!\n",
            "[nltk_data]    | Downloading package nombank.1.0 to /root/nltk_data...\n",
            "[nltk_data]    | Downloading package nonbreaking_prefixes to\n",
            "[nltk_data]    |     /root/nltk_data...\n",
            "[nltk_data]    |   Package nonbreaking_prefixes is already up-to-date!\n",
            "[nltk_data]    | Downloading package nps_chat to /root/nltk_data...\n",
            "[nltk_data]    |   Package nps_chat is already up-to-date!\n",
            "[nltk_data]    | Downloading package omw to /root/nltk_data...\n",
            "[nltk_data]    | Downloading package omw-1.4 to /root/nltk_data...\n",
            "[nltk_data]    | Downloading package opinion_lexicon to\n",
            "[nltk_data]    |     /root/nltk_data...\n",
            "[nltk_data]    |   Package opinion_lexicon is already up-to-date!\n",
            "[nltk_data]    | Downloading package panlex_swadesh to\n",
            "[nltk_data]    |     /root/nltk_data...\n",
            "[nltk_data]    |   Package panlex_swadesh is already up-to-date!\n",
            "[nltk_data]    | Downloading package paradigms to /root/nltk_data...\n",
            "[nltk_data]    |   Unzipping corpora/paradigms.zip.\n",
            "[nltk_data]    | Downloading package pe08 to /root/nltk_data...\n",
            "[nltk_data]    |   Unzipping corpora/pe08.zip.\n",
            "[nltk_data]    | Downloading package pil to /root/nltk_data...\n",
            "[nltk_data]    |   Unzipping corpora/pil.zip.\n",
            "[nltk_data]    | Downloading package pl196x to /root/nltk_data...\n",
            "[nltk_data]    |   Unzipping corpora/pl196x.zip.\n",
            "[nltk_data]    | Downloading package ppattach to /root/nltk_data...\n",
            "[nltk_data]    |   Package ppattach is already up-to-date!\n",
            "[nltk_data]    | Downloading package problem_reports to\n",
            "[nltk_data]    |     /root/nltk_data...\n",
            "[nltk_data]    |   Unzipping corpora/problem_reports.zip.\n",
            "[nltk_data]    | Downloading package product_reviews_1 to\n",
            "[nltk_data]    |     /root/nltk_data...\n",
            "[nltk_data]    |   Package product_reviews_1 is already up-to-date!\n",
            "[nltk_data]    | Downloading package product_reviews_2 to\n",
            "[nltk_data]    |     /root/nltk_data...\n",
            "[nltk_data]    |   Package product_reviews_2 is already up-to-date!\n",
            "[nltk_data]    | Downloading package propbank to /root/nltk_data...\n",
            "[nltk_data]    | Downloading package pros_cons to /root/nltk_data...\n",
            "[nltk_data]    |   Package pros_cons is already up-to-date!\n",
            "[nltk_data]    | Downloading package ptb to /root/nltk_data...\n",
            "[nltk_data]    |   Unzipping corpora/ptb.zip.\n",
            "[nltk_data]    | Downloading package qc to /root/nltk_data...\n",
            "[nltk_data]    |   Unzipping corpora/qc.zip.\n",
            "[nltk_data]    | Downloading package reuters to /root/nltk_data...\n",
            "[nltk_data]    |   Package reuters is already up-to-date!\n",
            "[nltk_data]    | Downloading package rte to /root/nltk_data...\n",
            "[nltk_data]    |   Unzipping corpora/rte.zip.\n",
            "[nltk_data]    | Downloading package semcor to /root/nltk_data...\n",
            "[nltk_data]    | Downloading package senseval to /root/nltk_data...\n",
            "[nltk_data]    |   Package senseval is already up-to-date!\n",
            "[nltk_data]    | Downloading package sentence_polarity to\n",
            "[nltk_data]    |     /root/nltk_data...\n",
            "[nltk_data]    |   Package sentence_polarity is already up-to-date!\n",
            "[nltk_data]    | Downloading package sentiwordnet to\n",
            "[nltk_data]    |     /root/nltk_data...\n",
            "[nltk_data]    |   Unzipping corpora/sentiwordnet.zip.\n",
            "[nltk_data]    | Downloading package shakespeare to /root/nltk_data...\n",
            "[nltk_data]    |   Unzipping corpora/shakespeare.zip.\n",
            "[nltk_data]    | Downloading package sinica_treebank to\n",
            "[nltk_data]    |     /root/nltk_data...\n",
            "[nltk_data]    |   Unzipping corpora/sinica_treebank.zip.\n",
            "[nltk_data]    | Downloading package smultron to /root/nltk_data...\n",
            "[nltk_data]    |   Unzipping corpora/smultron.zip.\n",
            "[nltk_data]    | Downloading package state_union to /root/nltk_data...\n",
            "[nltk_data]    |   Package state_union is already up-to-date!\n",
            "[nltk_data]    | Downloading package stopwords to /root/nltk_data...\n",
            "[nltk_data]    |   Package stopwords is already up-to-date!\n",
            "[nltk_data]    | Downloading package subjectivity to\n",
            "[nltk_data]    |     /root/nltk_data...\n",
            "[nltk_data]    |   Package subjectivity is already up-to-date!\n",
            "[nltk_data]    | Downloading package swadesh to /root/nltk_data...\n",
            "[nltk_data]    |   Package swadesh is already up-to-date!\n",
            "[nltk_data]    | Downloading package switchboard to /root/nltk_data...\n",
            "[nltk_data]    |   Unzipping corpora/switchboard.zip.\n",
            "[nltk_data]    | Downloading package timit to /root/nltk_data...\n",
            "[nltk_data]    |   Package timit is already up-to-date!\n",
            "[nltk_data]    | Downloading package toolbox to /root/nltk_data...\n",
            "[nltk_data]    |   Package toolbox is already up-to-date!\n",
            "[nltk_data]    | Downloading package treebank to /root/nltk_data...\n",
            "[nltk_data]    |   Package treebank is already up-to-date!\n",
            "[nltk_data]    | Downloading package twitter_samples to\n",
            "[nltk_data]    |     /root/nltk_data...\n",
            "[nltk_data]    |   Package twitter_samples is already up-to-date!\n",
            "[nltk_data]    | Downloading package udhr to /root/nltk_data...\n",
            "[nltk_data]    |   Package udhr is already up-to-date!\n",
            "[nltk_data]    | Downloading package udhr2 to /root/nltk_data...\n",
            "[nltk_data]    |   Package udhr2 is already up-to-date!\n",
            "[nltk_data]    | Downloading package unicode_samples to\n",
            "[nltk_data]    |     /root/nltk_data...\n",
            "[nltk_data]    |   Package unicode_samples is already up-to-date!\n",
            "[nltk_data]    | Downloading package universal_treebanks_v20 to\n",
            "[nltk_data]    |     /root/nltk_data...\n",
            "[nltk_data]    |   Package universal_treebanks_v20 is already up-to-\n",
            "[nltk_data]    |       date!\n",
            "[nltk_data]    | Downloading package verbnet to /root/nltk_data...\n",
            "[nltk_data]    |   Unzipping corpora/verbnet.zip.\n",
            "[nltk_data]    | Downloading package verbnet3 to /root/nltk_data...\n",
            "[nltk_data]    |   Unzipping corpora/verbnet3.zip.\n",
            "[nltk_data]    | Downloading package webtext to /root/nltk_data...\n",
            "[nltk_data]    |   Package webtext is already up-to-date!\n",
            "[nltk_data]    | Downloading package wordnet to /root/nltk_data...\n",
            "[nltk_data]    |   Package wordnet is already up-to-date!\n",
            "[nltk_data]    | Downloading package wordnet2021 to /root/nltk_data...\n",
            "[nltk_data]    | Downloading package wordnet31 to /root/nltk_data...\n",
            "[nltk_data]    | Downloading package wordnet_ic to /root/nltk_data...\n",
            "[nltk_data]    |   Package wordnet_ic is already up-to-date!\n",
            "[nltk_data]    | Downloading package words to /root/nltk_data...\n",
            "[nltk_data]    |   Package words is already up-to-date!\n",
            "[nltk_data]    | Downloading package ycoe to /root/nltk_data...\n",
            "[nltk_data]    |   Unzipping corpora/ycoe.zip.\n",
            "[nltk_data]    | \n",
            "[nltk_data]  Done downloading collection all-corpora\n"
          ]
        },
        {
          "output_type": "execute_result",
          "data": {
            "text/plain": [
              "True"
            ]
          },
          "metadata": {},
          "execution_count": 41
        }
      ]
    },
    {
      "cell_type": "code",
      "source": [
        "# impor word_tokenize dari modul nltk\n",
        "from nltk.tokenize import sent_tokenize, word_tokenize\n",
        "kalimat = \"3.0 Berkunjung ke kota Pati, karena masih kenyang pesen bakso pangsit kuah, over all enak. Tapi... Mangkok yang disajikan ke saya cuil/gompal... Tentu terasa TDK nyaman... Hendak minta ganti mangkok tapi sungkan... Es tehnya jumbo... Tapi bagi saya kurang manis... Kunjungan pertama ini sy kasih bintang 3... Parkir space nya sdikit baik mobil dan motor... Kebetulan musim hujan... Yang bawa motor... Motornya kehujanan... Terima kasih... RESTO SURYA termasuk rekomendasi tempat makan yang nyaman dan bersih... Dari menu makanan nya menyehatkan dan lezat.2.0\"\n",
        "tokens = word_tokenize(kalimat)\n",
        "print(tokens)"
      ],
      "metadata": {
        "colab": {
          "base_uri": "https://localhost:8080/"
        },
        "id": "Id59OxWJwfkv",
        "outputId": "b1d93e07-c126-4a21-b67f-f230ed0cecf1"
      },
      "execution_count": 42,
      "outputs": [
        {
          "output_type": "stream",
          "name": "stdout",
          "text": [
            "['3.0', 'Berkunjung', 'ke', 'kota', 'Pati', ',', 'karena', 'masih', 'kenyang', 'pesen', 'bakso', 'pangsit', 'kuah', ',', 'over', 'all', 'enak', '.', 'Tapi', '...', 'Mangkok', 'yang', 'disajikan', 'ke', 'saya', 'cuil/gompal', '...', 'Tentu', 'terasa', 'TDK', 'nyaman', '...', 'Hendak', 'minta', 'ganti', 'mangkok', 'tapi', 'sungkan', '...', 'Es', 'tehnya', 'jumbo', '...', 'Tapi', 'bagi', 'saya', 'kurang', 'manis', '...', 'Kunjungan', 'pertama', 'ini', 'sy', 'kasih', 'bintang', '3', '...', 'Parkir', 'space', 'nya', 'sdikit', 'baik', 'mobil', 'dan', 'motor', '...', 'Kebetulan', 'musim', 'hujan', '...', 'Yang', 'bawa', 'motor', '...', 'Motornya', 'kehujanan', '...', 'Terima', 'kasih', '...', 'RESTO', 'SURYA', 'termasuk', 'rekomendasi', 'tempat', 'makan', 'yang', 'nyaman', 'dan', 'bersih', '...', 'Dari', 'menu', 'makanan', 'nya', 'menyehatkan', 'dan', 'lezat.2.0']\n"
          ]
        }
      ]
    },
    {
      "cell_type": "code",
      "source": [
        "# >>>>> STOPWORD REMOVAL(FILTERING) <<<<< #\n",
        "\n",
        "# Filtering dengan sastrawi\n",
        "!pip install Sastrawi"
      ],
      "metadata": {
        "colab": {
          "base_uri": "https://localhost:8080/"
        },
        "id": "Bw6qkP5cxKAh",
        "outputId": "93cc1360-4e3b-42df-d865-ed39d5e39acb"
      },
      "execution_count": 43,
      "outputs": [
        {
          "output_type": "stream",
          "name": "stdout",
          "text": [
            "Looking in indexes: https://pypi.org/simple, https://us-python.pkg.dev/colab-wheels/public/simple/\n",
            "Collecting Sastrawi\n",
            "  Downloading Sastrawi-1.0.1-py2.py3-none-any.whl (209 kB)\n",
            "\u001b[K     |████████████████████████████████| 209 kB 5.2 MB/s \n",
            "\u001b[?25hInstalling collected packages: Sastrawi\n",
            "Successfully installed Sastrawi-1.0.1\n"
          ]
        }
      ]
    },
    {
      "cell_type": "code",
      "source": [
        "# Daftar stopword yang tersedia di library Sastrawi\n",
        "from Sastrawi.StopWordRemover.StopWordRemoverFactory import StopWordRemoverFactory\n",
        "factory = StopWordRemoverFactory()\n",
        "stopwords = factory.get_stop_words()\n",
        "print(stopwords)"
      ],
      "metadata": {
        "colab": {
          "base_uri": "https://localhost:8080/"
        },
        "id": "l-NQL1fSxQZt",
        "outputId": "3cf0badc-47fb-4373-9e1c-c9c6eaab7314"
      },
      "execution_count": 44,
      "outputs": [
        {
          "output_type": "stream",
          "name": "stdout",
          "text": [
            "['yang', 'untuk', 'pada', 'ke', 'para', 'namun', 'menurut', 'antara', 'dia', 'dua', 'ia', 'seperti', 'jika', 'jika', 'sehingga', 'kembali', 'dan', 'tidak', 'ini', 'karena', 'kepada', 'oleh', 'saat', 'harus', 'sementara', 'setelah', 'belum', 'kami', 'sekitar', 'bagi', 'serta', 'di', 'dari', 'telah', 'sebagai', 'masih', 'hal', 'ketika', 'adalah', 'itu', 'dalam', 'bisa', 'bahwa', 'atau', 'hanya', 'kita', 'dengan', 'akan', 'juga', 'ada', 'mereka', 'sudah', 'saya', 'terhadap', 'secara', 'agar', 'lain', 'anda', 'begitu', 'mengapa', 'kenapa', 'yaitu', 'yakni', 'daripada', 'itulah', 'lagi', 'maka', 'tentang', 'demi', 'dimana', 'kemana', 'pula', 'sambil', 'sebelum', 'sesudah', 'supaya', 'guna', 'kah', 'pun', 'sampai', 'sedangkan', 'selagi', 'sementara', 'tetapi', 'apakah', 'kecuali', 'sebab', 'selain', 'seolah', 'seraya', 'seterusnya', 'tanpa', 'agak', 'boleh', 'dapat', 'dsb', 'dst', 'dll', 'dahulu', 'dulunya', 'anu', 'demikian', 'tapi', 'ingin', 'juga', 'nggak', 'mari', 'nanti', 'melainkan', 'oh', 'ok', 'seharusnya', 'sebetulnya', 'setiap', 'setidaknya', 'sesuatu', 'pasti', 'saja', 'toh', 'ya', 'walau', 'tolong', 'tentu', 'amat', 'apalagi', 'bagaimanapun']\n"
          ]
        }
      ]
    },
    {
      "cell_type": "code",
      "source": [
        "# imort StopWordRemoverFactory class\n",
        "from Sastrawi.StopWordRemover.StopWordRemoverFactory import StopWordRemoverFactory\n",
        "factory = StopWordRemoverFactory()\n",
        "stopword = factory.create_stop_word_remover()\n",
        "# Kalimat\n",
        "kalimat = \"3.0 Berkunjung ke kota Pati, karena masih kenyang pesen bakso pangsit kuah, over all enak. Tapi... Mangkok yang disajikan ke saya cuil/gompal... Tentu terasa TDK nyaman... Hendak minta ganti mangkok tapi sungkan... Es tehnya jumbo... Tapi bagi saya kurang manis... Kunjungan pertama ini sy kasih bintang 3... Parkir space nya sdikit baik mobil dan motor... Kebetulan musim hujan... Yang bawa motor... Motornya kehujanan... Terima kasih... RESTO SURYA termasuk rekomendasi tempat makan yang nyaman dan bersih... Dari menu makanan nya menyehatkan dan lezat.2.0\"\n",
        "stop = stopword.remove(kalimat)\n",
        "print(stop)"
      ],
      "metadata": {
        "colab": {
          "base_uri": "https://localhost:8080/"
        },
        "id": "9ybxLXWCx1nl",
        "outputId": "34cea771-3f0b-4ba4-d6b1-01820c8d2ccf"
      },
      "execution_count": 45,
      "outputs": [
        {
          "output_type": "stream",
          "name": "stdout",
          "text": [
            "3.0 Berkunjung kota Pati, masih kenyang pesen bakso pangsit kuah, over all enak. Tapi... Mangkok disajikan saya cuil/gompal... Tentu terasa TDK nyaman... Hendak minta ganti mangkok sungkan... Es tehnya jumbo... Tapi saya kurang manis... Kunjungan pertama sy kasih bintang 3... Parkir space nya sdikit baik mobil motor... Kebetulan musim hujan... Yang bawa motor... Motornya kehujanan... Terima kasih... RESTO SURYA termasuk rekomendasi tempat makan nyaman bersih... Dari menu makanan nya menyehatkan lezat.2.0\n"
          ]
        }
      ]
    },
    {
      "cell_type": "code",
      "source": [
        "# ==== STEMMING ==== #\n",
        "\n",
        "# Stemming dengan sastrawi\n",
        "!pip install Sastrawi"
      ],
      "metadata": {
        "colab": {
          "base_uri": "https://localhost:8080/"
        },
        "id": "8qd-npXbyPQm",
        "outputId": "1cd8fd7a-4beb-4d9e-852d-2fd014c71ff0"
      },
      "execution_count": 46,
      "outputs": [
        {
          "output_type": "stream",
          "name": "stdout",
          "text": [
            "Looking in indexes: https://pypi.org/simple, https://us-python.pkg.dev/colab-wheels/public/simple/\n",
            "Requirement already satisfied: Sastrawi in /usr/local/lib/python3.7/dist-packages (1.0.1)\n"
          ]
        }
      ]
    },
    {
      "cell_type": "code",
      "source": [
        "# import StemmerFactory class\n",
        "from Sastrawi.Stemmer.StemmerFactory import StemmerFactory \n",
        "factory = StemmerFactory()\n",
        "stemmer = factory.create_stemmer()\n",
        "kalimat = 'Enaakk but aku lupa lagi sakit lambung ..jadi makannya sambil was was ..hihiw ..tp uenakk recommend 🙏'\n",
        "hasil = stemmer.stem(kalimat)\n",
        "print(hasil)\n"
      ],
      "metadata": {
        "colab": {
          "base_uri": "https://localhost:8080/"
        },
        "id": "47faeFv4yasZ",
        "outputId": "770c0504-c210-4ad4-ce0f-514af420673e"
      },
      "execution_count": 47,
      "outputs": [
        {
          "output_type": "stream",
          "name": "stdout",
          "text": [
            "enaakk but aku lupa lagi sakit lambung jadi makan sambil was was hihiw tp uenakk recommend\n"
          ]
        }
      ]
    }
  ]
}