{
  "nbformat": 4,
  "nbformat_minor": 0,
  "metadata": {
    "colab": {
      "provenance": [],
      "collapsed_sections": [],
      "authorship_tag": "ABX9TyPdTLvVAmNdisO1qc8qydPa",
      "include_colab_link": true
    },
    "kernelspec": {
      "name": "python3",
      "display_name": "Python 3"
    },
    "language_info": {
      "name": "python"
    }
  },
  "cells": [
    {
      "cell_type": "markdown",
      "metadata": {
        "id": "view-in-github",
        "colab_type": "text"
      },
      "source": [
        "<a href=\"https://colab.research.google.com/github/syamsulmuariff/reviews_serpapi_arif/blob/main/tugas_100_review.ipynb\" target=\"_parent\"><img src=\"https://colab.research.google.com/assets/colab-badge.svg\" alt=\"Open In Colab\"/></a>"
      ]
    },
    {
      "cell_type": "code",
      "execution_count": null,
      "metadata": {
        "colab": {
          "base_uri": "https://localhost:8080/"
        },
        "id": "c6JKPzZy9kGk",
        "outputId": "241dc622-fe88-42cf-fa03-a424d2b25939"
      },
      "outputs": [
        {
          "output_type": "stream",
          "name": "stdout",
          "text": [
            "Looking in indexes: https://pypi.org/simple, https://us-python.pkg.dev/colab-wheels/public/simple/\n",
            "Collecting google-search-results\n",
            "  Downloading google_search_results-2.4.1.tar.gz (11 kB)\n",
            "Requirement already satisfied: requests in /usr/local/lib/python3.7/dist-packages (from google-search-results) (2.23.0)\n",
            "Requirement already satisfied: urllib3!=1.25.0,!=1.25.1,<1.26,>=1.21.1 in /usr/local/lib/python3.7/dist-packages (from requests->google-search-results) (1.24.3)\n",
            "Requirement already satisfied: certifi>=2017.4.17 in /usr/local/lib/python3.7/dist-packages (from requests->google-search-results) (2022.9.24)\n",
            "Requirement already satisfied: idna<3,>=2.5 in /usr/local/lib/python3.7/dist-packages (from requests->google-search-results) (2.10)\n",
            "Requirement already satisfied: chardet<4,>=3.0.2 in /usr/local/lib/python3.7/dist-packages (from requests->google-search-results) (3.0.4)\n",
            "Building wheels for collected packages: google-search-results\n",
            "  Building wheel for google-search-results (setup.py) ... \u001b[?25l\u001b[?25hdone\n",
            "  Created wheel for google-search-results: filename=google_search_results-2.4.1-py3-none-any.whl size=25789 sha256=8035f3061df949b28e2201ca42675a3d102e8b90e503783bc77f34ce4ba184bd\n",
            "  Stored in directory: /root/.cache/pip/wheels/82/a3/c5/364155118f298722dff2f79ae4dd7c91e92b433ad36d6f7e0e\n",
            "Successfully built google-search-results\n",
            "Installing collected packages: google-search-results\n",
            "Successfully installed google-search-results-2.4.1\n"
          ]
        }
      ],
      "source": [
        "pip install google-search-results"
      ]
    },
    {
      "cell_type": "code",
      "source": [
        "from serpapi import GoogleSearch\n",
        "\n",
        "params = {\n",
        "  \"engine\": \"google_maps\",\n",
        "  \"q\": \"restaurant\",\n",
        "  \"ll\": \"@-6.748673,111.037923,14z\",\n",
        "  \"type\": \"search\",\n",
        "  \"api_key\": \"b77985061bea13234fff243aec3d87ae16559070f08d57000bdc60c437459935\"\n",
        "}\n",
        "\n",
        "search = GoogleSearch(params)\n",
        "results = search.get_dict()\n",
        "local_results = results[\"local_results\"]"
      ],
      "metadata": {
        "colab": {
          "base_uri": "https://localhost:8080/"
        },
        "id": "THIQCRqN_4o9",
        "outputId": "f2e052c7-56d3-44b0-dae3-b2c0e94f20d2"
      },
      "execution_count": null,
      "outputs": [
        {
          "output_type": "stream",
          "name": "stdout",
          "text": [
            "https://serpapi.com/search\n"
          ]
        }
      ]
    },
    {
      "cell_type": "code",
      "source": [
        "local_results"
      ],
      "metadata": {
        "colab": {
          "base_uri": "https://localhost:8080/"
        },
        "id": "Q8Menhw1BXOO",
        "outputId": "b652ed75-f911-481f-bc4d-f112052bdc11"
      },
      "execution_count": null,
      "outputs": [
        {
          "output_type": "execute_result",
          "data": {
            "text/plain": [
              "[{'position': 1,\n",
              "  'title': '\"Fast Food Restaurant\"',\n",
              "  'place_id': 'ChIJ9wqAr6rTcC4RWnrZGH_Aikk',\n",
              "  'data_id': '0x2e70d3aaaf800af7:0x498ac07f18d97a5a',\n",
              "  'data_cid': '5299259563665095258',\n",
              "  'reviews_link': 'https://serpapi.com/search.json?data_id=0x2e70d3aaaf800af7%3A0x498ac07f18d97a5a&engine=google_maps_reviews&hl=en',\n",
              "  'photos_link': 'https://serpapi.com/search.json?data_id=0x2e70d3aaaf800af7%3A0x498ac07f18d97a5a&engine=google_maps_photos&hl=en',\n",
              "  'gps_coordinates': {'latitude': -6.7443399, 'longitude': 111.0454425},\n",
              "  'place_id_search': 'https://serpapi.com/search.json?data=%214m5%213m4%211s0x2e70d3aaaf800af7%3A0x498ac07f18d97a5a%218m2%213d-6.7443399%214d111.0454425&engine=google_maps&google_domain=google.com&hl=en&type=place',\n",
              "  'unclaimed_listing': True,\n",
              "  'type': 'Restaurant',\n",
              "  'address': '724W+758, Jl. Kembang Joyo, Ngembleb, Kutoharjo, Kec. Pati, Kabupaten Pati, Jawa Tengah 59118, Indonesia',\n",
              "  'service_options': {'dine_in': True, 'takeout': True},\n",
              "  'thumbnail': 'https://streetviewpixels-pa.googleapis.com/v1/thumbnail?panoid=56aTLxIpGb7PRDhgiPpj-Q&cb_client=search.gws-prod.gps&w=80&h=92&yaw=225.49535&pitch=0&thumbfov=100'},\n",
              " {'position': 2,\n",
              "  'title': 'Fast Food Restaurant',\n",
              "  'place_id': 'ChIJw13uOF7ScC4RmsRX-pqfV7k',\n",
              "  'data_id': '0x2e70d25e38ee5dc3:0xb9579f9afa57c49a',\n",
              "  'data_cid': '13355318707964331162',\n",
              "  'reviews_link': 'https://serpapi.com/search.json?data_id=0x2e70d25e38ee5dc3%3A0xb9579f9afa57c49a&engine=google_maps_reviews&hl=en',\n",
              "  'photos_link': 'https://serpapi.com/search.json?data_id=0x2e70d25e38ee5dc3%3A0xb9579f9afa57c49a&engine=google_maps_photos&hl=en',\n",
              "  'gps_coordinates': {'latitude': -6.764174, 'longitude': 111.04209039999999},\n",
              "  'place_id_search': 'https://serpapi.com/search.json?data=%214m5%213m4%211s0x2e70d25e38ee5dc3%3A0xb9579f9afa57c49a%218m2%213d-6.764174%214d111.04209039999999&engine=google_maps&google_domain=google.com&hl=en&type=place',\n",
              "  'unclaimed_listing': True,\n",
              "  'type': 'Restaurant',\n",
              "  'address': 'Tempel, Panjunan, Kec. Pati, Kabupaten Pati, Jawa Tengah, Indonesia',\n",
              "  'service_options': {'dine_in': True, 'takeout': True},\n",
              "  'thumbnail': 'https://streetviewpixels-pa.googleapis.com/v1/thumbnail?panoid=q17MWl2bUpwLItAJn327PQ&cb_client=search.gws-prod.gps&w=80&h=92&yaw=98.31555&pitch=0&thumbfov=100'},\n",
              " {'position': 3,\n",
              "  'title': 'HARMONIS restaurant',\n",
              "  'place_id': 'ChIJoS-6DqrTcC4R-Nlp99Sq3CE',\n",
              "  'data_id': '0x2e70d3aa0eba2fa1:0x21dcaad4f769d9f8',\n",
              "  'data_cid': '2440012929788664312',\n",
              "  'reviews_link': 'https://serpapi.com/search.json?data_id=0x2e70d3aa0eba2fa1%3A0x21dcaad4f769d9f8&engine=google_maps_reviews&hl=en',\n",
              "  'photos_link': 'https://serpapi.com/search.json?data_id=0x2e70d3aa0eba2fa1%3A0x21dcaad4f769d9f8&engine=google_maps_photos&hl=en',\n",
              "  'gps_coordinates': {'latitude': -6.7408044, 'longitude': 111.04550239999999},\n",
              "  'place_id_search': 'https://serpapi.com/search.json?data=%214m5%213m4%211s0x2e70d3aa0eba2fa1%3A0x21dcaad4f769d9f8%218m2%213d-6.7408044%214d111.04550239999999&engine=google_maps&google_domain=google.com&hl=en&type=place',\n",
              "  'rating': 4.5,\n",
              "  'reviews': 4,\n",
              "  'unclaimed_listing': True,\n",
              "  'type': 'Restaurant',\n",
              "  'address': '725W+M6C, Ngipik, Kutoharjo, Pati, Pati Regency, Central Java 59118, Indonesia',\n",
              "  'open_state': 'Closed ⋅ Opens 6AM Wed',\n",
              "  'hours': 'Closed ⋅ Opens 6AM Wed',\n",
              "  'operating_hours': {'tuesday': '6AM–5PM',\n",
              "   'wednesday': '6AM–5PM',\n",
              "   'thursday': '6AM–5PM',\n",
              "   'friday': 'Closed',\n",
              "   'saturday': '6AM–5PM',\n",
              "   'sunday': '6AM–5PM',\n",
              "   'monday': '6AM–5PM'},\n",
              "  'phone': '+62 295 384825',\n",
              "  'service_options': {'dine_in': True, 'takeout': True},\n",
              "  'thumbnail': 'https://streetviewpixels-pa.googleapis.com/v1/thumbnail?panoid=QGwhTa2WqNtBRHu_VerD3A&cb_client=search.gws-prod.gps&w=80&h=92&yaw=329.53177&pitch=0&thumbfov=100'},\n",
              " {'position': 4,\n",
              "  'title': 'Warung Makan Kamandowo',\n",
              "  'place_id': 'ChIJ_20DYFDScC4RfhURA8ubNLI',\n",
              "  'data_id': '0x2e70d25060036dff:0xb2349bcb0311157e',\n",
              "  'data_cid': '12841059733772244350',\n",
              "  'reviews_link': 'https://serpapi.com/search.json?data_id=0x2e70d25060036dff%3A0xb2349bcb0311157e&engine=google_maps_reviews&hl=en',\n",
              "  'photos_link': 'https://serpapi.com/search.json?data_id=0x2e70d25060036dff%3A0xb2349bcb0311157e&engine=google_maps_photos&hl=en',\n",
              "  'gps_coordinates': {'latitude': -6.7542827999999995,\n",
              "   'longitude': 111.0366835},\n",
              "  'place_id_search': 'https://serpapi.com/search.json?data=%214m5%213m4%211s0x2e70d25060036dff%3A0xb2349bcb0311157e%218m2%213d-6.7542827999999995%214d111.0366835&engine=google_maps&google_domain=google.com&hl=en&type=place',\n",
              "  'rating': 4.2,\n",
              "  'reviews': 141,\n",
              "  'price': '$$',\n",
              "  'unclaimed_listing': True,\n",
              "  'type': 'Javanese restaurant',\n",
              "  'address': 'Jl. Kamandowo No.15, Pati Kidul, Kec. Pati, Kabupaten Pati, Jawa Tengah 59114, Indonesia',\n",
              "  'open_state': 'Closed ⋅ Opens 7:30AM Wed',\n",
              "  'hours': 'Closed ⋅ Opens 7:30AM Wed',\n",
              "  'operating_hours': {'tuesday': '7:30AM–5PM',\n",
              "   'wednesday': '7:30AM–5PM',\n",
              "   'thursday': '7:30AM–5PM',\n",
              "   'friday': '7:30AM–5PM',\n",
              "   'saturday': '7:30AM–5PM',\n",
              "   'sunday': 'Closed',\n",
              "   'monday': '7:30AM–5PM'},\n",
              "  'phone': '+62 813-2511-3107',\n",
              "  'service_options': {'dine_in': True, 'takeout': True},\n",
              "  'thumbnail': 'https://lh5.googleusercontent.com/p/AF1QipPEF7i9Hef6mIjjoHKm5qF6ilwgQNeuw9b7ct-P=w163-h92-k-no'},\n",
              " {'position': 5,\n",
              "  'title': 'BOS DIMSUM PATI',\n",
              "  'place_id': 'ChIJO1orrYHTcC4RVnmdTh9G15o',\n",
              "  'data_id': '0x2e70d381ad2b5a3b:0x9ad7461f4e9d7956',\n",
              "  'data_cid': '11157463702110566742',\n",
              "  'reviews_link': 'https://serpapi.com/search.json?data_id=0x2e70d381ad2b5a3b%3A0x9ad7461f4e9d7956&engine=google_maps_reviews&hl=en',\n",
              "  'photos_link': 'https://serpapi.com/search.json?data_id=0x2e70d381ad2b5a3b%3A0x9ad7461f4e9d7956&engine=google_maps_photos&hl=en',\n",
              "  'gps_coordinates': {'latitude': -6.743092799999999,\n",
              "   'longitude': 111.0417514},\n",
              "  'place_id_search': 'https://serpapi.com/search.json?data=%214m5%213m4%211s0x2e70d381ad2b5a3b%3A0x9ad7461f4e9d7956%218m2%213d-6.743092799999999%214d111.0417514&engine=google_maps&google_domain=google.com&hl=en&type=place',\n",
              "  'rating': 4.6,\n",
              "  'reviews': 12,\n",
              "  'type': 'Dim sum restaurant',\n",
              "  'address': 'Jl. Dr. Susanto Jl. Randu Kuning No.85, Randukuning, Pati Lor, Kec. Pati, Kabupaten Pati, Jawa Tengah 59111, Indonesia',\n",
              "  'open_state': 'Closes soon ⋅ 8PM ⋅ Opens 11AM Wed',\n",
              "  'hours': 'Closes soon ⋅ 8PM ⋅ Opens 11AM Wed',\n",
              "  'operating_hours': {'tuesday': '11AM–8PM',\n",
              "   'wednesday': '11AM–8PM',\n",
              "   'thursday': '11AM–8PM',\n",
              "   'friday': '11AM–8PM',\n",
              "   'saturday': '11AM–8PM',\n",
              "   'sunday': '11AM–8PM',\n",
              "   'monday': '11AM–8PM'},\n",
              "  'phone': '+62 812-2758-4299',\n",
              "  'service_options': {'dine_in': True, 'takeout': True, 'delivery': True},\n",
              "  'thumbnail': 'https://lh5.googleusercontent.com/p/AF1QipMVu9JTru_eY1h5yVp2F71rliRcE2NUc0UwT04=w80-h106-k-no'},\n",
              " {'position': 6,\n",
              "  'title': 'Salza',\n",
              "  'place_id': 'ChIJ25rdKFfScC4RlMFlpVohQkc',\n",
              "  'data_id': '0x2e70d25728dd9adb:0x4742215aa565c194',\n",
              "  'data_cid': '5134703198361469332',\n",
              "  'reviews_link': 'https://serpapi.com/search.json?data_id=0x2e70d25728dd9adb%3A0x4742215aa565c194&engine=google_maps_reviews&hl=en',\n",
              "  'photos_link': 'https://serpapi.com/search.json?data_id=0x2e70d25728dd9adb%3A0x4742215aa565c194&engine=google_maps_photos&hl=en',\n",
              "  'gps_coordinates': {'latitude': -6.7530145, 'longitude': 111.04085149999999},\n",
              "  'place_id_search': 'https://serpapi.com/search.json?data=%214m5%213m4%211s0x2e70d25728dd9adb%3A0x4742215aa565c194%218m2%213d-6.7530145%214d111.04085149999999&engine=google_maps&google_domain=google.com&hl=en&type=place',\n",
              "  'rating': 4,\n",
              "  'reviews': 85,\n",
              "  'price': '$$',\n",
              "  'type': 'Seafood restaurant',\n",
              "  'address': 'Jl. Tombronegoro No.1, Kaborongan, Pati Lor, Pati, Pati Regency, Central Java 59115, Indonesia',\n",
              "  'open_state': 'Open ⋅ Closes 12AM',\n",
              "  'hours': 'Open ⋅ Closes 12AM',\n",
              "  'operating_hours': {'tuesday': '8AM–12AM',\n",
              "   'wednesday': '8AM–12AM',\n",
              "   'thursday': '8AM–12AM',\n",
              "   'friday': '8AM–12AM',\n",
              "   'saturday': '8AM–12AM',\n",
              "   'sunday': '8AM–12AM',\n",
              "   'monday': '8AM–12AM'},\n",
              "  'phone': '+62 295 384247',\n",
              "  'service_options': {'dine_in': True, 'takeout': True},\n",
              "  'thumbnail': 'https://lh5.googleusercontent.com/p/AF1QipM9Hxlp2xutjl19NUN6imt16s2LpFztaSpQGyEr=w163-h92-k-no'},\n",
              " {'position': 7,\n",
              "  'title': 'Rocket Chicken Winong Pati',\n",
              "  'place_id': 'ChIJEzRWa7fTcC4RcnuWcv33wZ4',\n",
              "  'data_id': '0x2e70d3b76b563413:0x9ec1f7fd72967b72',\n",
              "  'data_cid': '11439697196419021682',\n",
              "  'reviews_link': 'https://serpapi.com/search.json?data_id=0x2e70d3b76b563413%3A0x9ec1f7fd72967b72&engine=google_maps_reviews&hl=en',\n",
              "  'photos_link': 'https://serpapi.com/search.json?data_id=0x2e70d3b76b563413%3A0x9ec1f7fd72967b72&engine=google_maps_photos&hl=en',\n",
              "  'gps_coordinates': {'latitude': -6.7398086, 'longitude': 111.0275581},\n",
              "  'place_id_search': 'https://serpapi.com/search.json?data=%214m5%213m4%211s0x2e70d3b76b563413%3A0x9ec1f7fd72967b72%218m2%213d-6.7398086%214d111.0275581&engine=google_maps&google_domain=google.com&hl=en&type=place',\n",
              "  'rating': 4.3,\n",
              "  'reviews': 207,\n",
              "  'unclaimed_listing': True,\n",
              "  'type': 'Chicken restaurant',\n",
              "  'address': 'Jl. A. Yani No.57, Ngagul, Winong, Pati, Pati Regency, Central Java 59112, Indonesia',\n",
              "  'open_state': 'Open ⋅ Closes 9PM',\n",
              "  'hours': 'Open ⋅ Closes 9PM',\n",
              "  'operating_hours': {'tuesday': '9AM–9PM',\n",
              "   'wednesday': '9AM–9PM',\n",
              "   'thursday': '9AM–9PM',\n",
              "   'friday': '9AM–9PM',\n",
              "   'saturday': '9AM–9PM',\n",
              "   'sunday': '9AM–9PM',\n",
              "   'monday': '9AM–9PM'},\n",
              "  'phone': '+62 877-4469-5319',\n",
              "  'service_options': {'dine_in': True, 'takeout': True, 'delivery': True},\n",
              "  'thumbnail': 'https://lh5.googleusercontent.com/p/AF1QipO8zKC0SXf4D41hWVgZb4rjUJ8ZeQIdgw_c5amh=w122-h92-k-no'},\n",
              " {'position': 8,\n",
              "  'title': 'epicentree coffee and resto',\n",
              "  'place_id': 'ChIJK-xvKrzTcC4RazFQz9k5L54',\n",
              "  'data_id': '0x2e70d3bc2a6fec2b:0x9e2f39d9cf50316b',\n",
              "  'data_cid': '11398392789546840427',\n",
              "  'reviews_link': 'https://serpapi.com/search.json?data_id=0x2e70d3bc2a6fec2b%3A0x9e2f39d9cf50316b&engine=google_maps_reviews&hl=en',\n",
              "  'photos_link': 'https://serpapi.com/search.json?data_id=0x2e70d3bc2a6fec2b%3A0x9e2f39d9cf50316b&engine=google_maps_photos&hl=en',\n",
              "  'gps_coordinates': {'latitude': -6.7269874, 'longitude': 111.0205522},\n",
              "  'place_id_search': 'https://serpapi.com/search.json?data=%214m5%213m4%211s0x2e70d3bc2a6fec2b%3A0x9e2f39d9cf50316b%218m2%213d-6.7269874%214d111.0205522&engine=google_maps&google_domain=google.com&hl=en&type=place',\n",
              "  'rating': 4.8,\n",
              "  'reviews': 22,\n",
              "  'type': 'Restaurant',\n",
              "  'address': 'Bongsri, Tamansari, Pati, Pati Regency, Central Java, Indonesia',\n",
              "  'phone': '+62 812-4854-3340',\n",
              "  'service_options': {'dine_in': True, 'takeout': True},\n",
              "  'thumbnail': 'https://lh5.googleusercontent.com/p/AF1QipOy88iXN5aZse1PucsJvSeZvQ2HulR8vdMqToAF=w163-h92-k-no'},\n",
              " {'position': 9,\n",
              "  'title': 'Fast Food Restaurant',\n",
              "  'place_id': 'ChIJyft1N_nScC4R2sV7iX5iFJY',\n",
              "  'data_id': '0x2e70d2f93775fbc9:0x9614627e897bc5da',\n",
              "  'data_cid': '10814376900835395034',\n",
              "  'reviews_link': 'https://serpapi.com/search.json?data_id=0x2e70d2f93775fbc9%3A0x9614627e897bc5da&engine=google_maps_reviews&hl=en',\n",
              "  'photos_link': 'https://serpapi.com/search.json?data_id=0x2e70d2f93775fbc9%3A0x9614627e897bc5da&engine=google_maps_photos&hl=en',\n",
              "  'gps_coordinates': {'latitude': -6.7503826, 'longitude': 111.0503236},\n",
              "  'place_id_search': 'https://serpapi.com/search.json?data=%214m5%213m4%211s0x2e70d2f93775fbc9%3A0x9614627e897bc5da%218m2%213d-6.7503826%214d111.0503236&engine=google_maps&google_domain=google.com&hl=en&type=place',\n",
              "  'unclaimed_listing': True,\n",
              "  'type': 'Restaurant',\n",
              "  'address': 'Klegen, Kalidoro, Kec. Pati, Kabupaten Pati, Jawa Tengah, Indonesia',\n",
              "  'service_options': {'dine_in': True, 'takeout': True},\n",
              "  'thumbnail': 'https://streetviewpixels-pa.googleapis.com/v1/thumbnail?panoid=FxP9VE_8PvUbAuiq5NncPw&cb_client=search.gws-prod.gps&w=80&h=92&yaw=213.21463&pitch=0&thumbfov=100'},\n",
              " {'position': 10,\n",
              "  'title': 'the dona & doni',\n",
              "  'place_id': 'ChIJP3K98bPTcC4RSTJLox-cb0Q',\n",
              "  'data_id': '0x2e70d3b3f1bd723f:0x446f9c1fa34b3249',\n",
              "  'data_cid': '4931331776691515977',\n",
              "  'reviews_link': 'https://serpapi.com/search.json?data_id=0x2e70d3b3f1bd723f%3A0x446f9c1fa34b3249&engine=google_maps_reviews&hl=en',\n",
              "  'photos_link': 'https://serpapi.com/search.json?data_id=0x2e70d3b3f1bd723f%3A0x446f9c1fa34b3249&engine=google_maps_photos&hl=en',\n",
              "  'gps_coordinates': {'latitude': -6.7416371999999996,\n",
              "   'longitude': 111.02874879999999},\n",
              "  'place_id_search': 'https://serpapi.com/search.json?data=%214m5%213m4%211s0x2e70d3b3f1bd723f%3A0x446f9c1fa34b3249%218m2%213d-6.7416371999999996%214d111.02874879999999&engine=google_maps&google_domain=google.com&hl=en&type=place',\n",
              "  'rating': 4.2,\n",
              "  'reviews': 710,\n",
              "  'price': '$$',\n",
              "  'type': 'Restaurant',\n",
              "  'address': 'Jl, Kol. Sugiono Gg. Anugerah Kav. I No.100, Ngagul, Winong, Pati, Pati Regency, Central Java 59112, Indonesia',\n",
              "  'open_state': 'Closes soon ⋅ 8PM ⋅ Opens 11AM Wed',\n",
              "  'hours': 'Closes soon ⋅ 8PM ⋅ Opens 11AM Wed',\n",
              "  'operating_hours': {'tuesday': '11AM–8PM',\n",
              "   'wednesday': '11AM–8PM',\n",
              "   'thursday': '11AM–8PM',\n",
              "   'friday': '11AM–8PM',\n",
              "   'saturday': '11AM–8PM',\n",
              "   'sunday': '11AM–8PM',\n",
              "   'monday': '11AM–8PM'},\n",
              "  'phone': '+62 295 385112',\n",
              "  'service_options': {'dine_in': True,\n",
              "   'takeout': True,\n",
              "   'no_contact_delivery': True},\n",
              "  'thumbnail': 'https://lh5.googleusercontent.com/p/AF1QipOQHjO4JTCpJWQWJYMN9fSCWO1aiZjrUvgNBDxE=w138-h92-k-no'},\n",
              " {'position': 11,\n",
              "  'title': 'Fast Food Restaurant',\n",
              "  'place_id': 'ChIJ1XZc_HrScC4RiJvvdsNjDy8',\n",
              "  'data_id': '0x2e70d27afc5c76d5:0x2f0f63c376ef9b88',\n",
              "  'data_cid': '3391038735598459784',\n",
              "  'reviews_link': 'https://serpapi.com/search.json?data_id=0x2e70d27afc5c76d5%3A0x2f0f63c376ef9b88&engine=google_maps_reviews&hl=en',\n",
              "  'photos_link': 'https://serpapi.com/search.json?data_id=0x2e70d27afc5c76d5%3A0x2f0f63c376ef9b88&engine=google_maps_photos&hl=en',\n",
              "  'gps_coordinates': {'latitude': -6.7777604, 'longitude': 111.0369771},\n",
              "  'place_id_search': 'https://serpapi.com/search.json?data=%214m5%213m4%211s0x2e70d27afc5c76d5%3A0x2f0f63c376ef9b88%218m2%213d-6.7777604%214d111.0369771&engine=google_maps&google_domain=google.com&hl=en&type=place',\n",
              "  'unclaimed_listing': True,\n",
              "  'type': 'Restaurant',\n",
              "  'address': 'Jetak, Langenharjo, Kec. Margorejo, Kabupaten Pati, Jawa Tengah, Indonesia',\n",
              "  'service_options': {'dine_in': True, 'takeout': True},\n",
              "  'thumbnail': 'https://streetviewpixels-pa.googleapis.com/v1/thumbnail?panoid=evUk6mC3L1UadwkkYPaceQ&cb_client=search.gws-prod.gps&w=80&h=92&yaw=290.68475&pitch=0&thumbfov=100'},\n",
              " {'position': 12,\n",
              "  'title': 'Semesta Dhahar & Wedangan',\n",
              "  'place_id': 'ChIJNdKGiarTcC4RpzDspK6Iczw',\n",
              "  'data_id': '0x2e70d3aa8986d235:0x3c7388aea4ec30a7',\n",
              "  'data_cid': '4355975548270031015',\n",
              "  'reviews_link': 'https://serpapi.com/search.json?data_id=0x2e70d3aa8986d235%3A0x3c7388aea4ec30a7&engine=google_maps_reviews&hl=en',\n",
              "  'photos_link': 'https://serpapi.com/search.json?data_id=0x2e70d3aa8986d235%3A0x3c7388aea4ec30a7&engine=google_maps_photos&hl=en',\n",
              "  'gps_coordinates': {'latitude': -6.7543381, 'longitude': 111.03189259999999},\n",
              "  'place_id_search': 'https://serpapi.com/search.json?data=%214m5%213m4%211s0x2e70d3aa8986d235%3A0x3c7388aea4ec30a7%218m2%213d-6.7543381%214d111.03189259999999&engine=google_maps&google_domain=google.com&hl=en&type=place',\n",
              "  'rating': 4.5,\n",
              "  'reviews': 65,\n",
              "  'type': 'Restaurant',\n",
              "  'address': 'Jalan Supriyadi no 49 Juanalan, Pati Kidul, Pati, Pati Regency, Central Java 59114, Indonesia',\n",
              "  'open_state': 'Open ⋅ Closes 10PM',\n",
              "  'hours': 'Open ⋅ Closes 10PM',\n",
              "  'operating_hours': {'tuesday': '10AM–10PM',\n",
              "   'wednesday': '10AM–10PM',\n",
              "   'thursday': '10AM–10PM',\n",
              "   'friday': '10AM–10PM',\n",
              "   'saturday': '10AM–10PM',\n",
              "   'sunday': '10AM–10PM',\n",
              "   'monday': '10AM–10PM'},\n",
              "  'phone': '+62 811-2506-771',\n",
              "  'service_options': {'dine_in': True,\n",
              "   'takeout': True,\n",
              "   'no_contact_delivery': True},\n",
              "  'thumbnail': 'https://lh5.googleusercontent.com/p/AF1QipMHtjh0mbnvDwDAD8RavHOGSsd8df0Bnt-n9KUy=w137-h92-k-no'},\n",
              " {'position': 13,\n",
              "  'title': 'Fast Food Restaurant',\n",
              "  'place_id': 'ChIJFU1fwsvTcC4RVjb07xvFdv8',\n",
              "  'data_id': '0x2e70d3cbc25f4d15:0xff76c51beff43656',\n",
              "  'data_cid': '18408117250704029270',\n",
              "  'reviews_link': 'https://serpapi.com/search.json?data_id=0x2e70d3cbc25f4d15%3A0xff76c51beff43656&engine=google_maps_reviews&hl=en',\n",
              "  'photos_link': 'https://serpapi.com/search.json?data_id=0x2e70d3cbc25f4d15%3A0xff76c51beff43656&engine=google_maps_photos&hl=en',\n",
              "  'gps_coordinates': {'latitude': -6.741976299999999,\n",
              "   'longitude': 111.0178411},\n",
              "  'place_id_search': 'https://serpapi.com/search.json?data=%214m5%213m4%211s0x2e70d3cbc25f4d15%3A0xff76c51beff43656%218m2%213d-6.741976299999999%214d111.0178411&engine=google_maps&google_domain=google.com&hl=en&type=place',\n",
              "  'unclaimed_listing': True,\n",
              "  'type': 'Restaurant',\n",
              "  'address': 'Rendole Indah, Muktiharjo, Kec. Margorejo, Kabupaten Pati, Jawa Tengah, Indonesia',\n",
              "  'service_options': {'dine_in': True, 'takeout': True},\n",
              "  'thumbnail': 'https://streetviewpixels-pa.googleapis.com/v1/thumbnail?panoid=r9LM-00AQmQpVV0teNrjgA&cb_client=search.gws-prod.gps&w=80&h=92&yaw=187.92372&pitch=0&thumbfov=100'},\n",
              " {'position': 14,\n",
              "  'title': 'Warung tepi sawah',\n",
              "  'place_id': 'ChIJV7wTAzvTcC4RUhwrfu1xYZI',\n",
              "  'data_id': '0x2e70d33b0313bc57:0x926171ed7e2b1c52',\n",
              "  'data_cid': '10547837067116354642',\n",
              "  'reviews_link': 'https://serpapi.com/search.json?data_id=0x2e70d33b0313bc57%3A0x926171ed7e2b1c52&engine=google_maps_reviews&hl=en',\n",
              "  'photos_link': 'https://serpapi.com/search.json?data_id=0x2e70d33b0313bc57%3A0x926171ed7e2b1c52&engine=google_maps_photos&hl=en',\n",
              "  'gps_coordinates': {'latitude': -6.7339468, 'longitude': 111.0325044},\n",
              "  'place_id_search': 'https://serpapi.com/search.json?data=%214m5%213m4%211s0x2e70d33b0313bc57%3A0x926171ed7e2b1c52%218m2%213d-6.7339468%214d111.0325044&engine=google_maps&google_domain=google.com&hl=en&type=place',\n",
              "  'rating': 4.6,\n",
              "  'reviews': 18,\n",
              "  'type': 'Indonesian restaurant',\n",
              "  'address': 'Jambean, Sidokerto, Pati, Pati Regency, Central Java 59111, Indonesia',\n",
              "  'open_state': 'Closed ⋅ Opens 9AM Wed',\n",
              "  'hours': 'Closed ⋅ Opens 9AM Wed',\n",
              "  'operating_hours': {'tuesday': '9AM–5PM',\n",
              "   'wednesday': '9AM–5PM',\n",
              "   'thursday': '9AM–5PM',\n",
              "   'friday': '9AM–5PM',\n",
              "   'saturday': '9AM–5PM',\n",
              "   'sunday': '9AM–5PM',\n",
              "   'monday': '9AM–5PM'},\n",
              "  'phone': '+62 812-9925-8499',\n",
              "  'service_options': {'dine_in': True, 'takeout': True},\n",
              "  'thumbnail': 'https://lh5.googleusercontent.com/p/AF1QipOOiy_hkfQlEoE9mGALTUrhPwue-M20lfxdlWB1=w122-h92-k-no'},\n",
              " {'position': 15,\n",
              "  'title': 'Burger Bangor Pati',\n",
              "  'place_id': 'ChIJa2WSrzLTcC4RH8HkTBcPLFc',\n",
              "  'data_id': '0x2e70d332af92656b:0x572c0f174ce4c11f',\n",
              "  'data_cid': '6281412173023723807',\n",
              "  'reviews_link': 'https://serpapi.com/search.json?data_id=0x2e70d332af92656b%3A0x572c0f174ce4c11f&engine=google_maps_reviews&hl=en',\n",
              "  'photos_link': 'https://serpapi.com/search.json?data_id=0x2e70d332af92656b%3A0x572c0f174ce4c11f&engine=google_maps_photos&hl=en',\n",
              "  'gps_coordinates': {'latitude': -6.7542738, 'longitude': 111.0397369},\n",
              "  'place_id_search': 'https://serpapi.com/search.json?data=%214m5%213m4%211s0x2e70d332af92656b%3A0x572c0f174ce4c11f%218m2%213d-6.7542738%214d111.0397369&engine=google_maps&google_domain=google.com&hl=en&type=place',\n",
              "  'rating': 4.5,\n",
              "  'reviews': 111,\n",
              "  'type': 'Restaurant',\n",
              "  'address': 'Jl. Dr. Sutomo No.4A, Pati Kidul, Pati, Pati Regency, Central Java 59114, Indonesia',\n",
              "  'open_state': 'Open ⋅ Closes 9PM',\n",
              "  'hours': 'Open ⋅ Closes 9PM',\n",
              "  'operating_hours': {'tuesday': '9AM–9PM',\n",
              "   'wednesday': '9AM–9PM',\n",
              "   'thursday': '9AM–9PM',\n",
              "   'friday': '9AM–9PM',\n",
              "   'saturday': '9AM–9PM',\n",
              "   'sunday': '9AM–9PM',\n",
              "   'monday': '9AM–9PM'},\n",
              "  'website': 'https://burgerbangor.co.id/',\n",
              "  'service_options': {'dine_in': True, 'takeout': True, 'delivery': True},\n",
              "  'thumbnail': 'https://lh5.googleusercontent.com/p/AF1QipPdFgGbBd7YCMRbSn-hBa3Qz2vLi2SZqn-mtTu8=w123-h92-k-no'},\n",
              " {'position': 16,\n",
              "  'title': 'TRAFE The Traveller Cafe',\n",
              "  'place_id': 'ChIJ-4qJejXTcC4R2_xiPwTmybM',\n",
              "  'data_id': '0x2e70d3357a898afb:0xb3c9e6043f62fcdb',\n",
              "  'data_cid': '12955138709025651931',\n",
              "  'reviews_link': 'https://serpapi.com/search.json?data_id=0x2e70d3357a898afb%3A0xb3c9e6043f62fcdb&engine=google_maps_reviews&hl=en',\n",
              "  'photos_link': 'https://serpapi.com/search.json?data_id=0x2e70d3357a898afb%3A0xb3c9e6043f62fcdb&engine=google_maps_photos&hl=en',\n",
              "  'gps_coordinates': {'latitude': -6.7569818999999995,\n",
              "   'longitude': 111.0295258},\n",
              "  'place_id_search': 'https://serpapi.com/search.json?data=%214m5%213m4%211s0x2e70d3357a898afb%3A0xb3c9e6043f62fcdb%218m2%213d-6.7569818999999995%214d111.0295258&engine=google_maps&google_domain=google.com&hl=en&type=place',\n",
              "  'rating': 4.8,\n",
              "  'reviews': 14,\n",
              "  'type': 'Restaurant',\n",
              "  'address': 'Jl. Ronggo Warsito No.82, Plangitan, Pati, Pati Regency, Central Java 59113, Indonesia',\n",
              "  'open_state': 'Open ⋅ Closes 10PM',\n",
              "  'hours': 'Open ⋅ Closes 10PM',\n",
              "  'operating_hours': {'tuesday': '11AM–10PM',\n",
              "   'wednesday': '11AM–10PM',\n",
              "   'thursday': '11AM–10PM',\n",
              "   'friday': '11AM–10PM',\n",
              "   'saturday': '11AM–10PM',\n",
              "   'sunday': '11AM–10PM',\n",
              "   'monday': '11AM–10PM'},\n",
              "  'phone': '+62 815-5377-2883',\n",
              "  'service_options': {'dine_in': True,\n",
              "   'curbside_pickup': True,\n",
              "   'no_contact_delivery': True},\n",
              "  'thumbnail': 'https://lh5.googleusercontent.com/p/AF1QipMYQzS4M7Q40SZABzBzS_d5y8f5X3DDihnbu74z=w163-h92-k-no'},\n",
              " {'position': 17,\n",
              "  'title': 'Omah Cabe',\n",
              "  'place_id': 'ChIJJ35rV1HScC4RAz-jBPYY7lM',\n",
              "  'data_id': '0x2e70d251576b7e27:0x53ee18f604a33f03',\n",
              "  'data_cid': '6047798794523983619',\n",
              "  'reviews_link': 'https://serpapi.com/search.json?data_id=0x2e70d251576b7e27%3A0x53ee18f604a33f03&engine=google_maps_reviews&hl=en',\n",
              "  'photos_link': 'https://serpapi.com/search.json?data_id=0x2e70d251576b7e27%3A0x53ee18f604a33f03&engine=google_maps_photos&hl=en',\n",
              "  'gps_coordinates': {'latitude': -6.7504520999999995,\n",
              "   'longitude': 111.0395355},\n",
              "  'place_id_search': 'https://serpapi.com/search.json?data=%214m5%213m4%211s0x2e70d251576b7e27%3A0x53ee18f604a33f03%218m2%213d-6.7504520999999995%214d111.0395355&engine=google_maps&google_domain=google.com&hl=en&type=place',\n",
              "  'rating': 4.3,\n",
              "  'reviews': 3026,\n",
              "  'price': '$$',\n",
              "  'type': 'Javanese restaurant',\n",
              "  'address': 'Jl. R. A. Kartini, Kaborongan, Pati Lor, Pati, Pati Regency, Central Java 59111, Indonesia',\n",
              "  'open_state': 'Open ⋅ Closes 10PM',\n",
              "  'hours': 'Open ⋅ Closes 10PM',\n",
              "  'operating_hours': {'tuesday': '8AM–10PM',\n",
              "   'wednesday': '8AM–10PM',\n",
              "   'thursday': '8AM–10PM',\n",
              "   'friday': '8AM–10PM',\n",
              "   'saturday': '8AM–10PM',\n",
              "   'sunday': '8AM–10PM',\n",
              "   'monday': '8AM–10PM'},\n",
              "  'phone': '+62 295 386594',\n",
              "  'service_options': {'dine_in': True,\n",
              "   'takeout': True,\n",
              "   'no_contact_delivery': True},\n",
              "  'thumbnail': 'https://lh5.googleusercontent.com/p/AF1QipP4EBVbV8S_ndOGc9GK97LeqGlymGpMu0520aGz=w163-h92-k-no'},\n",
              " {'position': 18,\n",
              "  'title': 'Resto Surya',\n",
              "  'place_id': 'ChIJpW2wGUzScC4RH_qKQ4bkoaM',\n",
              "  'data_id': '0x2e70d24c19b06da5:0xa3a1e486438afa1f',\n",
              "  'data_cid': '11790956564742601247',\n",
              "  'reviews_link': 'https://serpapi.com/search.json?data_id=0x2e70d24c19b06da5%3A0xa3a1e486438afa1f&engine=google_maps_reviews&hl=en',\n",
              "  'photos_link': 'https://serpapi.com/search.json?data_id=0x2e70d24c19b06da5%3A0xa3a1e486438afa1f&engine=google_maps_photos&hl=en',\n",
              "  'gps_coordinates': {'latitude': -6.7526413, 'longitude': 111.03729489999999},\n",
              "  'place_id_search': 'https://serpapi.com/search.json?data=%214m5%213m4%211s0x2e70d24c19b06da5%3A0xa3a1e486438afa1f%218m2%213d-6.7526413%214d111.03729489999999&engine=google_maps&google_domain=google.com&hl=en&type=place',\n",
              "  'rating': 4.3,\n",
              "  'reviews': 1074,\n",
              "  'price': '$$',\n",
              "  'type': 'Restaurant',\n",
              "  'address': 'Jl. Jenderal Sudirman No.142, Pati Kidul, Pati, Pati Regency, Central Java 59114, Indonesia',\n",
              "  'open_state': 'Open ⋅ Closes 9:30PM',\n",
              "  'hours': 'Open ⋅ Closes 9:30PM',\n",
              "  'operating_hours': {'tuesday': '9AM–9:30PM',\n",
              "   'wednesday': '9AM–9:30PM',\n",
              "   'thursday': '9AM–9:30PM',\n",
              "   'friday': '9AM–9:30PM',\n",
              "   'saturday': '9AM–9:30PM',\n",
              "   'sunday': '9AM–9:30PM',\n",
              "   'monday': '9AM–9:30PM'},\n",
              "  'phone': '+62 295 381477',\n",
              "  'service_options': {'dine_in': True,\n",
              "   'curbside_pickup': True,\n",
              "   'no_contact_delivery': True},\n",
              "  'thumbnail': 'https://lh5.googleusercontent.com/p/AF1QipNNCpjrtDXHSOfWvCqneXTy-1UFLjnFZTKdoX_A=w122-h92-k-no'},\n",
              " {'position': 19,\n",
              "  'title': 'Sushi Takoyaki (すし 蛸焼)',\n",
              "  'place_id': 'ChIJR-x0cyLTcC4RWI8TwgfKY4k',\n",
              "  'data_id': '0x2e70d3227374ec47:0x8963ca07c2138f58',\n",
              "  'data_cid': '9899978540560125784',\n",
              "  'reviews_link': 'https://serpapi.com/search.json?data_id=0x2e70d3227374ec47%3A0x8963ca07c2138f58&engine=google_maps_reviews&hl=en',\n",
              "  'photos_link': 'https://serpapi.com/search.json?data_id=0x2e70d3227374ec47%3A0x8963ca07c2138f58&engine=google_maps_photos&hl=en',\n",
              "  'gps_coordinates': {'latitude': -6.7398853999999995,\n",
              "   'longitude': 111.0357452},\n",
              "  'place_id_search': 'https://serpapi.com/search.json?data=%214m5%213m4%211s0x2e70d3227374ec47%3A0x8963ca07c2138f58%218m2%213d-6.7398853999999995%214d111.0357452&engine=google_maps&google_domain=google.com&hl=en&type=place',\n",
              "  'rating': 4.9,\n",
              "  'reviews': 9,\n",
              "  'type': 'Sushi restaurant',\n",
              "  'address': 'Jl. Sunan Kalijaga, Ndekeso, Sidokerto, Kec. Pati, Kabupaten Pati, Jawa Tengah 59111, Indonesia',\n",
              "  'open_state': 'Open ⋅ Closes 10PM',\n",
              "  'hours': 'Open ⋅ Closes 10PM',\n",
              "  'operating_hours': {'tuesday': '3–10PM',\n",
              "   'wednesday': '3–10PM',\n",
              "   'thursday': '3–10PM',\n",
              "   'friday': '3–10PM',\n",
              "   'saturday': '3–10PM',\n",
              "   'sunday': 'Closed',\n",
              "   'monday': '3–10PM'},\n",
              "  'phone': '+62 897-3696-946',\n",
              "  'service_options': {'dine_in': True,\n",
              "   'takeout': True,\n",
              "   'no_contact_delivery': True},\n",
              "  'thumbnail': 'https://lh5.googleusercontent.com/p/AF1QipPjz2foUfB3PE3eUALArQMpe9pebARBISq2lcma=w122-h92-k-no'},\n",
              " {'position': 20,\n",
              "  'title': 'New Harmoni',\n",
              "  'place_id': 'ChIJ8_izW6rTcC4RQVYTLdJgY0A',\n",
              "  'data_id': '0x2e70d3aa5bb3f8f3:0x406360d22d135641',\n",
              "  'data_cid': '4639658496937383489',\n",
              "  'reviews_link': 'https://serpapi.com/search.json?data_id=0x2e70d3aa5bb3f8f3%3A0x406360d22d135641&engine=google_maps_reviews&hl=en',\n",
              "  'photos_link': 'https://serpapi.com/search.json?data_id=0x2e70d3aa5bb3f8f3%3A0x406360d22d135641&engine=google_maps_photos&hl=en',\n",
              "  'gps_coordinates': {'latitude': -6.7420132, 'longitude': 111.04402499999999},\n",
              "  'place_id_search': 'https://serpapi.com/search.json?data=%214m5%213m4%211s0x2e70d3aa5bb3f8f3%3A0x406360d22d135641%218m2%213d-6.7420132%214d111.04402499999999&engine=google_maps&google_domain=google.com&hl=en&type=place',\n",
              "  'rating': 3.8,\n",
              "  'reviews': 18,\n",
              "  'price': '$',\n",
              "  'unclaimed_listing': True,\n",
              "  'type': 'Restaurant',\n",
              "  'address': 'Jalan Kembang Joyo No.4, Kutoharjo, Kecamatan Pati, Parenggan, Kec. Pati, Kabupaten Pati, Jawa Tengah 59118, Indonesia',\n",
              "  'open_state': 'Open ⋅ Closes 10PM',\n",
              "  'hours': 'Open ⋅ Closes 10PM',\n",
              "  'operating_hours': {'tuesday': '9AM–10PM',\n",
              "   'wednesday': '9AM–10PM',\n",
              "   'thursday': '9AM–10PM',\n",
              "   'friday': '9AM–10PM',\n",
              "   'saturday': '9AM–10PM',\n",
              "   'sunday': '9AM–10PM',\n",
              "   'monday': '9AM–10PM'},\n",
              "  'phone': '+62 858-6984-5399',\n",
              "  'service_options': {'dine_in': True, 'takeout': True},\n",
              "  'thumbnail': 'https://lh5.googleusercontent.com/p/AF1QipP_ZCnGLRrc1a7noW9Lq4nCxzVHrZjOOI18yHB0=w184-h92-k-no'}]"
            ]
          },
          "metadata": {},
          "execution_count": 55
        }
      ]
    },
    {
      "cell_type": "code",
      "source": [
        "from serpapi import GoogleSearch\n",
        "\n",
        "params = {\n",
        "  \"api_key\": \"b77985061bea13234fff243aec3d87ae16559070f08d57000bdc60c437459935\",\n",
        "  \"engine\": \"google_maps_reviews\",\n",
        "  \"data_id\": \"0x2e70d25060036dff:0xb2349bcb0311157e\",\n",
        "  \"hl\": \"id\"\n",
        "}\n",
        "\n",
        "search = GoogleSearch(params)\n",
        "results = search.get_dict()\n",
        "reviews = results[\"reviews\"]"
      ],
      "metadata": {
        "colab": {
          "base_uri": "https://localhost:8080/"
        },
        "id": "4SrqyFl89xSE",
        "outputId": "09de0d00-62e7-4e81-c17a-f7521fc5542f"
      },
      "execution_count": null,
      "outputs": [
        {
          "output_type": "stream",
          "name": "stdout",
          "text": [
            "https://serpapi.com/search\n"
          ]
        }
      ]
    },
    {
      "cell_type": "code",
      "source": [
        "title =results[\"place_info\"][\"title\"]\n",
        "print(title)\n",
        "for i in range(10):\n",
        "  rating = results[\"reviews\"][i][\"rating\"]\n",
        "  print(rating)\n",
        "  reviews = results[\"reviews\"][i][\"snippet\"]\n",
        "  print(reviews)\n"
      ],
      "metadata": {
        "colab": {
          "base_uri": "https://localhost:8080/"
        },
        "id": "VABRGBGq-ckX",
        "outputId": "79bf7056-fb6a-4f2e-9e69-8fba216b8c2e"
      },
      "execution_count": null,
      "outputs": [
        {
          "output_type": "stream",
          "name": "stdout",
          "text": [
            "Warung Makan Kamandowo\n",
            "5.0\n",
            "Khusus buat ndass manyung nya. Eenakkk, gass keun!! Harga terjangkau.....\n",
            "1.0\n",
            "Lokasi salah, tidak ada warungnya di titik ini\n",
            "4.0\n",
            "Siapa saja yang pernah mampir makan ke Rumah Makan ini pasti ingin mengulang lagi. Andalan masakan disini jelas Ikan, Udang, pindang serani, ikan bakar. Rasa masakan sudah tidak perlu diragukan lagi. Rasa sambalnya yang khas lezat gurih, ditambah aroma terasi yang enak. Pesan makan ikan goreng dipenyet+nasi, pasti sudah dapat kuah sayur bening. Kalo jam makan siang penuh sekali tempatnya. Besok mau datang lagi, enak josss👍\n",
            "1.0\n",
            "Mahal, porsi garang asem sedikit. 3 biji kecil2\n",
            "3.0\n",
            "Enak, mahal untuk kantong rakyat, kalkulasi harga tidak jelas, (nasi + garang asem ayam kampung + teh = Rp35.000,-)\n",
            "4.0\n",
            "enak sih, tapi itung-itungan harganya gak jelas dan jadi kayak cukup mahal\n",
            "5.0\n",
            "Tersedia berbagai macam lauk hasil laut. Ikan goreng, kepala Manyung, juga cumi hitam yang empuk banget. Harga juga tidak mahal. Mantap pokoknya!\n",
            "5.0\n",
            "kepala manyungnya endossss..mantap!!must try...\n",
            "5.0\n",
            "Maknyus sambele Abang tapi ora pedes ...Banyak menu... Pecel lele dan ikan lain nya... Sayur bening, mangut...\n",
            "5.0\n",
            "Enak nih warung makan di Pati ini manyung nya seger\n"
          ]
        }
      ]
    },
    {
      "cell_type": "code",
      "source": [
        "from serpapi import GoogleSearch\n",
        "\n",
        "params = {\n",
        "  \"api_key\": \"b77985061bea13234fff243aec3d87ae16559070f08d57000bdc60c437459935\",\n",
        "  \"engine\": \"google_maps_reviews\",\n",
        "  \"data_id\": \"0x2e70d25728dd9adb:0x4742215aa565c194\",\n",
        "  \"hl\": \"id\"\n",
        "}\n",
        "\n",
        "search = GoogleSearch(params)\n",
        "results = search.get_dict()\n",
        "reviews = results[\"reviews\"]"
      ],
      "metadata": {
        "colab": {
          "base_uri": "https://localhost:8080/"
        },
        "id": "egemwQlg_0RS",
        "outputId": "dfda7111-2fe3-4124-a973-dc61a3496b5c"
      },
      "execution_count": null,
      "outputs": [
        {
          "output_type": "stream",
          "name": "stdout",
          "text": [
            "https://serpapi.com/search\n"
          ]
        }
      ]
    },
    {
      "cell_type": "code",
      "source": [
        "title =results[\"place_info\"][\"title\"]\n",
        "print(title)\n",
        "for i in range(10):\n",
        "  rating = results[\"reviews\"][i][\"rating\"]\n",
        "  print(rating)\n",
        "  reviews = results[\"reviews\"][i][\"snippet\"]\n",
        "  print(reviews)"
      ],
      "metadata": {
        "colab": {
          "base_uri": "https://localhost:8080/"
        },
        "id": "rXjA3ISxDlBJ",
        "outputId": "8682c036-0d02-4c9c-fb09-ba1cda3ff741"
      },
      "execution_count": null,
      "outputs": [
        {
          "output_type": "stream",
          "name": "stdout",
          "text": [
            "Salza Restaurant & Convention Hall\n",
            "4.0\n",
            "Nice resto, terjangkau tempatnya di dalam kota.\n",
            "4.0\n",
            "Tempat luas, sayang ada di lantai 2. Meskipun tersedia eskalator.\n",
            "3.0\n",
            "Lumayan.ada TV guede....... banget bisa nonton sepak bola.\n",
            "1.0\n",
            "Pelayanannya sangat lama hampir 2jam saya menunggu menu di hidangkanLokasi bagi yg pertama x ke resto susah menemukan lokasinyaPelayannya agak sinis\n",
            "5.0\n",
            "Pelayanan Bintang Lima Harga Kaki Lima. Pas di Pusat Kota, Menu lengkap, Harga hemat dan menyediakan Masakan Lokal Soto Kemiri Kas Pati. Cocok buat nongkrong sama teman maupun keluarga\n",
            "5.0\n",
            "Temoqt kuas,banyak yg jualanSayang lantainya kurang bersih aja\n",
            "4.0\n",
            "Salza Restaurant & Convention Hall yang terletak di Jalan Tombronegoro nomor 1, Kecamatan Kaborongan, Kabupaten Pati, Provinsi Jawa Tengah ini merupakan restoran favorit masyarakat Pati. Letaknya pun strategis karena berada di sekitar Alun-alun Pati.\n",
            "5.0\n",
            "Tempat yang bagus dan strategis di kota pati\n",
            "3.0\n",
            "Cukup pas menu dan harganya untuk kota Pati yang sedang tumbuh.\n",
            "3.0\n",
            "Dlu tmpat ny enak sih..tp sekarang sdh tutup ya atau pindah ?? Masakan nya lumayan cocok di lidah..\n"
          ]
        }
      ]
    },
    {
      "cell_type": "code",
      "source": [
        "from serpapi import GoogleSearch\n",
        "\n",
        "params = {\n",
        "  \"api_key\": \"b77985061bea13234fff243aec3d87ae16559070f08d57000bdc60c437459935\",\n",
        "  \"engine\": \"google_maps_reviews\",\n",
        "  \"data_id\": \"0x2e70d3b76b563413:0x9ec1f7fd72967b72\",\n",
        "  \"hl\": \"id\"\n",
        "}\n",
        "\n",
        "search = GoogleSearch(params)\n",
        "results = search.get_dict()\n",
        "reviews = results[\"reviews\"]"
      ],
      "metadata": {
        "colab": {
          "base_uri": "https://localhost:8080/"
        },
        "id": "vyX2xzRKD-bI",
        "outputId": "3e1d8824-b200-4c5a-e026-9bb35da69eb2"
      },
      "execution_count": null,
      "outputs": [
        {
          "output_type": "stream",
          "name": "stdout",
          "text": [
            "https://serpapi.com/search\n"
          ]
        }
      ]
    },
    {
      "cell_type": "code",
      "source": [
        "title =results[\"place_info\"][\"title\"]\n",
        "print(title)\n",
        "for i in range(10):\n",
        "  rating = results[\"reviews\"][i][\"rating\"]\n",
        "  print(rating)\n",
        "  reviews = results[\"reviews\"][i][\"snippet\"]\n",
        "  print(reviews)"
      ],
      "metadata": {
        "colab": {
          "base_uri": "https://localhost:8080/"
        },
        "id": "xCHTcYSbEhOO",
        "outputId": "6206ca54-75f4-43ea-ff0c-7a9b929114fd"
      },
      "execution_count": null,
      "outputs": [
        {
          "output_type": "stream",
          "name": "stdout",
          "text": [
            "Rocket Chicken Winong Pati\n",
            "4.0\n",
            "Tempat luas & nyaman ... Untuk pelayanan sy rasa sedikit diperbaiki , dikarenakan mbak karyawan ad yg sedikit judes ...\n",
            "3.0\n",
            "Awal pertama datang kesini,ayamnya enak banget,bumbunya juga berasa,mirip ayam KF* Datang kesini lagi, rasanya berubah jadi agak hambar dan kurang gurih. bumbu juga tidak meresap kedalam daging. Untuk nasi goreng sendiri juga kurang,rasanya kayak cuma dikasih Garam sama kaldu bubuk.. . Perlu ditingkatkan lagi dari segi Rasa. terima kasih\n",
            "5.0\n",
            "Semua menu rekomended...sesering itu makan disini sama anak\n",
            "5.0\n",
            "Resto waralaba yg kedua dg nama yg sama di pati, mungkin cabang, dg lokasi yg lebih luas, sehingga membuat lebih nyaman, berlokasi di pinggir jalan yg minim tempat parkir jg untuk yg kendara naik mobil, tapi kalo naik motor, luas sekali, soal rasa hampir sama lah, dg rocket yg lain karena mereka kan satu atap, soal pelayanan jg hampir sama karena mereka jg ada standar nya, cm rasanya lebih nyaman saja berada di tempat yg luas..walaupun masih bising dg suara kendaraan...nice..\n",
            "2.0\n",
            "Pernah beli tapi ayam gorengnya nggak crispy tepungnya tipis sekalee..asin pula..Ditingkatkan dan ditraining lagi sdmnya\n",
            "5.0\n",
            "ga sempet foto karena udah laper sekali, tadi pesen chicken steak; ayamnya gede dan saosnya banyak, worth it sama harganya yang paketan udah dapet nasi plus es teh.\n",
            "5.0\n",
            "Tempatnya luas, bersih. MHarga makanannya gak berat dikantong.\n",
            "5.0\n",
            "Makanannya enak banget sampe mau nambah, tadi take away tp kurang 1, eh pas dikomplain lgsg dikirimin 3, monangis rasanya😭😭😭😭 terimakasih pelayanannya bagus sekalii👍\n",
            "3.0\n",
            "Chicken steaknya enak, lada hitamnya terasa, tapi tolong dong mas, jangan dikasih toping rambut\n",
            "4.0\n",
            "Menu makanan yang disukai si bocil, pokoke ayam crispy 😀\n"
          ]
        }
      ]
    },
    {
      "cell_type": "code",
      "source": [
        "from serpapi import GoogleSearch\n",
        "\n",
        "params = {\n",
        "  \"api_key\": \"b77985061bea13234fff243aec3d87ae16559070f08d57000bdc60c437459935\",\n",
        "  \"engine\": \"google_maps_reviews\",\n",
        "  \"data_id\": \"0x2e70d3b3f1bd723f:0x446f9c1fa34b3249\",\n",
        "  \"hl\": \"id\"\n",
        "}\n",
        "\n",
        "search = GoogleSearch(params)\n",
        "results = search.get_dict()\n",
        "reviews = results[\"reviews\"]"
      ],
      "metadata": {
        "colab": {
          "base_uri": "https://localhost:8080/"
        },
        "id": "iTUOvDErF2sH",
        "outputId": "a8889ddd-f6dc-45f9-db83-482a05211574"
      },
      "execution_count": null,
      "outputs": [
        {
          "output_type": "stream",
          "name": "stdout",
          "text": [
            "https://serpapi.com/search\n"
          ]
        }
      ]
    },
    {
      "cell_type": "code",
      "source": [
        "title =results[\"place_info\"][\"title\"]\n",
        "print(title)\n",
        "for i in range(10):\n",
        "  rating = results[\"reviews\"][i][\"rating\"]\n",
        "  print(rating)\n",
        "  reviews = results[\"reviews\"][i][\"snippet\"]\n",
        "  print(reviews)"
      ],
      "metadata": {
        "colab": {
          "base_uri": "https://localhost:8080/"
        },
        "id": "onlL9xrFGqPc",
        "outputId": "ac3e32cf-3e20-487e-8bf5-671b3782abc8"
      },
      "execution_count": null,
      "outputs": [
        {
          "output_type": "stream",
          "name": "stdout",
          "text": [
            "The Dona&Doni Resto, Pool & Spa\n",
            "4.0\n",
            "Kesini untuj renang. Untuk kolam anak tempatnya sepi, airnya dingin, adem,fibesnya jd kaya kolam pribadi.Untuk food n drink ya lumayan. Ayam cabe garamnya enak\n",
            "1.0\n",
            "Kolam renang jorok, filter tdk pnh nyala, smpe air ijooo, area duduk2 jg kdg bau selokan sgt tdk nyaman. Kamar mnd jg jorok👎gak ada yg jaga d sekitar kolam jd org umum seenaknya masuk tnpa pakai baju berenang👎👎👎👎NOT RECOMENDED!\n",
            "5.0\n",
            "Tempat nyaman untuk makan bersama keluarga, pasangan atau teman. Tersedia indoor dan outdoor, tempat sangat instagramable, ditata dengan indah. Pelayanan ramah dan masaknya cepat. Ada kolam renang juga.\n",
            "5.0\n",
            "tempat tenang karena bukan di tengah kota, viewnya oke banget, ada swimming pool, ada ruang makan indoor & outdoor, pilihan menu banyak dengan rasa yang berkualitas\n",
            "5.0\n",
            "Tempatnya nyaman strategis & suasana nya tenang.\n",
            "5.0\n",
            "Pengalaman pertama kali kesini lumayan bagus. Mbaknya ramah. Acara buka bersama lancar, tempat juga oke lah. Makanannya cukup enak, harga standard.👍\n",
            "5.0\n",
            "Saya merekomendasikan untuk kolam renangnya ;-) Bersih, biaya renang sepadan. Mohon perhatikan peraturan bagi yang akan berenang ☺ Pesanan makanan dan minuman relatif cepat dengan harga sepadan 😘 Suasana garden sangat terasa, makan dan minum dapat di dalam maupun luar ruangan 😍\n",
            "4.0\n",
            "The dona doni resto, pool & spa merupakan resto unik yang memiliki gedung indoor dan outdoor, taman cukup luas dengan konsep family garden resto, dengan sedikit nuansa bali, selain itu ada 2 kolam renang yang di tata apik. Cocok di gunakan untuk acara baik formal, non formal dan wedding,, menunya enak dan variatif.\n",
            "5.0\n",
            "Tempat yang bagus Bisa diseqa full resto untuk acara nikahan dsb Makanan nya enak Ada kolam renang nya Banyak spot foto yang bagus dan menarik\n",
            "5.0\n",
            "Salah satu resto dengan konsep yang unik di kota Pati. Lokasinya yang tersembunyi di dalam kota pati seperti surga yang tersembunyi... soalnya tempatnya nyaman banget buat makan-makan bareng temen-temen, rapat, arisan, ataupun kumpul-kumpul yang lainnya.. ada kolam renangnya juga, makanannya juga enak..\n"
          ]
        }
      ]
    },
    {
      "cell_type": "code",
      "source": [
        "from serpapi import GoogleSearch\n",
        "\n",
        "params = {\n",
        "  \"api_key\": \"b77985061bea13234fff243aec3d87ae16559070f08d57000bdc60c437459935\",\n",
        "  \"engine\": \"google_maps_reviews\",\n",
        "  \"data_id\": \"0x2e70d3aa8986d235:0x3c7388aea4ec30a7\",\n",
        "  \"hl\": \"id\"\n",
        "}\n",
        "\n",
        "search = GoogleSearch(params)\n",
        "results = search.get_dict()\n",
        "reviews = results[\"reviews\"]"
      ],
      "metadata": {
        "colab": {
          "base_uri": "https://localhost:8080/"
        },
        "id": "jKfmliBSJ8KT",
        "outputId": "f2cd9602-6d19-4e68-c0e4-8a218599502e"
      },
      "execution_count": null,
      "outputs": [
        {
          "output_type": "stream",
          "name": "stdout",
          "text": [
            "https://serpapi.com/search\n"
          ]
        }
      ]
    },
    {
      "cell_type": "code",
      "source": [
        "title =results[\"place_info\"][\"title\"]\n",
        "print(title)\n",
        "for i in range(10):\n",
        "  rating = results[\"reviews\"][i][\"rating\"]\n",
        "  print(rating)\n",
        "  reviews = results[\"reviews\"][i][\"snippet\"]\n",
        "  print(reviews)"
      ],
      "metadata": {
        "colab": {
          "base_uri": "https://localhost:8080/"
        },
        "id": "YM7ILf3LKOse",
        "outputId": "4334bc0e-0aa7-48ed-e9e1-feb9e25781a6"
      },
      "execution_count": null,
      "outputs": [
        {
          "output_type": "stream",
          "name": "stdout",
          "text": [
            "Semesta Pati\n",
            "5.0\n",
            "Lokasi di tengah kota, menunya tradisional dan yang paling sering dibeli sate taichannya terenak di Pati, mungkin tempat parkirnya saja agak susah kalau disitu but its ok ✨\n",
            "5.0\n",
            "Nyaman banget. Aku suka pesan coklat rempah. Makanannya pun enak banget terutama yang asem-asem\n",
            "5.0\n",
            "Parkir mobil OK, buat rombongan OK, rasa makanan OK, harga OK. Estetika bisa ditingkatkan lagi\n",
            "5.0\n",
            "Semesta sekarang jadi tempat sarapan. Buka pagi sampai siang (atau sore). Tempatnya adem, makan kenyang cukup 10-15 ribu.\n",
            "5.0\n",
            "Tempat nyaman, menu masakan rumahannya enak sekali. Bahkan anak2 juga suka.\n",
            "2.0\n",
            "Udah resevasi untuk bukber berdua diruangan dalam, eh pas udah sampe dapetnya diluar. Deket motor pula 🙊\n",
            "5.0\n",
            "Harga murah, suasananya enak , masakannya enak banget\n",
            "5.0\n",
            "Pelayanannya cepat dan ramah, menunya Mantap Jiwa...recomended banget...\n",
            "5.0\n",
            "Lumayan oke\n",
            "5.0\n",
            "Tempat nyaman untuk habiskan waktu, makan sambil chill. Banyak pilihan wedang nya, makanan asem asem nya adiktif, enak banget.\n"
          ]
        }
      ]
    },
    {
      "cell_type": "code",
      "source": [
        "from serpapi import GoogleSearch\n",
        "\n",
        "params = {\n",
        "  \"api_key\": \"b77985061bea13234fff243aec3d87ae16559070f08d57000bdc60c437459935\",\n",
        "  \"engine\": \"google_maps_reviews\",\n",
        "  \"data_id\": \"0x2e70d332af92656b:0x572c0f174ce4c11f\",\n",
        "  \"hl\": \"id\"\n",
        "}\n",
        "\n",
        "search = GoogleSearch(params)\n",
        "results = search.get_dict()\n",
        "reviews = results[\"reviews\"]"
      ],
      "metadata": {
        "colab": {
          "base_uri": "https://localhost:8080/"
        },
        "id": "V3C0w9MpKXKG",
        "outputId": "63ed487e-a4b8-4c34-dced-7a2f14af2364"
      },
      "execution_count": null,
      "outputs": [
        {
          "output_type": "stream",
          "name": "stdout",
          "text": [
            "https://serpapi.com/search\n"
          ]
        }
      ]
    },
    {
      "cell_type": "code",
      "source": [
        "title =results[\"place_info\"][\"title\"]\n",
        "print(title)\n",
        "for i in range(10):\n",
        "  rating = results[\"reviews\"][i][\"rating\"]\n",
        "  print(rating)\n",
        "  reviews = results[\"reviews\"][i][\"snippet\"]\n",
        "  print(reviews)"
      ],
      "metadata": {
        "colab": {
          "base_uri": "https://localhost:8080/"
        },
        "id": "CxlCkyw8KyCM",
        "outputId": "3a1d1187-1c3d-4a99-a668-00936c63c802"
      },
      "execution_count": null,
      "outputs": [
        {
          "output_type": "stream",
          "name": "stdout",
          "text": [
            "Burger Bangor Pati\n",
            "5.0\n",
            "Burgernya enak, kematengan beef nya pas, pelayanan juga ramahRecommended lah buat tempat kumpul², apalagi wifinya kenceng👍\n",
            "5.0\n",
            "Kesini beli burger buat take away. Salah satu burger andalan. Harga nya ramah di kantong, dapatnya enak banget. Berasa dagingnya berasa kejunya.\n",
            "5.0\n",
            "Rasa burger nya beda dari yang lain, tempat bersih dan desain kekinian. Walau menunggu agak lama tetap enjoy karna ditemani dengan musik² yang asik. Pelayanan juga ramah ❤️\n",
            "5.0\n",
            "Pelayanan nya ramah dan asik, harga ramah dikantong tpi rasa mantap jiwa raga, dah jadi langganan dari pertama buka, untuk kecepatan pelayanan bervariatif,kadang cepet kadang agak lama,tapi masih di waktu yang normal,ya sepadanlah dengan rasa burger enak yang disuguhkan,semoga bisa berkembang terus untuk burger bangor pati\n",
            "4.0\n",
            "sering lihat di beberapa kota lain, tapi baru sempet coba beli beberapa kali di cabang pati ini. untuk burgernya ya so so lah sesuai harganya ya, dia ada beberapa kelas gitu tergantung ukuran dan banyaknya patty. pattynya sendiri lumayan juicy sih. cuma kadang pelayanannya agak lama ya, apalagi kalo pas agak rame.\n",
            "5.0\n",
            "Enak sih burger dan Hotdog, namun agak lama menunggunya. Padahal belum terlalu rame.\n",
            "5.0\n",
            "Tempatnya nyaman bersih burgernya enak, ad wifinya. Harganya juga gak mahal banget. Masih terjangkau\n",
            "5.0\n",
            "Tempat: 7.5/10 Harga per porsi: 8/10 Rasa: 8.5/10 Burger dengan patty yg juicy. Cheese yg meleleh. Dg harga yang worth it.\n",
            "5.0\n",
            "Burger kesukaan keluarga kami.. Enak banget.. Ada jg varian garlic cream nya.. 👍🏼👍🏼👍🏼\n",
            "5.0\n",
            "Tempat bersih,parkir lumayan,menu burgernya banyak pilihan,pelayanan ramah,dan pelayanan cukup cepat\n"
          ]
        }
      ]
    },
    {
      "cell_type": "code",
      "source": [
        "from serpapi import GoogleSearch\n",
        "\n",
        "params = {\n",
        "  \"api_key\": \"b77985061bea13234fff243aec3d87ae16559070f08d57000bdc60c437459935\",\n",
        "  \"engine\": \"google_maps_reviews\",\n",
        "  \"data_id\": \"0x2e70d251576b7e27:0x53ee18f604a33f03\",\n",
        "  \"hl\": \"id\"\n",
        "}\n",
        "\n",
        "search = GoogleSearch(params)\n",
        "results = search.get_dict()\n",
        "reviews = results[\"reviews\"]"
      ],
      "metadata": {
        "colab": {
          "base_uri": "https://localhost:8080/"
        },
        "id": "YuZXtZixK2b5",
        "outputId": "3dd4aeb9-6af7-400a-ab5e-95812891db57"
      },
      "execution_count": null,
      "outputs": [
        {
          "output_type": "stream",
          "name": "stdout",
          "text": [
            "https://serpapi.com/search\n"
          ]
        }
      ]
    },
    {
      "cell_type": "code",
      "source": [
        "title =results[\"place_info\"][\"title\"]\n",
        "print(title)\n",
        "for i in range(10):\n",
        "  rating = results[\"reviews\"][i][\"rating\"]\n",
        "  print(rating)\n",
        "  reviews = results[\"reviews\"][i][\"snippet\"]\n",
        "  print(reviews)"
      ],
      "metadata": {
        "colab": {
          "base_uri": "https://localhost:8080/"
        },
        "id": "EWG4jSUNLLDM",
        "outputId": "566077a7-bca1-448f-d0a4-cfe4ff05d2c9"
      },
      "execution_count": null,
      "outputs": [
        {
          "output_type": "stream",
          "name": "stdout",
          "text": [
            "OMAH CABE PATI\n",
            "4.0\n",
            "Diajak temen buat coba, untuk tempat ok bgt, luas bisa buat rame-rame, instagramable lah y, ada taman bermain buat anak-anak, kolam ikan, request tempat duduk bisa lesehan ataupun kursi ok, tempat bersih dan luas. Tiap meja tersedia piring + sendok garpu. Makanannya lumayan ok lah ya... Buat kalian yang perhitungan dan mau lebih hemat bisa kali ya bawa air putih sendiri atau nasi putih sendiri. Yang nyari makanan pencuci mulut, ga recomend ya di sini karena semua makanannya lebih dominan ke makanan berat semua. Dari harga worth it lah sama suasana dan pelayanan yg kita dapatkan. Dan ini menurutku worth to try aja y, ga yg sampe recomended gitu. Untuk nasi putihnya nih, alangkah baiknya yang di bakul itu khusus untuk brp porsi gitu/paket rame2, jadi kalau ada yang order 1 porsi ga perlu ribet di taro bakul dan kita ribet2 lagi mindah ke piring. Itu aja sih... Btw bisa kali ya di tambah menu sambel / saos jadi yg mau nambah atau yg pesen ga paket lalapan bisa pke saos/sambel tersebut gitu. Terima kasih & mohon maaf sebelumnya\n",
            "4.0\n",
            "Rumah makan dengan suasana yg tenang. Tempatnya luas, bisa di indoor atau yg lebih seru dioutdoor seperti di hutan mini. Pelayanan ramah, cepat, dan harganya ternyata ramah dikantong. Pingin berkunjung lagi lain kali\n",
            "4.0\n",
            "Omah Cabe menyajikan berbagai menu khas Indonesia. Mulai dari ayam, bebek, bandeng, seafood lainnya, serta sayurannya juga cukup lengkap. Tempatnya cukup luas dan suasana di malam hari cukup nyaman. Sepertinya nyaman jika dijadikan venue acara besar.\n",
            "2.0\n",
            "Kesana pas hujan pengenya si berteduh sambil makan tp apah -_~, atap nya bocor jd makan pun sambil jongkok.. trs pesanan CA kangkungnya pun berasa basi , trs matahnya pun kasinan . Pesan ayam pun gk kbeneran .. uhh . pengen makan tp malah kehilangan nafsu makan ketika menu datang 😥😥\n",
            "5.0\n",
            "Suasana nyaman untuk makan dan bersantai...masakan enak ...harga bersahabat\n",
            "4.0\n",
            "Setidaknya saya pernah di sini. Sudah sering kali sie tp baru upload, parkir luas, rasa enak, harga terjangkau, pilihan menu banyak, tempat luas, rame krn pas bukber, tengah2 kota, sajinya cpt wlpn kondisi rame. Abcdefghijklmnopqrstuvwxyz\n",
            "4.0\n",
            "pertama kali ke sini pas lagi singgah di pati, area parkir cukup luas untuk mobil maupun motor untuk tempat makan kita bisa pilih di kursi2 di dalam resto atau gazebo2 di halaman belakang kebetulan dateng pas jam makan siang jadi penuh banget mesti waiting list untuk bisa nyari tempat di gazebo padahal di resto bagian depan gak gitu rame hihihi gazebo seperti kebanyakan terbuat dari kayu dengan ornamen lampu bambu dengan meja dan bantal2 untuk lesehan menu makanan lumayan banyak,harga dan rasa standart aja sih,pesen bebek bakar kulit bagian luarnya panas tapi daging dalemnya dingin mungkin baru dikluarin dr kulkas trus dibakar hihihihi,pelayanan juga rada lama mungkin karena lagi rush hour dan pengunjung buanyaaakk\n",
            "5.0\n",
            "tempatnya nyaman dan luas. cocok untuk bersantap bersama keluarga, atau acara acara lainnya seperti buka bersama\n",
            "5.0\n",
            "Ajaklah teman atau keluarga mampir ke rumah makan cabe, disini makanannya lengkap, penyajiannya cepat, dan yg gak kalah dr yang lain adalah rasanya yang super duper mantap 😋 yuuuk tunggu apa lagi\n",
            "4.0\n",
            "Makanannya enak enak, tempatnya cocok untuk kumpul keluarga. Rekomended banget🤩👌\n"
          ]
        }
      ]
    },
    {
      "cell_type": "code",
      "source": [
        "from serpapi import GoogleSearch\n",
        "\n",
        "params = {\n",
        "  \"api_key\": \"b77985061bea13234fff243aec3d87ae16559070f08d57000bdc60c437459935\",\n",
        "  \"engine\": \"google_maps_reviews\",\n",
        "  \"data_id\": \"0x2e70d24c19b06da5:0xa3a1e486438afa1f\",\n",
        "  \"hl\": \"id\"\n",
        "}\n",
        "\n",
        "search = GoogleSearch(params)\n",
        "results = search.get_dict()\n",
        "reviews = results[\"reviews\"]"
      ],
      "metadata": {
        "colab": {
          "base_uri": "https://localhost:8080/"
        },
        "id": "-jR3hjVpLUXu",
        "outputId": "e51cdc76-a2d7-4c4b-9116-c37926c68ffd"
      },
      "execution_count": null,
      "outputs": [
        {
          "output_type": "stream",
          "name": "stdout",
          "text": [
            "https://serpapi.com/search\n"
          ]
        }
      ]
    },
    {
      "cell_type": "code",
      "source": [
        "title =results[\"place_info\"][\"title\"]\n",
        "print(title)\n",
        "for i in range(10):\n",
        "  rating = results[\"reviews\"][i][\"rating\"]\n",
        "  print(rating)\n",
        "  reviews = results[\"reviews\"][i][\"snippet\"]\n",
        "  print(reviews)"
      ],
      "metadata": {
        "colab": {
          "base_uri": "https://localhost:8080/"
        },
        "id": "1V_yRYGoLle4",
        "outputId": "c342c5f0-b06b-49ae-cd07-fa4da6652607"
      },
      "execution_count": null,
      "outputs": [
        {
          "output_type": "stream",
          "name": "stdout",
          "text": [
            "Resto Surya\n",
            "5.0\n",
            "Rumah Makan Surya. Bersebelahan dengan supermarket Surya Baru. Dari luar mungkin kecil, tapi setelah masuk pasti luas. Tempat nya nyaman. Penerapan prokes lumayan baik. Pelayanannya cukup ramah. Makanannya tidak ada yang tidak enak kalau menurut saya. Puja koki Surya.\n",
            "5.0\n",
            "Restoran yang sudah sangat lama berdiri di kota pati. Yang membuat resto ini istimeea adalah rasa dari masakannnya tidak pernah berubah semenjak dulu. Walaupun agak pricey tapi sangat layak apabila ada keluarga yang datang dari jauh dan diajak makan disitu karena porsinya besar.\n",
            "3.0\n",
            "Berkunjung ke kota Pati, karena masih kenyang pesen bakso pangsit kuah, over all enak. Tapi... Mangkok yang disajikan ke saya cuil/gompal... Tentu terasa TDK nyaman... Hendak minta ganti mangkok tapi sungkan... Es tehnya jumbo... Tapi bagi saya kurang manis... Kunjungan pertama ini sy kasih bintang 3... Parkir space nya sdikit baik mobil dan motor... Kebetulan musim hujan... Yang bawa motor... Motornya kehujanan... Terima kasih... RESTO SURYA termasuk rekomendasi tempat makan yang nyaman dan bersih... Dari menu makanan nya menyehatkan dan lezat.\n",
            "2.0\n",
            "Mie bangka spesial tp rasanya tdk lbh enak dari indomie rebus, pelayanan krg memuaskan, menunggu lama, jutek dan makanan disaji tdk enak, tdk ada saos kecap malah ngumpul di pojokan ngerumpi, AC tdk boleh dinyalahkan krn sy dtg sndri padahal udara panas bgt,\n",
            "5.0\n",
            "Legendaris banget di kota Pati. Dari sejak aku kecil resto ini dah ada. Dari bentuk nya yg duku maaih reato rumahan sampai sekarang yang sudah bentuk cafe. Luar biasa progress nya. Letaknya sebelahan dengan surya yg supermarket. Kalo kesini slalu belanja dlu d surya supermarket trs makan d surya resto. Product nya yg ga pernah lekang oleh waktubitu krupuk bakso. D pati ada 2 brand, 1 lg merk gentong. Kalo ke Pati musti beli ya krupuk baso. Nah kalo mau makan d surya resto yg skrg tampilannya sudah kayak cafe ini. Menu fav ku yaitu mie kopyok, dan juga es nya enak2 lho... ada es surya atau es shanghai dll. Tinggal d pilih. Makanannya juga beragam bgt lho. Dr yg baso2 dan mie, ada yang seafood, chinese food, sampai tradiaional kayak nasi rames dan penyetan udang sama jangan bening (sayur bayam bening). Mantappp banget guys... tiap hari makan dsini juga ga akan bosan karena pilihan menunya buanyaakkk... sayang sekali aku ga ngefoto kemarin karena ruamai sekali, harus tunggu juga buat dapat kursi. Karena kemrin kita barwngan sama jam buka puasa. Silakan d coba ya kalo lagi ke Pati.... 👍👍👍👍👍👍\n",
            "4.0\n",
            "tempatnya dari luar terlihat kecil, tapi dalemnya kece abis,modern minimalis ada lantai 2 nya juga, menu lumayan bervariasi, kamar mandi bersih & wangi, tempat cuci tangan luas cuma pas makan kwetiaw sedikit overcook\n",
            "5.0\n",
            "Paling suka kalau kesini itu makan bakmi goreng seafood,,, rasanya enduuullll dengan porsi jumbonya dan es teh yang jumbo pula 🤩\n",
            "2.0\n",
            "Maaf kurang suka dgn pelayananya,,rencana mau makan bersama kluarga 15 org bareng 1 meja minta tempat diatas yg luas gk boleh alasanya dibawah masih kosong,sedangkan dibawah meja gk boleh digabung,,huhh y udah akhirnya cari rmh makan lain😔\n",
            "1.0\n",
            "Kita makan ber 5. 1meja cuma bisa 2 orang, mau tambah meja untuk dijadikan 1 pegawainya blg tidak boleh. Pegawainya bilang tidak boleh sama manajemennya.. Pelayanannya sangat mengecewakan. Rasa makanan memang enak tapi kalau pelayanan buruk, saya rasa banyak orang yang tidak akan kembali. Semoga kedepannya manajemennya diubah, tidak mengecewakan pelanggan. Terimakasih.\n",
            "1.0\n",
            "Baru kemarin ke sini. Tempat bagus. Makanan agak kurang si rasanya. Tp gpp lah its ok. Yg plg bikin males 1,2 bad banget pelayanannya. Apalagi mbaknya kasih wkwk judes. Kalo dimintain tolong buat foto agak susah.\n"
          ]
        }
      ]
    },
    {
      "cell_type": "code",
      "source": [
        "from serpapi import GoogleSearch\n",
        "\n",
        "params = {\n",
        "  \"api_key\": \"b77985061bea13234fff243aec3d87ae16559070f08d57000bdc60c437459935\",\n",
        "  \"engine\": \"google_maps_reviews\",\n",
        "  \"data_id\": \"0x2e70d33b0313bc57:0x926171ed7e2b1c52\",\n",
        "  \"hl\": \"id\"\n",
        "}\n",
        "\n",
        "search = GoogleSearch(params)\n",
        "results = search.get_dict()\n",
        "reviews = results[\"reviews\"]"
      ],
      "metadata": {
        "colab": {
          "base_uri": "https://localhost:8080/"
        },
        "id": "oionMHWTLsWp",
        "outputId": "b4ae134a-6fd8-49d2-8d16-06122014540d"
      },
      "execution_count": null,
      "outputs": [
        {
          "output_type": "stream",
          "name": "stdout",
          "text": [
            "https://serpapi.com/search\n"
          ]
        }
      ]
    },
    {
      "cell_type": "code",
      "source": [
        "title =results[\"place_info\"][\"title\"]\n",
        "print(title)\n",
        "for i in range(10):\n",
        "  rating = results[\"reviews\"][i][\"rating\"]\n",
        "  print(rating)\n",
        "  reviews = results[\"reviews\"][i][\"snippet\"]\n",
        "  print(reviews)"
      ],
      "metadata": {
        "colab": {
          "base_uri": "https://localhost:8080/"
        },
        "id": "ZEP6ozioL6vN",
        "outputId": "add21ac6-e334-488d-b7e4-105065c3a8eb"
      },
      "execution_count": null,
      "outputs": [
        {
          "output_type": "stream",
          "name": "stdout",
          "text": [
            "Warung tepi sawah\n",
            "5.0\n",
            "Enak semua masakannya, cobain udang balado sama patikoli goreng deh..endul surendull\n",
            "5.0\n",
            "Sambalnya laziiss, mantap punya, menunya banyak, rasanyapun gak kalah dengan sambalnya. Suasananya asli pinggir sawah.😂 Tapi malah menambah nyaman suasananya, lokasinya saja yang agak masuk, tapi jangan kuatir, truckpun bisa parkir dg leluasa disini. Harus dicoba buat yg belum pernah.\n",
            "4.0\n",
            "Enak..ikannya seger²\n",
            "5.0\n",
            "Pemandangan indah... Sambel e mak nyuss... Mantap... Selalu kangen pengen balik kesini lagi... Sambil menikmati pemandangan sungai & gunung... Makan ikan bakar... Josss...\n",
            "5.0\n",
            "Sambelnya uenaaak tenan... Bikin kangen selalu ingin kembali... Pedaaasnyaaa mantap... 😁👍👍👍 Tempatnya luas, pemandangannya keren... Sawah hijau & Gunung Muria...\n",
            "5.0\n",
            "Sambel e ueeenaaaak tenan...Tempe goreng + sambel mantap👍🏻👍🏻👍🏻\n",
            "5.0\n",
            "Makananya enak , tempatnya adem🤗\n",
            "5.0\n",
            "Bumbunya mantep🔥\n",
            "5.0\n",
            "(Diterjemahkan oleh Google) Makanan dan pemandangan luar biasa👍(Asli)Awesome food and view👍\n",
            "5.0\n",
            "Mantab lurr.. Uwenakk tenannn👍👍👍\n"
          ]
        }
      ]
    },
    {
      "cell_type": "code",
      "source": [
        "from serpapi import GoogleSearch\n",
        "\n",
        "params = {\n",
        "  \"api_key\": \"b77985061bea13234fff243aec3d87ae16559070f08d57000bdc60c437459935\",\n",
        "  \"engine\": \"google_maps_reviews\",\n",
        "  \"data_id\": \"0x2e70d3bc2a6fec2b:0x9e2f39d9cf50316b\",\n",
        "  \"hl\": \"id\"\n",
        "}\n",
        "\n",
        "search = GoogleSearch(params)\n",
        "results = search.get_dict()\n",
        "reviews = results[\"reviews\"]"
      ],
      "metadata": {
        "colab": {
          "base_uri": "https://localhost:8080/"
        },
        "id": "riqJkRomMGT7",
        "outputId": "c89d0602-0dd0-4a39-8294-bb30a7612cad"
      },
      "execution_count": null,
      "outputs": [
        {
          "output_type": "stream",
          "name": "stdout",
          "text": [
            "https://serpapi.com/search\n"
          ]
        }
      ]
    },
    {
      "cell_type": "code",
      "source": [
        "title =results[\"place_info\"][\"title\"]\n",
        "print(title)\n",
        "for i in range(10):\n",
        "  rating = results[\"reviews\"][i][\"rating\"]\n",
        "  print(rating)\n",
        "  reviews = results[\"reviews\"][i][\"snippet\"]\n",
        "  print(reviews)"
      ],
      "metadata": {
        "colab": {
          "base_uri": "https://localhost:8080/"
        },
        "id": "4kFCL1E5MiBf",
        "outputId": "596a39f2-d31e-4b23-b414-11588030c2b7"
      },
      "execution_count": null,
      "outputs": [
        {
          "output_type": "stream",
          "name": "stdout",
          "text": [
            "epicentree coffee and resto\n",
            "5.0\n",
            "Tempatnya asyik, nyaman buat ngobrol santai sama teman/keluarga. Rasa makanannya juga lumayan 👍🏼👍🏼\n",
            "5.0\n",
            "Ramah banget pelayanan. Makanan enak enakkkk.Tempat parkir perlu lebih luas 😁\n",
            "5.0\n",
            "Makanannya enakk2 banget, tempatnya nyaman juga dan gak berisik\n",
            "5.0\n",
            "tempatnya enak, bagus buat foto², pelayanannya ramah\n",
            "5.0\n",
            "Menu beragam. Mau makan berat, mau snack, ada. Minum juga banyak pilihan. Rasanya enak. Porsi juga memuaskan, gak pelit. Saya nyoba nasgor epicentree, enak. Crispy chicken steak-nya juga enak--saosnya mantap. Choco forest seger. Harga standar lah, ya. Masih affordable. Area luas, dan tempatnya unik. Cuma karena outdoor, ada nyamuk, ya siap-siap minyak aja sih. Waktu masaknya mungkin bisa diperbaiki karena cukup lama nunggunya.\n",
            "5.0\n",
            "Malam minggu ada live musik nya\n",
            "5.0\n",
            "Enak mantap makanan maupun kopinya, tempatnya juga nyaman, pelayanan ramah ☺️☺️☺️\n",
            "5.0\n",
            "nunggu bisa order via grab\n",
            "5.0\n",
            "Malam Minggu live musik\n",
            "5.0\n",
            "Enak\n"
          ]
        }
      ]
    }
  ]
}